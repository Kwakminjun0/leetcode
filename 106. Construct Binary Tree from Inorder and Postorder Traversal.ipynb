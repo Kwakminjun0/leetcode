{
 "cells": [
  {
   "cell_type": "code",
   "execution_count": null,
   "id": "b8aba0c2-1544-4dba-a9de-5da9d24a2750",
   "metadata": {},
   "outputs": [],
   "source": [
    "class Solution(object):\n",
    "    def buildTree(self, inorder, postorder):\n",
    "        \"\"\"\n",
    "        :type inorder: List[int]\n",
    "        :type postorder: List[int]\n",
    "        :rtype: TreeNode\n",
    "        \"\"\"\n",
    "        # Base case\n",
    "        if not inorder:\n",
    "            return None\n",
    "        \n",
    "        # The last element of postorder list is the root\n",
    "        root_val = postorder.pop()\n",
    "        root = TreeNode(root_val)\n",
    "        \n",
    "        # Find the position of the root in the inorder list\n",
    "        inorder_index = inorder.index(root_val)\n",
    "        \n",
    "        # Recursively build the left and right subtrees\n",
    "        root.right = self.buildTree(inorder[inorder_index+1:], postorder)\n",
    "        root.left = self.buildTree(inorder[:inorder_index], postorder)\n",
    "        \n",
    "        return root"
   ]
  }
 ],
 "metadata": {
  "kernelspec": {
   "display_name": "Python 3 (ipykernel)",
   "language": "python",
   "name": "python3"
  },
  "language_info": {
   "codemirror_mode": {
    "name": "ipython",
    "version": 3
   },
   "file_extension": ".py",
   "mimetype": "text/x-python",
   "name": "python",
   "nbconvert_exporter": "python",
   "pygments_lexer": "ipython3",
   "version": "3.12.4"
  }
 },
 "nbformat": 4,
 "nbformat_minor": 5
}
