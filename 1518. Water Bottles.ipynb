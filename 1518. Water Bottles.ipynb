{
 "cells": [
  {
   "cell_type": "code",
   "execution_count": null,
   "id": "d2723761",
   "metadata": {},
   "outputs": [],
   "source": [
    "class Solution(object):\n",
    "    def numWaterBottles(self, numBottles, numExchange):\n",
    "        \"\"\"\n",
    "        :type numBottles: int\n",
    "        :type numExchange: int\n",
    "        :rtype: int\n",
    "        \"\"\"\n",
    "        totalBottlesDrank = numBottles\n",
    "        \n",
    "        # Continue exchanging bottles until we cannot exchange anymore\n",
    "        while numBottles >= numExchange:\n",
    "            # Calculate how many full bottles can be obtained by exchanging empty bottles\n",
    "            fullBottles = numBottles // numExchange\n",
    "            # Update the total number of bottles drank\n",
    "            totalBottlesDrank += fullBottles\n",
    "            # Calculate the remaining bottles after exchanging\n",
    "            numBottles = numBottles % numExchange + fullBottles\n",
    "        \n",
    "        return totalBottlesDrank"
   ]
  }
 ],
 "metadata": {
  "kernelspec": {
   "display_name": "Python 3 (ipykernel)",
   "language": "python",
   "name": "python3"
  },
  "language_info": {
   "codemirror_mode": {
    "name": "ipython",
    "version": 3
   },
   "file_extension": ".py",
   "mimetype": "text/x-python",
   "name": "python",
   "nbconvert_exporter": "python",
   "pygments_lexer": "ipython3",
   "version": "3.9.12"
  }
 },
 "nbformat": 4,
 "nbformat_minor": 5
}
