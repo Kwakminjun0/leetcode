{
 "cells": [
  {
   "cell_type": "code",
   "execution_count": null,
   "id": "81433a8f",
   "metadata": {},
   "outputs": [],
   "source": [
    "class Solution(object):\n",
    "    def soupServings(self, n):\n",
    "        \"\"\"\n",
    "        :type n: int\n",
    "        :rtype: float\n",
    "        \"\"\"\n",
    "        if n > 4800:  # Based on the given constraint and approximation, n > 4800 will result in probability ~ 1.\n",
    "            return 1.0\n",
    "        \n",
    "        # Using memoization to store the results of subproblems\n",
    "        memo = {}\n",
    "        \n",
    "        def dp(a, b):\n",
    "            if a <= 0 and b <= 0:\n",
    "                return 0.5\n",
    "            if a <= 0:\n",
    "                return 1.0\n",
    "            if b <= 0:\n",
    "                return 0.0\n",
    "            if (a, b) in memo:\n",
    "                return memo[(a, b)]\n",
    "            \n",
    "            memo[(a, b)] = 0.25 * (dp(a - 100, b) + dp(a - 75, b - 25) + dp(a - 50, b - 50) + dp(a - 25, b - 75))\n",
    "            return memo[(a, b)]\n",
    "        \n",
    "        return dp(n, n)"
   ]
  }
 ],
 "metadata": {
  "kernelspec": {
   "display_name": "Python 3 (ipykernel)",
   "language": "python",
   "name": "python3"
  },
  "language_info": {
   "codemirror_mode": {
    "name": "ipython",
    "version": 3
   },
   "file_extension": ".py",
   "mimetype": "text/x-python",
   "name": "python",
   "nbconvert_exporter": "python",
   "pygments_lexer": "ipython3",
   "version": "3.9.12"
  }
 },
 "nbformat": 4,
 "nbformat_minor": 5
}
