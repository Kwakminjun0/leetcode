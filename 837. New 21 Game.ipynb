{
 "cells": [
  {
   "cell_type": "code",
   "execution_count": null,
   "id": "fc1c05e6",
   "metadata": {},
   "outputs": [],
   "source": [
    "class Solution(object):\n",
    "    def new21Game(self, n, k, maxPts):\n",
    "        \"\"\"\n",
    "        :type n: int\n",
    "        :type k: int\n",
    "        :type maxPts: int\n",
    "        :rtype: float\n",
    "        \"\"\"\n",
    "        if k == 0 or n >= k + maxPts - 1:\n",
    "            return 1.0\n",
    "        \n",
    "        dp = [0.0] * (n + 1)\n",
    "        dp[0] = 1.0\n",
    "        window_sum = 1.0\n",
    "        result = 0.0\n",
    "        \n",
    "        for i in range(1, n + 1):\n",
    "            dp[i] = window_sum / maxPts\n",
    "            if i < k:\n",
    "                window_sum += dp[i]\n",
    "            else:\n",
    "                result += dp[i]\n",
    "            if i - maxPts >= 0:\n",
    "                window_sum -= dp[i - maxPts]\n",
    "        \n",
    "        return result"
   ]
  }
 ],
 "metadata": {
  "kernelspec": {
   "display_name": "Python 3 (ipykernel)",
   "language": "python",
   "name": "python3"
  },
  "language_info": {
   "codemirror_mode": {
    "name": "ipython",
    "version": 3
   },
   "file_extension": ".py",
   "mimetype": "text/x-python",
   "name": "python",
   "nbconvert_exporter": "python",
   "pygments_lexer": "ipython3",
   "version": "3.9.12"
  }
 },
 "nbformat": 4,
 "nbformat_minor": 5
}
