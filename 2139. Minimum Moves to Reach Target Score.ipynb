{
 "cells": [
  {
   "cell_type": "code",
   "execution_count": null,
   "id": "0eed99ca",
   "metadata": {},
   "outputs": [],
   "source": [
    "class Solution(object):\n",
    "    def minMoves(self, target, maxDoubles):\n",
    "        \"\"\"\n",
    "        :type target: int\n",
    "        :type maxDoubles: int\n",
    "        :rtype: int\n",
    "        \"\"\"\n",
    "        res = 0\n",
    "        while maxDoubles > 0 and target > 1:\n",
    "            if target&1==1:\n",
    "                target = target - 1\n",
    "            else:\n",
    "                target = target / 2\n",
    "                maxDoubles = maxDoubles - 1\n",
    "            res = res + 1\n",
    "        return  res + (target-1)"
   ]
  }
 ],
 "metadata": {
  "kernelspec": {
   "display_name": "Python 3 (ipykernel)",
   "language": "python",
   "name": "python3"
  },
  "language_info": {
   "codemirror_mode": {
    "name": "ipython",
    "version": 3
   },
   "file_extension": ".py",
   "mimetype": "text/x-python",
   "name": "python",
   "nbconvert_exporter": "python",
   "pygments_lexer": "ipython3",
   "version": "3.9.12"
  }
 },
 "nbformat": 4,
 "nbformat_minor": 5
}
