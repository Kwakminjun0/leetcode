{
 "cells": [
  {
   "cell_type": "code",
   "execution_count": null,
   "id": "3bb3db8d-4b22-4bb2-a686-69cc85686ca2",
   "metadata": {},
   "outputs": [],
   "source": [
    "class Solution(object):\n",
    "    def insert(self, intervals, newInterval):\n",
    "        if not intervals:\n",
    "            return [newInterval]\n",
    "        \n",
    "        res = []\n",
    "        temp_start = newInterval[0]\n",
    "        temp_end = newInterval[1]\n",
    "        inserted = False\n",
    "        \n",
    "        for interval in intervals:\n",
    "            if interval[1] < newInterval[0]:\n",
    "                res.append(interval)\n",
    "            elif interval[0] > newInterval[1]:\n",
    "                if not inserted:\n",
    "                    res.append([temp_start, temp_end])\n",
    "                    inserted = True\n",
    "                res.append(interval)\n",
    "            else:\n",
    "                temp_start = min(temp_start, interval[0])\n",
    "                temp_end = max(temp_end, interval[1])\n",
    "        \n",
    "        if not inserted:\n",
    "            res.append([temp_start, temp_end])\n",
    "        \n",
    "        return res\n",
    "        "
   ]
  }
 ],
 "metadata": {
  "kernelspec": {
   "display_name": "Python 3 (ipykernel)",
   "language": "python",
   "name": "python3"
  },
  "language_info": {
   "codemirror_mode": {
    "name": "ipython",
    "version": 3
   },
   "file_extension": ".py",
   "mimetype": "text/x-python",
   "name": "python",
   "nbconvert_exporter": "python",
   "pygments_lexer": "ipython3",
   "version": "3.12.4"
  }
 },
 "nbformat": 4,
 "nbformat_minor": 5
}
