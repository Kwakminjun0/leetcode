{
 "cells": [
  {
   "cell_type": "code",
   "execution_count": null,
   "id": "1a17918c",
   "metadata": {},
   "outputs": [],
   "source": [
    "MOD = 10**9 + 7\n",
    "\n",
    "class Solution(object):\n",
    "    def numMusicPlaylists(self, n, goal, k):\n",
    "        \"\"\"\n",
    "        :type n: int\n",
    "        :type goal: int\n",
    "        :type k: int\n",
    "        :rtype: int\n",
    "        \"\"\"\n",
    "        dp = [[0] * (goal + 1) for _ in range(n + 1)]\n",
    "        dp[0][0] = 1\n",
    "        \n",
    "        for i in range(1, n + 1):\n",
    "            for j in range(1, goal + 1):\n",
    "                # Add a new song not used in the previous i-1 songs\n",
    "                dp[i][j] += dp[i-1][j-1] * (n - i + 1)\n",
    "                dp[i][j] %= MOD\n",
    "                \n",
    "                # Reuse an old song\n",
    "                if i > k:\n",
    "                    dp[i][j] += dp[i][j-1] * (i - k)\n",
    "                    dp[i][j] %= MOD\n",
    "        \n",
    "        return dp[n][goal]"
   ]
  }
 ],
 "metadata": {
  "kernelspec": {
   "display_name": "Python 3 (ipykernel)",
   "language": "python",
   "name": "python3"
  },
  "language_info": {
   "codemirror_mode": {
    "name": "ipython",
    "version": 3
   },
   "file_extension": ".py",
   "mimetype": "text/x-python",
   "name": "python",
   "nbconvert_exporter": "python",
   "pygments_lexer": "ipython3",
   "version": "3.9.12"
  }
 },
 "nbformat": 4,
 "nbformat_minor": 5
}
