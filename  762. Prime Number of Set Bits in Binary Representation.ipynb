{
 "cells": [
  {
   "cell_type": "code",
   "execution_count": null,
   "id": "f2eb369d",
   "metadata": {},
   "outputs": [],
   "source": [
    "class Solution(object):\n",
    "    def countPrimeSetBits(self, left, right):\n",
    "        \"\"\"\n",
    "        :type left: int\n",
    "        :type right: int\n",
    "        :rtype: int\n",
    "        \"\"\"\n",
    "        def count_set_bits(num):\n",
    "            count = 0\n",
    "            while num:\n",
    "                count += num & 1\n",
    "                num >>= 1\n",
    "            return count\n",
    "        \n",
    "        def is_prime(num):\n",
    "            if num <= 1:\n",
    "                return False\n",
    "            for i in range(2, int(num ** 0.5) + 1):\n",
    "                if num % i == 0:\n",
    "                    return False\n",
    "            return True\n",
    "        \n",
    "        count = 0\n",
    "        for num in range(left, right + 1):\n",
    "            if is_prime(count_set_bits(num)):\n",
    "                count += 1\n",
    "        return count"
   ]
  }
 ],
 "metadata": {
  "kernelspec": {
   "display_name": "Python 3 (ipykernel)",
   "language": "python",
   "name": "python3"
  },
  "language_info": {
   "codemirror_mode": {
    "name": "ipython",
    "version": 3
   },
   "file_extension": ".py",
   "mimetype": "text/x-python",
   "name": "python",
   "nbconvert_exporter": "python",
   "pygments_lexer": "ipython3",
   "version": "3.9.12"
  }
 },
 "nbformat": 4,
 "nbformat_minor": 5
}
