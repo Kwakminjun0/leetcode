{
 "cells": [
  {
   "cell_type": "code",
   "execution_count": null,
   "id": "0a3ad469",
   "metadata": {},
   "outputs": [],
   "source": [
    "class Solution(object):\n",
    "    def gcd(self, a, b):\n",
    "        # Euclidean algorithm to find GCD\n",
    "        while b:\n",
    "            a, b = b, a % b\n",
    "        return a\n",
    "    \n",
    "    def countDivisors(self, n):\n",
    "        # Count the number of divisors of n\n",
    "        divisors = 0\n",
    "        for i in range(1, int(n ** 0.5) + 1):\n",
    "            if n % i == 0:\n",
    "                # If i is a divisor, increment the count by 1\n",
    "                divisors += 1\n",
    "                # If i is not the square root of n, then n / i is also a divisor\n",
    "                if i != n // i:\n",
    "                    divisors += 1\n",
    "        return divisors\n",
    "    \n",
    "    def commonFactors(self, a, b):\n",
    "        # Find the GCD of a and b\n",
    "        gcd_ab = self.gcd(a, b)\n",
    "        \n",
    "        # Count the number of divisors of the GCD\n",
    "        return self.countDivisors(gcd_ab)\n",
    "        "
   ]
  }
 ],
 "metadata": {
  "kernelspec": {
   "display_name": "Python 3 (ipykernel)",
   "language": "python",
   "name": "python3"
  },
  "language_info": {
   "codemirror_mode": {
    "name": "ipython",
    "version": 3
   },
   "file_extension": ".py",
   "mimetype": "text/x-python",
   "name": "python",
   "nbconvert_exporter": "python",
   "pygments_lexer": "ipython3",
   "version": "3.9.12"
  }
 },
 "nbformat": 4,
 "nbformat_minor": 5
}
