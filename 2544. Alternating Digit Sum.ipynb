{
 "cells": [
  {
   "cell_type": "code",
   "execution_count": null,
   "id": "25d2d3bf",
   "metadata": {},
   "outputs": [],
   "source": [
    "class Solution(object):\n",
    "    def alternateDigitSum(self, n):\n",
    "        \"\"\"\n",
    "        :type n: int\n",
    "        :rtype: int\n",
    "        \"\"\"\n",
    "        # Convert the integer to a string to iterate through each digit\n",
    "        num_str = str(n)\n",
    "        # Initialize the sum to store the result\n",
    "        total_sum = 0\n",
    "        # Iterate through each digit\n",
    "        for i in range(len(num_str)):\n",
    "            # Assign the sign based on the index\n",
    "            sign = 1 if (i % 2 == 0) else -1\n",
    "            # Add/subtract the digit with its sign to the total sum\n",
    "            total_sum += sign * int(num_str[i])\n",
    "        return total_sum"
   ]
  }
 ],
 "metadata": {
  "kernelspec": {
   "display_name": "Python 3 (ipykernel)",
   "language": "python",
   "name": "python3"
  },
  "language_info": {
   "codemirror_mode": {
    "name": "ipython",
    "version": 3
   },
   "file_extension": ".py",
   "mimetype": "text/x-python",
   "name": "python",
   "nbconvert_exporter": "python",
   "pygments_lexer": "ipython3",
   "version": "3.9.12"
  }
 },
 "nbformat": 4,
 "nbformat_minor": 5
}
