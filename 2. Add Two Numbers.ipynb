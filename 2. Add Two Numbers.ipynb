{
 "cells": [
  {
   "cell_type": "code",
   "execution_count": 1,
   "id": "3f36c97d",
   "metadata": {},
   "outputs": [],
   "source": [
    "class Solution(object):\n",
    "    def addTwoNumbers(self, l1, l2):\n",
    "        \"\"\"\n",
    "        :type l1: ListNode\n",
    "        :type l2: ListNode\n",
    "        :rtype: ListNode\n",
    "        \"\"\"\n",
    "        dummy = ListNode(0)\n",
    "        current = dummy\n",
    "        carry = 0\n",
    "\n",
    "        # Loop through nodes in l1 and l2\n",
    "        while l1 or l2 or carry:\n",
    "            # Get the current values, defaulting to 0 if the node is None\n",
    "            val1 = l1.val if l1 else 0\n",
    "            val2 = l2.val if l2 else 0\n",
    "\n",
    "            # Calculate the total sum and the new carry\n",
    "            total = val1 + val2 + carry\n",
    "            carry = total // 10\n",
    "            new_val = total % 10\n",
    "\n",
    "            # Create a new node with the calculated value and attach it to the result list\n",
    "            current.next = ListNode(new_val)\n",
    "            current = current.next\n",
    "\n",
    "            # Move to the next nodes in l1 and l2 if they exist\n",
    "            if l1:\n",
    "                l1 = l1.next\n",
    "            if l2:\n",
    "                l2 = l2.next\n",
    "\n",
    "        # Return the next node of the dummy, as the dummy node is a placeholder\n",
    "        return dummy.next\n"
   ]
  }
 ],
 "metadata": {
  "kernelspec": {
   "display_name": "Python 3 (ipykernel)",
   "language": "python",
   "name": "python3"
  },
  "language_info": {
   "codemirror_mode": {
    "name": "ipython",
    "version": 3
   },
   "file_extension": ".py",
   "mimetype": "text/x-python",
   "name": "python",
   "nbconvert_exporter": "python",
   "pygments_lexer": "ipython3",
   "version": "3.9.12"
  }
 },
 "nbformat": 4,
 "nbformat_minor": 5
}
