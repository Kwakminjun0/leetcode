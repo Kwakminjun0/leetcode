{
 "cells": [
  {
   "cell_type": "code",
   "execution_count": null,
   "id": "ff5e519d",
   "metadata": {},
   "outputs": [],
   "source": [
    "class Solution(object):\n",
    "    def complexNumberMultiply(self, num1, num2):\n",
    "        \"\"\"\n",
    "        :type num1: str\n",
    "        :type num2: str\n",
    "        :rtype: str\n",
    "        \"\"\"\n",
    "        i = 0\n",
    "        while True:\n",
    "            if num1[i]=='+' and num1[:i]!=\"\" or num1[i]=='-' and num1[:i]!=\"\":\n",
    "                c1 = num1[i]\n",
    "                break\n",
    "            elif num1[i]=='i':\n",
    "                continue\n",
    "            else:\n",
    "                i+=1\n",
    "        \n",
    "        a1 = num1[:i]\n",
    "        b1 = num1[i+1:]\n",
    "\n",
    "        i = 0\n",
    "        while True:\n",
    "            print(num2[i])\n",
    "            if num2[i]=='+' and num2[:i]!=\"\" or num2[i]=='-' and num2[:i]!=\"\" :\n",
    "                c2 = num2[i]\n",
    "                break\n",
    "            else:\n",
    "                i+=1\n",
    "\n",
    "        a2 = num2[:i]\n",
    "        b2 = num2[i+1:]\n",
    "        \n",
    "        r = int(a1)*int(a2)-(int(b1[:len(b1)-1])*int(b2[:len(b2)-1]))\n",
    "        c = (int(a1)*int(b2[:len(b2)-1]))+(int(a2)*int(b1[:len(b1)-1]))\n",
    "\n",
    "        return str(r)+'+'+str(c)+'i'"
   ]
  }
 ],
 "metadata": {
  "kernelspec": {
   "display_name": "Python 3 (ipykernel)",
   "language": "python",
   "name": "python3"
  },
  "language_info": {
   "codemirror_mode": {
    "name": "ipython",
    "version": 3
   },
   "file_extension": ".py",
   "mimetype": "text/x-python",
   "name": "python",
   "nbconvert_exporter": "python",
   "pygments_lexer": "ipython3",
   "version": "3.9.12"
  }
 },
 "nbformat": 4,
 "nbformat_minor": 5
}
