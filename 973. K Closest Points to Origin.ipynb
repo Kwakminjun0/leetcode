{
 "cells": [
  {
   "cell_type": "code",
   "execution_count": null,
   "id": "f481e04f",
   "metadata": {},
   "outputs": [],
   "source": [
    "import heapq\n",
    "\n",
    "class Solution:\n",
    "    def kClosest(self, points, k):\n",
    "        \"\"\"\n",
    "        :type points: List[List[int]]\n",
    "        :type k: int\n",
    "        :rtype: List[List[int]]\n",
    "        \"\"\"\n",
    "        # Define a priority queue to store points based on their distance from the origin\n",
    "        pq = []\n",
    "\n",
    "        # Push each point into the priority queue along with its distance from the origin\n",
    "        for point in points:\n",
    "            distance = point[0] ** 2 + point[1] ** 2\n",
    "            heapq.heappush(pq, (distance, point))\n",
    "\n",
    "        # Pop the k closest points from the priority queue\n",
    "        result = []\n",
    "        for _ in range(k):\n",
    "            result.append(heapq.heappop(pq)[1])\n",
    "\n",
    "        return result"
   ]
  }
 ],
 "metadata": {
  "kernelspec": {
   "display_name": "Python 3 (ipykernel)",
   "language": "python",
   "name": "python3"
  },
  "language_info": {
   "codemirror_mode": {
    "name": "ipython",
    "version": 3
   },
   "file_extension": ".py",
   "mimetype": "text/x-python",
   "name": "python",
   "nbconvert_exporter": "python",
   "pygments_lexer": "ipython3",
   "version": "3.9.12"
  }
 },
 "nbformat": 4,
 "nbformat_minor": 5
}
