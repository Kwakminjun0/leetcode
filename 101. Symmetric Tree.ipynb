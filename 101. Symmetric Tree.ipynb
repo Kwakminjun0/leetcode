{
 "cells": [
  {
   "cell_type": "code",
   "execution_count": null,
   "id": "f5531565-fe2b-4c9f-95d8-f1772a67d366",
   "metadata": {},
   "outputs": [],
   "source": [
    "class Solution(object):\n",
    "    def isSymmetric(self, root):\n",
    "        \"\"\"\n",
    "        :type root: TreeNode\n",
    "        :rtype: bool\n",
    "        \"\"\"\n",
    "        if root is None:\n",
    "            return True\n",
    "        \n",
    "        return self.rootReflection(root.left, root.right)\n",
    "\n",
    "    \n",
    "    def rootReflection(self, leftroot, rightroot):\n",
    "        \n",
    "        if leftroot and rightroot:\n",
    "            return leftroot.val==rightroot.val and self.rootReflection(leftroot.left, rightroot.right) and self.rootReflection(leftroot.right, rightroot.left)\n",
    "        \n",
    "        return leftroot==rightroot\n",
    "        "
   ]
  }
 ],
 "metadata": {
  "kernelspec": {
   "display_name": "Python 3 (ipykernel)",
   "language": "python",
   "name": "python3"
  },
  "language_info": {
   "codemirror_mode": {
    "name": "ipython",
    "version": 3
   },
   "file_extension": ".py",
   "mimetype": "text/x-python",
   "name": "python",
   "nbconvert_exporter": "python",
   "pygments_lexer": "ipython3",
   "version": "3.12.4"
  }
 },
 "nbformat": 4,
 "nbformat_minor": 5
}
