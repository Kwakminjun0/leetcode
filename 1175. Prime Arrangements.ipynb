{
 "cells": [
  {
   "cell_type": "code",
   "execution_count": null,
   "id": "b8052b42",
   "metadata": {},
   "outputs": [],
   "source": [
    "class Solution(object):\n",
    "    def numPrimeArrangements(self, n):\n",
    "        \"\"\"\n",
    "        :type n: int\n",
    "        :rtype: int\n",
    "        \"\"\"\n",
    "        MOD = 10**9 + 7\n",
    "\n",
    "        # Sieve of Eratosthenes to find all primes up to n\n",
    "        def sieve(n):\n",
    "            is_prime = [True] * (n + 1)\n",
    "            is_prime[0] = is_prime[1] = False  # 0 and 1 are not primes\n",
    "            for i in range(2, int(n**0.5) + 1):\n",
    "                if is_prime[i]:\n",
    "                    for j in range(i*i, n + 1, i):\n",
    "                        is_prime[j] = False\n",
    "            return is_prime\n",
    "\n",
    "        # Count the number of primes up to n\n",
    "        primes = sieve(n)\n",
    "        prime_count = sum(primes)\n",
    "\n",
    "        # Calculate factorial % MOD\n",
    "        def factorial(num):\n",
    "            result = 1\n",
    "            for i in range(2, num + 1):\n",
    "                result = result * i % MOD\n",
    "            return result\n",
    "\n",
    "        # Number of non-prime numbers up to n\n",
    "        non_prime_count = n - prime_count\n",
    "\n",
    "        # Number of permutations\n",
    "        prime_permutations = factorial(prime_count)\n",
    "        non_prime_permutations = factorial(non_prime_count)\n",
    "\n",
    "        # Result is the product of both permutations\n",
    "        return prime_permutations * non_prime_permutations % MOD"
   ]
  }
 ],
 "metadata": {
  "kernelspec": {
   "display_name": "Python 3 (ipykernel)",
   "language": "python",
   "name": "python3"
  },
  "language_info": {
   "codemirror_mode": {
    "name": "ipython",
    "version": 3
   },
   "file_extension": ".py",
   "mimetype": "text/x-python",
   "name": "python",
   "nbconvert_exporter": "python",
   "pygments_lexer": "ipython3",
   "version": "3.9.12"
  }
 },
 "nbformat": 4,
 "nbformat_minor": 5
}
