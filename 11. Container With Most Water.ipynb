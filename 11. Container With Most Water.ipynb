{
 "cells": [
  {
   "cell_type": "code",
   "execution_count": null,
   "id": "e2c31d21-cf26-456a-a263-1c5d4f218b9c",
   "metadata": {},
   "outputs": [],
   "source": [
    "class Solution:\n",
    "    def maxArea(self, height):\n",
    "        left, right = 0, len(height) - 1\n",
    "        max_area = 0\n",
    "\n",
    "        while left < right:\n",
    "            # Calculate the area between the two lines\n",
    "            width = right - left\n",
    "            min_height = min(height[left], height[right])\n",
    "            max_area = max(max_area, width * min_height)\n",
    "\n",
    "            # Move the pointer pointing to the shorter line\n",
    "            if height[left] < height[right]:\n",
    "                left += 1\n",
    "            else:\n",
    "                right -= 1\n",
    "\n",
    "        return max_area"
   ]
  }
 ],
 "metadata": {
  "kernelspec": {
   "display_name": "Python 3 (ipykernel)",
   "language": "python",
   "name": "python3"
  },
  "language_info": {
   "codemirror_mode": {
    "name": "ipython",
    "version": 3
   },
   "file_extension": ".py",
   "mimetype": "text/x-python",
   "name": "python",
   "nbconvert_exporter": "python",
   "pygments_lexer": "ipython3",
   "version": "3.12.4"
  }
 },
 "nbformat": 4,
 "nbformat_minor": 5
}
