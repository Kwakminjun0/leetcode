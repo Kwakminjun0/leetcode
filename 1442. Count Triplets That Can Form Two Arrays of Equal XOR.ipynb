{
 "cells": [
  {
   "cell_type": "code",
   "execution_count": null,
   "id": "c0271e77",
   "metadata": {},
   "outputs": [],
   "source": [
    "class Solution(object):\n",
    "    def countTriplets(self, arr):\n",
    "        \"\"\"\n",
    "        :type arr: List[int]\n",
    "        :rtype: int\n",
    "        \"\"\"\n",
    "        n = len(arr)\n",
    "        count = 0\n",
    "\n",
    "        for i in range(n):\n",
    "            xor_a = 0\n",
    "            for j in range(i, n):\n",
    "                xor_a ^= arr[j]\n",
    "                xor_b = 0\n",
    "                for k in range(j + 1, n):\n",
    "                    xor_b ^= arr[k]\n",
    "                    if xor_a == xor_b:\n",
    "                        count += 1\n",
    "\n",
    "        return count"
   ]
  }
 ],
 "metadata": {
  "kernelspec": {
   "display_name": "Python 3 (ipykernel)",
   "language": "python",
   "name": "python3"
  },
  "language_info": {
   "codemirror_mode": {
    "name": "ipython",
    "version": 3
   },
   "file_extension": ".py",
   "mimetype": "text/x-python",
   "name": "python",
   "nbconvert_exporter": "python",
   "pygments_lexer": "ipython3",
   "version": "3.9.12"
  }
 },
 "nbformat": 4,
 "nbformat_minor": 5
}
