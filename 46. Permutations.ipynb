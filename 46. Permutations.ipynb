{
 "cells": [
  {
   "cell_type": "code",
   "execution_count": null,
   "id": "31f0edbc-81e9-4322-bdff-5ec3b5d1aa94",
   "metadata": {},
   "outputs": [],
   "source": [
    "class Solution(object):\n",
    "    def permute(self, nums):\n",
    "        def backtrack(start):\n",
    "            if start == len(nums):\n",
    "                permutations.append(nums[:])\n",
    "            else:\n",
    "                for i in range(start, len(nums)):\n",
    "                    nums[start], nums[i] = nums[i], nums[start]\n",
    "                    backtrack(start + 1)\n",
    "                    nums[start], nums[i] = nums[i], nums[start]\n",
    "\n",
    "        permutations = []\n",
    "        backtrack(0)\n",
    "        return permutations"
   ]
  }
 ],
 "metadata": {
  "kernelspec": {
   "display_name": "Python 3 (ipykernel)",
   "language": "python",
   "name": "python3"
  },
  "language_info": {
   "codemirror_mode": {
    "name": "ipython",
    "version": 3
   },
   "file_extension": ".py",
   "mimetype": "text/x-python",
   "name": "python",
   "nbconvert_exporter": "python",
   "pygments_lexer": "ipython3",
   "version": "3.12.4"
  }
 },
 "nbformat": 4,
 "nbformat_minor": 5
}
