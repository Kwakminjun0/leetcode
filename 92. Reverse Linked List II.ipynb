{
 "cells": [
  {
   "cell_type": "code",
   "execution_count": null,
   "id": "e96c8d7a-cc06-405d-8816-52697d4dcb89",
   "metadata": {},
   "outputs": [],
   "source": [
    "class Solution:\n",
    "    # @param head, a ListNode\n",
    "    # @param m, an integer\n",
    "    # @param n, an integer\n",
    "    # @return a ListNode\n",
    "    def reverseBetween(self, head, m, n):\n",
    "        if m == n:\n",
    "            return head\n",
    "\n",
    "        dummyNode = ListNode(0)\n",
    "        dummyNode.next = head\n",
    "        pre = dummyNode\n",
    "\n",
    "        for i in range(m - 1):\n",
    "            pre = pre.next\n",
    "        \n",
    "        # reverse the [m, n] nodes\n",
    "        reverse = None\n",
    "        cur = pre.next\n",
    "        for i in range(n - m + 1):\n",
    "            next = cur.next\n",
    "            cur.next = reverse\n",
    "            reverse = cur\n",
    "            cur = next\n",
    "\n",
    "        pre.next.next = cur\n",
    "        pre.next = reverse\n",
    "\n",
    "        return dummyNode.next"
   ]
  }
 ],
 "metadata": {
  "kernelspec": {
   "display_name": "Python 3 (ipykernel)",
   "language": "python",
   "name": "python3"
  },
  "language_info": {
   "codemirror_mode": {
    "name": "ipython",
    "version": 3
   },
   "file_extension": ".py",
   "mimetype": "text/x-python",
   "name": "python",
   "nbconvert_exporter": "python",
   "pygments_lexer": "ipython3",
   "version": "3.12.4"
  }
 },
 "nbformat": 4,
 "nbformat_minor": 5
}
