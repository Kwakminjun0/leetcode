{
 "cells": [
  {
   "cell_type": "code",
   "execution_count": null,
   "id": "20074f92",
   "metadata": {},
   "outputs": [],
   "source": [
    "import random\n",
    "import bisect\n",
    "\n",
    "class Solution:\n",
    "\n",
    "    def __init__(self, rects):\n",
    "        \"\"\"\n",
    "        :type rects: List[List[int]]\n",
    "        \"\"\"\n",
    "        self.rects = rects\n",
    "        self.weights = []\n",
    "        self.total_points = 0\n",
    "\n",
    "        for rect in rects:\n",
    "            ai, bi, xi, yi = rect\n",
    "            num_points = (xi - ai + 1) * (yi - bi + 1)\n",
    "            self.total_points += num_points\n",
    "            self.weights.append(self.total_points)\n",
    "    \n",
    "    def pick(self):\n",
    "        \"\"\"\n",
    "        :rtype: List[int]\n",
    "        \"\"\"\n",
    "        point_index = random.randint(1, self.total_points)\n",
    "        rect_index = bisect.bisect_left(self.weights, point_index)\n",
    "        \n",
    "        rect = self.rects[rect_index]\n",
    "        ai, bi, xi, yi = rect\n",
    "        \n",
    "        x = random.randint(ai, xi)\n",
    "        y = random.randint(bi, yi)\n",
    "        \n",
    "        return [x, y]"
   ]
  }
 ],
 "metadata": {
  "kernelspec": {
   "display_name": "Python 3 (ipykernel)",
   "language": "python",
   "name": "python3"
  },
  "language_info": {
   "codemirror_mode": {
    "name": "ipython",
    "version": 3
   },
   "file_extension": ".py",
   "mimetype": "text/x-python",
   "name": "python",
   "nbconvert_exporter": "python",
   "pygments_lexer": "ipython3",
   "version": "3.9.12"
  }
 },
 "nbformat": 4,
 "nbformat_minor": 5
}
