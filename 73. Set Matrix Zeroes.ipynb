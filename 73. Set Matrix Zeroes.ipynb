{
 "cells": [
  {
   "cell_type": "code",
   "execution_count": null,
   "id": "6be80ad7-4162-411e-8cb2-afebde749d9d",
   "metadata": {},
   "outputs": [],
   "source": [
    "class Solution(object):\n",
    "    def setZeroes(self, matrix):\n",
    "        \"\"\"\n",
    "        :type matrix: List[List[int]]\n",
    "        :rtype: None Do not return anything, modify matrix in-place instead.\n",
    "        \"\"\"\n",
    "        rows, cols = len(matrix), len(matrix[0])\n",
    "        zero_rows, zero_cols = set(), set()\n",
    "\n",
    "        # First pass: record the rows and columns that are to be zeroed\n",
    "        for i in range(rows):\n",
    "            for j in range(cols):\n",
    "                if matrix[i][j] == 0:\n",
    "                    zero_rows.add(i)\n",
    "                    zero_cols.add(j)\n",
    "\n",
    "        # Second pass: set the rows to zero\n",
    "        for row in zero_rows:\n",
    "            for j in range(cols):\n",
    "                matrix[row][j] = 0\n",
    "\n",
    "        # Third pass: set the columns to zero\n",
    "        for col in zero_cols:\n",
    "            for i in range(rows):\n",
    "                matrix[i][col] = 0"
   ]
  }
 ],
 "metadata": {
  "kernelspec": {
   "display_name": "Python 3 (ipykernel)",
   "language": "python",
   "name": "python3"
  },
  "language_info": {
   "codemirror_mode": {
    "name": "ipython",
    "version": 3
   },
   "file_extension": ".py",
   "mimetype": "text/x-python",
   "name": "python",
   "nbconvert_exporter": "python",
   "pygments_lexer": "ipython3",
   "version": "3.12.4"
  }
 },
 "nbformat": 4,
 "nbformat_minor": 5
}
