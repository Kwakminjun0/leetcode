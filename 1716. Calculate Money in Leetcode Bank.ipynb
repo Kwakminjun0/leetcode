{
 "cells": [
  {
   "cell_type": "code",
   "execution_count": null,
   "id": "1a6445ad",
   "metadata": {},
   "outputs": [],
   "source": [
    "class Solution(object):\n",
    "    def totalMoney(self, n):\n",
    "        \"\"\"\n",
    "        :type n: int\n",
    "        :rtype: int\n",
    "        \"\"\"\n",
    "        sum_money = 0\n",
    "        money_put = 1\n",
    "        while n > 0:\n",
    "            for i in range(7):\n",
    "                sum_money = sum_money + i + money_put\n",
    "                n -= 1\n",
    "                if n == 0:\n",
    "                    break\n",
    "            money_put += 1\n",
    "        return sum_money"
   ]
  }
 ],
 "metadata": {
  "kernelspec": {
   "display_name": "Python 3 (ipykernel)",
   "language": "python",
   "name": "python3"
  },
  "language_info": {
   "codemirror_mode": {
    "name": "ipython",
    "version": 3
   },
   "file_extension": ".py",
   "mimetype": "text/x-python",
   "name": "python",
   "nbconvert_exporter": "python",
   "pygments_lexer": "ipython3",
   "version": "3.9.12"
  }
 },
 "nbformat": 4,
 "nbformat_minor": 5
}
