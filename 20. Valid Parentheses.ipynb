{
 "cells": [
  {
   "cell_type": "code",
   "execution_count": null,
   "id": "a59def11-71a6-4631-977d-5936bd558e4f",
   "metadata": {},
   "outputs": [],
   "source": [
    "class Solution(object):\n",
    "    def isValid(self, s):\n",
    "        stack = [] # create an empty stack to store opening brackets\n",
    "        for c in s: # loop through each character in the string\n",
    "            if c in '([{': # if the character is an opening bracket\n",
    "                stack.append(c) # push it onto the stack\n",
    "            else: # if the character is a closing bracket\n",
    "                if not stack or \\\n",
    "                    (c == ')' and stack[-1] != '(') or \\\n",
    "                    (c == '}' and stack[-1] != '{') or \\\n",
    "                    (c == ']' and stack[-1] != '['):\n",
    "                    return False # the string is not valid, so return false\n",
    "                stack.pop() # otherwise, pop the opening bracket from the stack\n",
    "        return not stack # if the stack is empty, all opening brackets have been matched with their corresponding closing brackets,\n",
    "                         # so the string is valid, otherwise, there are unmatched opening brackets, so return false\n"
   ]
  }
 ],
 "metadata": {
  "kernelspec": {
   "display_name": "Python 3 (ipykernel)",
   "language": "python",
   "name": "python3"
  },
  "language_info": {
   "codemirror_mode": {
    "name": "ipython",
    "version": 3
   },
   "file_extension": ".py",
   "mimetype": "text/x-python",
   "name": "python",
   "nbconvert_exporter": "python",
   "pygments_lexer": "ipython3",
   "version": "3.12.4"
  }
 },
 "nbformat": 4,
 "nbformat_minor": 5
}
