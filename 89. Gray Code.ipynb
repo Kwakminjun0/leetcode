{
 "cells": [
  {
   "cell_type": "code",
   "execution_count": null,
   "id": "f224c7c7-308b-4460-9100-b08481ca4d61",
   "metadata": {},
   "outputs": [],
   "source": [
    "class Solution(object):\n",
    "    def grayCode(self, n):\n",
    "        \"\"\"\n",
    "        :type n: int\n",
    "        :rtype: List[int]\n",
    "        \"\"\"\n",
    "        num = pow(2, n)\n",
    "        res_str = [\"0\", \"1\"]\n",
    "        res = []\n",
    "        while len(res_str) < num:\n",
    "            res_str = res_str + res_str[::-1]\n",
    "            for i in range(len(res_str)):\n",
    "                if i < len(res_str) // 2:\n",
    "                    res_str[i] = \"0\" + res_str[i]\n",
    "                else:\n",
    "                    res_str[i] = \"1\" + res_str[i]\n",
    "        for num in res_str:\n",
    "            temp = \"0b\" + num\n",
    "            res.append(int(temp, 2))\n",
    "        return res"
   ]
  }
 ],
 "metadata": {
  "kernelspec": {
   "display_name": "Python 3 (ipykernel)",
   "language": "python",
   "name": "python3"
  },
  "language_info": {
   "name": ""
  }
 },
 "nbformat": 4,
 "nbformat_minor": 5
}
