{
 "cells": [
  {
   "cell_type": "code",
   "execution_count": null,
   "id": "54380c3c",
   "metadata": {},
   "outputs": [],
   "source": [
    "class Solution(object):\n",
    "    def maxRotateFunction(self, nums):\n",
    "        \"\"\"\n",
    "        :type nums: List[int]\n",
    "        :rtype: int\n",
    "        \"\"\"\n",
    "        \n",
    "        n = len(nums)\n",
    "        sum_nums = sum(nums)\n",
    "        F = sum(i * nums[i] for i in range(n))\n",
    "        \n",
    "        max_value = F\n",
    "        current_F = F\n",
    "\n",
    "        for k in range(1, n):\n",
    "            current_F = current_F + sum_nums - n * nums[n - k]\n",
    "            max_value = max(max_value, current_F)\n",
    "\n",
    "        return max_value"
   ]
  }
 ],
 "metadata": {
  "kernelspec": {
   "display_name": "Python 3 (ipykernel)",
   "language": "python",
   "name": "python3"
  },
  "language_info": {
   "codemirror_mode": {
    "name": "ipython",
    "version": 3
   },
   "file_extension": ".py",
   "mimetype": "text/x-python",
   "name": "python",
   "nbconvert_exporter": "python",
   "pygments_lexer": "ipython3",
   "version": "3.9.12"
  }
 },
 "nbformat": 4,
 "nbformat_minor": 5
}
