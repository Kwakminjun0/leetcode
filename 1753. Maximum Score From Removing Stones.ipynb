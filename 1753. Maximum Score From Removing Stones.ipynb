{
 "cells": [
  {
   "cell_type": "code",
   "execution_count": null,
   "id": "7b221d85",
   "metadata": {},
   "outputs": [],
   "source": [
    "class Solution(object):\n",
    "    def maximumScore(self, a, b, c):\n",
    "        \"\"\"\n",
    "        :type a: int\n",
    "        :type b: int\n",
    "        :type c: int\n",
    "        :rtype: int\n",
    "        \"\"\"\n",
    "        # Sort the piles in non-increasing order\n",
    "        piles = sorted([a, b, c], reverse=True)\n",
    "        score = 0\n",
    "        \n",
    "        # Repeat until there are fewer than two non-empty piles\n",
    "        while piles[1] > 0:\n",
    "            # Remove stones from the two largest piles\n",
    "            score += 1\n",
    "            piles[0] -= 1\n",
    "            piles[1] -= 1\n",
    "            \n",
    "            # Re-sort the piles\n",
    "            piles.sort(reverse=True)\n",
    "            \n",
    "        return score\n"
   ]
  }
 ],
 "metadata": {
  "kernelspec": {
   "display_name": "Python 3 (ipykernel)",
   "language": "python",
   "name": "python3"
  },
  "language_info": {
   "codemirror_mode": {
    "name": "ipython",
    "version": 3
   },
   "file_extension": ".py",
   "mimetype": "text/x-python",
   "name": "python",
   "nbconvert_exporter": "python",
   "pygments_lexer": "ipython3",
   "version": "3.9.12"
  }
 },
 "nbformat": 4,
 "nbformat_minor": 5
}
