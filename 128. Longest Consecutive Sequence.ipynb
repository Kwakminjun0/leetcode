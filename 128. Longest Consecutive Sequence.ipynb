{
 "cells": [
  {
   "cell_type": "code",
   "execution_count": null,
   "id": "29808c52-e773-4a23-be5e-e086057aae37",
   "metadata": {},
   "outputs": [],
   "source": [
    "class Solution(object):\n",
    "    def longestConsecutive(self, nums):\n",
    "\n",
    "        if len(nums) == 0:\n",
    "            return 0\n",
    "\n",
    "        nums = list(set(nums))\n",
    "        nums.sort()\n",
    "\n",
    "        lists = []\n",
    "        output = 0\n",
    "\n",
    "        for i in range(len(nums)):\n",
    "            try:\n",
    "                if nums[i] + 1 == nums[i+1]:\n",
    "                    output += 1\n",
    "                else:\n",
    "                    lists.append(output)\n",
    "                    output = 0\n",
    "            except IndexError:\n",
    "                lists.append(output)\n",
    "                ouput = 0\n",
    "                break\n",
    "        \n",
    "        return max(lists) + 1\n",
    "\n",
    "        "
   ]
  }
 ],
 "metadata": {
  "kernelspec": {
   "display_name": "Python 3 (ipykernel)",
   "language": "python",
   "name": "python3"
  },
  "language_info": {
   "codemirror_mode": {
    "name": "ipython",
    "version": 3
   },
   "file_extension": ".py",
   "mimetype": "text/x-python",
   "name": "python",
   "nbconvert_exporter": "python",
   "pygments_lexer": "ipython3",
   "version": "3.12.4"
  }
 },
 "nbformat": 4,
 "nbformat_minor": 5
}
