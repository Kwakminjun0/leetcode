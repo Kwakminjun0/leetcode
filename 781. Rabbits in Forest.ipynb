{
 "cells": [
  {
   "cell_type": "code",
   "execution_count": null,
   "id": "9d340011",
   "metadata": {},
   "outputs": [],
   "source": [
    "class Solution(object):\n",
    "    def numRabbits(self, answers):\n",
    "        \"\"\"\n",
    "        :type answers: List[int]\n",
    "        :rtype: int\n",
    "        \"\"\"\n",
    "        color_count = {}\n",
    "        total_rabbits = 0\n",
    "        \n",
    "        # Step 1 and 2\n",
    "        for ans in answers:\n",
    "            color_count[ans] = color_count.get(ans, 0) + 1\n",
    "        \n",
    "        # Step 3\n",
    "        for color, count in color_count.items():\n",
    "            total_rabbits += (count + color) // (color + 1) * (color + 1)\n",
    "        \n",
    "        # Step 4\n",
    "        return total_rabbits"
   ]
  }
 ],
 "metadata": {
  "kernelspec": {
   "display_name": "Python 3 (ipykernel)",
   "language": "python",
   "name": "python3"
  },
  "language_info": {
   "codemirror_mode": {
    "name": "ipython",
    "version": 3
   },
   "file_extension": ".py",
   "mimetype": "text/x-python",
   "name": "python",
   "nbconvert_exporter": "python",
   "pygments_lexer": "ipython3",
   "version": "3.9.12"
  }
 },
 "nbformat": 4,
 "nbformat_minor": 5
}
