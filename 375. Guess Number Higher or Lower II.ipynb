{
 "cells": [
  {
   "cell_type": "code",
   "execution_count": null,
   "id": "a5f1db2b",
   "metadata": {},
   "outputs": [],
   "source": [
    "class Solution(object):\n",
    "    def getMoneyAmount(self, n):\n",
    "        \"\"\"\n",
    "        :type n: int\n",
    "        :rtype: int\n",
    "        \"\"\"\n",
    "        # Initialize a 2D array for memoization\n",
    "        dp = [[0] * (n + 1) for _ in range(n + 1)]\n",
    "        \n",
    "        # Function to compute the minimum cost to guarantee a win for the range [i, j]\n",
    "        def helper(i, j):\n",
    "            # Base case: if the range has only one number, the cost is 0\n",
    "            if i >= j:\n",
    "                return 0\n",
    "            # If the cost is already computed, return it\n",
    "            if dp[i][j] != 0:\n",
    "                return dp[i][j]\n",
    "            # Initialize the minimum cost as infinity\n",
    "            min_cost = float('inf')\n",
    "            # Guess each number in the range and compute the worst-case cost\n",
    "            for k in range(i, j + 1):\n",
    "                # Compute the worst-case cost for the left and right sub-ranges\n",
    "                cost = k + max(helper(i, k - 1), helper(k + 1, j))\n",
    "                # Update the minimum cost\n",
    "                min_cost = min(min_cost, cost)\n",
    "            # Memoize the result\n",
    "            dp[i][j] = min_cost\n",
    "            return min_cost\n",
    "        \n",
    "        # Compute the minimum cost for the entire range [1, n]\n",
    "        return helper(1, n)"
   ]
  }
 ],
 "metadata": {
  "kernelspec": {
   "display_name": "Python 3 (ipykernel)",
   "language": "python",
   "name": "python3"
  },
  "language_info": {
   "codemirror_mode": {
    "name": "ipython",
    "version": 3
   },
   "file_extension": ".py",
   "mimetype": "text/x-python",
   "name": "python",
   "nbconvert_exporter": "python",
   "pygments_lexer": "ipython3",
   "version": "3.9.12"
  }
 },
 "nbformat": 4,
 "nbformat_minor": 5
}
