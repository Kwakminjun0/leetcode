{
 "cells": [
  {
   "cell_type": "code",
   "execution_count": null,
   "id": "5dc3b712",
   "metadata": {},
   "outputs": [],
   "source": [
    "class Solution(object):\n",
    "    def rotatedDigits(self, n):\n",
    "        \"\"\"\n",
    "        :type n: int\n",
    "        :rtype: int\n",
    "        \"\"\"\n",
    "        def is_good_number(num):\n",
    "            num_str = str(num)\n",
    "            rotated = \"\"\n",
    "            for ch in num_str:\n",
    "                if ch in ['3', '4', '7']:\n",
    "                    return False\n",
    "                elif ch in ['2', '5', '6', '9']:\n",
    "                    rotated += '2' if ch == '5' else '5' if ch == '2' else '6' if ch == '9' else '9'\n",
    "                else:\n",
    "                    rotated += ch\n",
    "            return rotated != num_str\n",
    "        \n",
    "        count = 0\n",
    "        for num in range(1, n + 1):\n",
    "            if is_good_number(num):\n",
    "                count += 1\n",
    "        return count"
   ]
  }
 ],
 "metadata": {
  "kernelspec": {
   "display_name": "Python 3 (ipykernel)",
   "language": "python",
   "name": "python3"
  },
  "language_info": {
   "codemirror_mode": {
    "name": "ipython",
    "version": 3
   },
   "file_extension": ".py",
   "mimetype": "text/x-python",
   "name": "python",
   "nbconvert_exporter": "python",
   "pygments_lexer": "ipython3",
   "version": "3.9.12"
  }
 },
 "nbformat": 4,
 "nbformat_minor": 5
}
