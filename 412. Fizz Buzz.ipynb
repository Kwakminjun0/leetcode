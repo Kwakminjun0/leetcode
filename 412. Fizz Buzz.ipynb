{
 "cells": [
  {
   "cell_type": "code",
   "execution_count": null,
   "id": "ba315a63",
   "metadata": {},
   "outputs": [],
   "source": [
    "class Solution(object):\n",
    "    def fizzBuzz(self, n):\n",
    "        \"\"\"\n",
    "        :type n: int\n",
    "        :rtype: List[str]\n",
    "        \"\"\"\n",
    "        answer = []\n",
    "        for i in range(1, n + 1):\n",
    "            if i % 3 == 0 and i % 5 == 0:\n",
    "                answer.append(\"FizzBuzz\")\n",
    "            elif i % 3 == 0:\n",
    "                answer.append(\"Fizz\")\n",
    "            elif i % 5 == 0:\n",
    "                answer.append(\"Buzz\")\n",
    "            else:\n",
    "                answer.append(str(i))\n",
    "        return answer"
   ]
  }
 ],
 "metadata": {
  "kernelspec": {
   "display_name": "Python 3 (ipykernel)",
   "language": "python",
   "name": "python3"
  },
  "language_info": {
   "codemirror_mode": {
    "name": "ipython",
    "version": 3
   },
   "file_extension": ".py",
   "mimetype": "text/x-python",
   "name": "python",
   "nbconvert_exporter": "python",
   "pygments_lexer": "ipython3",
   "version": "3.9.12"
  }
 },
 "nbformat": 4,
 "nbformat_minor": 5
}
