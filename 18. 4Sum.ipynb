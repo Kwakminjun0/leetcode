{
 "cells": [
  {
   "cell_type": "code",
   "execution_count": null,
   "id": "6719569c-20c5-4a6a-8e41-70f05c77918c",
   "metadata": {},
   "outputs": [],
   "source": [
    "class Solution(object):\n",
    "    def fourSum(self, nums, target):\n",
    "        \"\"\"\n",
    "        :type nums: List[int]\n",
    "        :type target: int\n",
    "        :rtype: List[List[int]]\n",
    "        \"\"\"\n",
    "        nums.sort()\n",
    "        n = len(nums)\n",
    "        result = []\n",
    "\n",
    "        for i in range(n - 3):\n",
    "            if i > 0 and nums[i] == nums[i - 1]:  # Skip duplicate `i` values\n",
    "                continue\n",
    "            for j in range(i + 1, n - 2):\n",
    "                if j > i + 1 and nums[j] == nums[j - 1]:  # Skip duplicate `j` values\n",
    "                    continue\n",
    "                left, right = j + 1, n - 1\n",
    "                while left < right:\n",
    "                    current_sum = nums[i] + nums[j] + nums[left] + nums[right]\n",
    "                    if current_sum == target:\n",
    "                        result.append([nums[i], nums[j], nums[left], nums[right]])\n",
    "                        left += 1\n",
    "                        right -= 1\n",
    "                        # Skip duplicates for `left` and `right`\n",
    "                        while left < right and nums[left] == nums[left - 1]:\n",
    "                            left += 1\n",
    "                        while left < right and nums[right] == nums[right + 1]:\n",
    "                            right -= 1\n",
    "                    elif current_sum < target:\n",
    "                        left += 1\n",
    "                    else:\n",
    "                        right -= 1\n",
    "        return result"
   ]
  }
 ],
 "metadata": {
  "kernelspec": {
   "display_name": "Python 3 (ipykernel)",
   "language": "python",
   "name": "python3"
  },
  "language_info": {
   "codemirror_mode": {
    "name": "ipython",
    "version": 3
   },
   "file_extension": ".py",
   "mimetype": "text/x-python",
   "name": "python",
   "nbconvert_exporter": "python",
   "pygments_lexer": "ipython3",
   "version": "3.12.4"
  }
 },
 "nbformat": 4,
 "nbformat_minor": 5
}
