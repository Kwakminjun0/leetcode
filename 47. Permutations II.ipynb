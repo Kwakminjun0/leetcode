{
 "cells": [
  {
   "cell_type": "code",
   "execution_count": null,
   "id": "57ce7449-47b1-436e-b125-b855d7c8876f",
   "metadata": {},
   "outputs": [],
   "source": [
    "class Solution:\n",
    "    def permuteUnique(self, nums):\n",
    "        res = []\n",
    "        keys = set()\n",
    "        \n",
    "        def backtrack(ind, ds, flag):\n",
    "            if len(ds) == len(nums):\n",
    "                key = '_'.join(map(str, ds))\n",
    "                if key not in keys:\n",
    "                    keys.add(key)\n",
    "                    res.append(ds[:])\n",
    "                return\n",
    "            \n",
    "            for i in range(len(nums)):\n",
    "                if not flag[i]:\n",
    "                    ds.append(nums[i])\n",
    "                    flag[i] = True\n",
    "                    backtrack(i + 1, ds, flag)\n",
    "                    ds.pop()\n",
    "                    flag[i] = False\n",
    "        \n",
    "        backtrack(0, [], [False] * len(nums))\n",
    "        return res\n",
    "        "
   ]
  }
 ],
 "metadata": {
  "kernelspec": {
   "display_name": "Python 3 (ipykernel)",
   "language": "python",
   "name": "python3"
  },
  "language_info": {
   "codemirror_mode": {
    "name": "ipython",
    "version": 3
   },
   "file_extension": ".py",
   "mimetype": "text/x-python",
   "name": "python",
   "nbconvert_exporter": "python",
   "pygments_lexer": "ipython3",
   "version": "3.12.4"
  }
 },
 "nbformat": 4,
 "nbformat_minor": 5
}
