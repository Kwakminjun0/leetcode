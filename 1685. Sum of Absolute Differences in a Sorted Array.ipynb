{
 "cells": [
  {
   "cell_type": "code",
   "execution_count": null,
   "id": "1d6fc736",
   "metadata": {},
   "outputs": [],
   "source": [
    "class Solution(object):\n",
    "    def getSumAbsoluteDifferences(self, nums):\n",
    "        \"\"\"\n",
    "        :type nums: List[int]\n",
    "        :rtype: List[int]\n",
    "        \"\"\"\n",
    "        # Step 1: Calculate total sum of absolute differences with respect to the first element\n",
    "        total_sum = sum(nums[i] - nums[0] for i in range(1, len(nums)))\n",
    "        \n",
    "        # Step 2: Initialize result array with length equal to the length of nums\n",
    "        result = [0] * len(nums)\n",
    "        \n",
    "        # Step 3: Compute result for each index\n",
    "        result[0] = total_sum\n",
    "        for i in range(1, len(nums)):\n",
    "            result[i] = result[i-1] + (2*i - len(nums)) * (nums[i] - nums[i-1])\n",
    "        \n",
    "        # Step 4: Return the result array\n",
    "        return result"
   ]
  }
 ],
 "metadata": {
  "kernelspec": {
   "display_name": "Python 3 (ipykernel)",
   "language": "python",
   "name": "python3"
  },
  "language_info": {
   "codemirror_mode": {
    "name": "ipython",
    "version": 3
   },
   "file_extension": ".py",
   "mimetype": "text/x-python",
   "name": "python",
   "nbconvert_exporter": "python",
   "pygments_lexer": "ipython3",
   "version": "3.9.12"
  }
 },
 "nbformat": 4,
 "nbformat_minor": 5
}
