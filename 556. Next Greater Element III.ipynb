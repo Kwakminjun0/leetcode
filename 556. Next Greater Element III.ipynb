{
 "cells": [
  {
   "cell_type": "code",
   "execution_count": null,
   "id": "61916f99",
   "metadata": {},
   "outputs": [],
   "source": [
    "class Solution(object):\n",
    "    def nextGreaterElement(self, n):\n",
    "        \"\"\"\n",
    "        :type n: int\n",
    "        :rtype: int\n",
    "        \"\"\"\n",
    "        digits = list(str(n))\n",
    "        length = len(digits)\n",
    "\n",
    "        # Step 2: Find the rightmost digit that is smaller than the digit next to it.\n",
    "        i = length - 2\n",
    "        while i >= 0 and digits[i] >= digits[i + 1]:\n",
    "            i -= 1\n",
    "\n",
    "        if i == -1:\n",
    "            return -1  # No larger permutation possible.\n",
    "\n",
    "        # Step 3: Find the smallest digit on right side of i that is larger than digits[i]\n",
    "        j = length - 1\n",
    "        while digits[j] <= digits[i]:\n",
    "            j -= 1\n",
    "\n",
    "        # Step 4: Swap the digits at i and j\n",
    "        digits[i], digits[j] = digits[j], digits[i]\n",
    "\n",
    "        # Step 5: Reverse the sequence after the original position i\n",
    "        digits = digits[:i + 1] + digits[i + 1:][::-1]\n",
    "\n",
    "        # Convert back to integer\n",
    "        result = int(''.join(digits))\n",
    "\n",
    "        # Check if the result fits in a 32-bit integer\n",
    "        if result >= 2**31:\n",
    "            return -1\n",
    "\n",
    "        return result"
   ]
  }
 ],
 "metadata": {
  "kernelspec": {
   "display_name": "Python 3 (ipykernel)",
   "language": "python",
   "name": "python3"
  },
  "language_info": {
   "codemirror_mode": {
    "name": "ipython",
    "version": 3
   },
   "file_extension": ".py",
   "mimetype": "text/x-python",
   "name": "python",
   "nbconvert_exporter": "python",
   "pygments_lexer": "ipython3",
   "version": "3.9.12"
  }
 },
 "nbformat": 4,
 "nbformat_minor": 5
}
