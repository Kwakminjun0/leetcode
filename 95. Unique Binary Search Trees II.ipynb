{
 "cells": [
  {
   "cell_type": "code",
   "execution_count": null,
   "id": "c1a6b1c7-4a59-4601-8a07-e0238e08c2b2",
   "metadata": {},
   "outputs": [],
   "source": [
    "class Solution(object):\n",
    "    def generateTrees(self, n):\n",
    "        \"\"\"\n",
    "        :type n: int\n",
    "        :rtype: List[TreeNode]\n",
    "        \"\"\"\n",
    "        if n == 0:\n",
    "            return [[]]\n",
    "        return self.dfs(1, n+1)\n",
    "        \n",
    "    def dfs(self, start, end):\n",
    "        if start == end:\n",
    "            return None\n",
    "        result = []\n",
    "        for i in xrange(start, end):\n",
    "            for l in self.dfs(start, i) or [None]:\n",
    "                for r in self.dfs(i+1, end) or [None]:\n",
    "                    node = TreeNode(i)\n",
    "                    node.left, node.right  = l, r\n",
    "                    result.append(node)\n",
    "        return result"
   ]
  }
 ],
 "metadata": {
  "kernelspec": {
   "display_name": "Python 3 (ipykernel)",
   "language": "python",
   "name": "python3"
  },
  "language_info": {
   "codemirror_mode": {
    "name": "ipython",
    "version": 3
   },
   "file_extension": ".py",
   "mimetype": "text/x-python",
   "name": "python",
   "nbconvert_exporter": "python",
   "pygments_lexer": "ipython3",
   "version": "3.12.4"
  }
 },
 "nbformat": 4,
 "nbformat_minor": 5
}
