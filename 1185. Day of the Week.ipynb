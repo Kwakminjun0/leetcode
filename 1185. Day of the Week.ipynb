{
 "cells": [
  {
   "cell_type": "code",
   "execution_count": null,
   "id": "cf9466f6",
   "metadata": {},
   "outputs": [],
   "source": [
    "import datetime\n",
    "\n",
    "class Solution(object):\n",
    "    def dayOfTheWeek(self, day, month, year):\n",
    "        \"\"\"\n",
    "        :type day: int\n",
    "        :type month: int\n",
    "        :type year: int\n",
    "        :rtype: str\n",
    "        \"\"\"\n",
    "        days_of_week = [\"Monday\", \"Tuesday\", \"Wednesday\", \"Thursday\", \"Friday\", \"Saturday\", \"Sunday\"]\n",
    "        date = datetime.date(year, month, day)\n",
    "        return days_of_week[date.weekday()]"
   ]
  }
 ],
 "metadata": {
  "kernelspec": {
   "display_name": "Python 3 (ipykernel)",
   "language": "python",
   "name": "python3"
  },
  "language_info": {
   "codemirror_mode": {
    "name": "ipython",
    "version": 3
   },
   "file_extension": ".py",
   "mimetype": "text/x-python",
   "name": "python",
   "nbconvert_exporter": "python",
   "pygments_lexer": "ipython3",
   "version": "3.9.12"
  }
 },
 "nbformat": 4,
 "nbformat_minor": 5
}
