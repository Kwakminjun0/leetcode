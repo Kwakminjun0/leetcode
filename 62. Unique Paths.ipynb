{
 "cells": [
  {
   "cell_type": "code",
   "execution_count": null,
   "id": "408b2834",
   "metadata": {},
   "outputs": [],
   "source": [
    "class Solution(object):\n",
    "    def uniquePaths(self, m, n):\n",
    "        \"\"\"\n",
    "        :type m: int\n",
    "        :type n: int\n",
    "        :rtype: int\n",
    "        \"\"\"\n",
    "\n",
    "        # Initialize a 2D array with 1's\n",
    "        dp = [[1] * n for _ in range(m)]\n",
    "        \n",
    "        # Iterate over the grid starting from 1,1 since the first row and first column are always 1\n",
    "        for i in range(1, m):\n",
    "            for j in range(1, n):\n",
    "                # The number of ways to reach this cell is the sum of the ways to reach\n",
    "                # the cell directly above and the cell directly to the left\n",
    "                dp[i][j] = dp[i-1][j] + dp[i][j-1]\n",
    "        \n",
    "        # The bottom-right corner will have our answer\n",
    "        return dp[m-1][n-1]\n",
    "        "
   ]
  }
 ],
 "metadata": {
  "kernelspec": {
   "display_name": "Python 3 (ipykernel)",
   "language": "python",
   "name": "python3"
  },
  "language_info": {
   "codemirror_mode": {
    "name": "ipython",
    "version": 3
   },
   "file_extension": ".py",
   "mimetype": "text/x-python",
   "name": "python",
   "nbconvert_exporter": "python",
   "pygments_lexer": "ipython3",
   "version": "3.9.12"
  }
 },
 "nbformat": 4,
 "nbformat_minor": 5
}
