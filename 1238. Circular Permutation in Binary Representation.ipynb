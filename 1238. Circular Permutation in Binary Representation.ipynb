{
 "cells": [
  {
   "cell_type": "code",
   "execution_count": null,
   "id": "761f5023",
   "metadata": {},
   "outputs": [],
   "source": [
    "class Solution(object):\n",
    "    def circularPermutation(self, n, start):\n",
    "        \"\"\"\n",
    "        :type n: int\n",
    "        :type start: int\n",
    "        :rtype: List[int]\n",
    "        \"\"\"\n",
    "        seqs = [start]\n",
    "        for i in range(n):\n",
    "            seqs.extend([(1 << i) ^ x for x in seqs[::-1]])\n",
    "        return seqs"
   ]
  }
 ],
 "metadata": {
  "kernelspec": {
   "display_name": "Python 3 (ipykernel)",
   "language": "python",
   "name": "python3"
  },
  "language_info": {
   "codemirror_mode": {
    "name": "ipython",
    "version": 3
   },
   "file_extension": ".py",
   "mimetype": "text/x-python",
   "name": "python",
   "nbconvert_exporter": "python",
   "pygments_lexer": "ipython3",
   "version": "3.9.12"
  }
 },
 "nbformat": 4,
 "nbformat_minor": 5
}
