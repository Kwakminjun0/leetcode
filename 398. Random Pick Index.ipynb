{
 "cells": [
  {
   "cell_type": "code",
   "execution_count": null,
   "id": "03c71a63",
   "metadata": {},
   "outputs": [],
   "source": [
    "class Solution(object):\n",
    "\n",
    "    def __init__(self, nums):\n",
    "        \"\"\"\n",
    "        :type nums: List[int]\n",
    "        \"\"\"\n",
    "        self.index_map = {}\n",
    "        for i, num in enumerate(nums):\n",
    "            if num not in self.index_map:\n",
    "                self.index_map[num] = []\n",
    "            self.index_map[num].append(i)\n",
    "\n",
    "    def pick(self, target):\n",
    "        \"\"\"\n",
    "        :type target: int\n",
    "        :rtype: int\n",
    "        \"\"\"\n",
    "        indices = self.index_map[target]\n",
    "        return random.choice(indices)\n",
    "        \n",
    "\n",
    "\n",
    "# Your Solution object will be instantiated and called as such:\n",
    "# obj = Solution(nums)\n",
    "# param_1 = obj.pick(target)"
   ]
  }
 ],
 "metadata": {
  "kernelspec": {
   "display_name": "Python 3 (ipykernel)",
   "language": "python",
   "name": "python3"
  },
  "language_info": {
   "codemirror_mode": {
    "name": "ipython",
    "version": 3
   },
   "file_extension": ".py",
   "mimetype": "text/x-python",
   "name": "python",
   "nbconvert_exporter": "python",
   "pygments_lexer": "ipython3",
   "version": "3.9.12"
  }
 },
 "nbformat": 4,
 "nbformat_minor": 5
}
