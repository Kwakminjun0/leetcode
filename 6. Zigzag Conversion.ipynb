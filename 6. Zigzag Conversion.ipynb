{
 "cells": [
  {
   "cell_type": "code",
   "execution_count": null,
   "id": "30daf16e-7d92-4f8b-b753-a447d9822aa2",
   "metadata": {},
   "outputs": [],
   "source": [
    "class Solution(object):\n",
    "    def convert(self, s, numRows):\n",
    "        \"\"\"\n",
    "        :type s: str\n",
    "        :type numRows: int\n",
    "        :rtype: str\n",
    "        \"\"\"\n",
    "        # Edge case: If numRows is 1 or greater than or equal to the length of s\n",
    "        if numRows == 1 or numRows >= len(s):\n",
    "            return s\n",
    "\n",
    "        # Create a list to hold strings for each row\n",
    "        rows = [''] * numRows\n",
    "        current_row = 0\n",
    "        going_down = False\n",
    "\n",
    "        # Iterate through the characters in the string\n",
    "        for char in s:\n",
    "            rows[current_row] += char\n",
    "            # Change direction if we hit the top or bottom row\n",
    "            if current_row == 0 or current_row == numRows - 1:\n",
    "                going_down = not going_down\n",
    "            # Update the current row index\n",
    "            current_row += 1 if going_down else -1\n",
    "\n",
    "        # Join all the rows to get the final zigzag pattern\n",
    "        return ''.join(rows)\n",
    "        "
   ]
  }
 ],
 "metadata": {
  "kernelspec": {
   "display_name": "Python 3 (ipykernel)",
   "language": "python",
   "name": "python3"
  },
  "language_info": {
   "codemirror_mode": {
    "name": "ipython",
    "version": 3
   },
   "file_extension": ".py",
   "mimetype": "text/x-python",
   "name": "python",
   "nbconvert_exporter": "python",
   "pygments_lexer": "ipython3",
   "version": "3.12.4"
  }
 },
 "nbformat": 4,
 "nbformat_minor": 5
}
