{
 "cells": [
  {
   "cell_type": "code",
   "execution_count": null,
   "id": "a95f2310",
   "metadata": {},
   "outputs": [],
   "source": [
    "class Solution(object):\n",
    "    def countSymmetricIntegers(self, low, high):\n",
    "        \"\"\"\n",
    "        :type low: int\n",
    "        :type high: int\n",
    "        :rtype: int\n",
    "        \"\"\"\n",
    "        count = 0\n",
    "        for i in range(low, high + 1):\n",
    "            st = str(i)\n",
    "            if len(st) % 2 != 0:\n",
    "                continue\n",
    "            n = len(st) / 2\n",
    "            first = 0\n",
    "            for j in st[:n]:\n",
    "                first += int(j)\n",
    "            last = 0\n",
    "            for x in st[n:]:\n",
    "                last += int(x)\n",
    "            if first == last:\n",
    "                count += 1\n",
    "        return count"
   ]
  }
 ],
 "metadata": {
  "kernelspec": {
   "display_name": "Python 3 (ipykernel)",
   "language": "python",
   "name": "python3"
  },
  "language_info": {
   "codemirror_mode": {
    "name": "ipython",
    "version": 3
   },
   "file_extension": ".py",
   "mimetype": "text/x-python",
   "name": "python",
   "nbconvert_exporter": "python",
   "pygments_lexer": "ipython3",
   "version": "3.9.12"
  }
 },
 "nbformat": 4,
 "nbformat_minor": 5
}
