{
 "cells": [
  {
   "cell_type": "code",
   "execution_count": null,
   "id": "c2cc30c5",
   "metadata": {},
   "outputs": [],
   "source": [
    "class Solution(object):\n",
    "    def countPrimes(self, n):\n",
    "        \"\"\"\n",
    "        :type n: int\n",
    "        :rtype: int\n",
    "        \"\"\"\n",
    "        if n <= 2:\n",
    "            return 0\n",
    "        \n",
    "        # Initialize a boolean array to track prime numbers\n",
    "        is_prime = [True] * n\n",
    "        is_prime[0] = is_prime[1] = False\n",
    "        \n",
    "        # Apply the Sieve of Eratosthenes algorithm\n",
    "        for i in range(2, int(n ** 0.5) + 1):\n",
    "            if is_prime[i]:\n",
    "                for j in range(i * i, n, i):\n",
    "                    is_prime[j] = False\n",
    "        \n",
    "        # Count the number of prime numbers\n",
    "        count = sum(is_prime)\n",
    "        return count\n",
    "        "
   ]
  }
 ],
 "metadata": {
  "kernelspec": {
   "display_name": "Python 3 (ipykernel)",
   "language": "python",
   "name": "python3"
  },
  "language_info": {
   "codemirror_mode": {
    "name": "ipython",
    "version": 3
   },
   "file_extension": ".py",
   "mimetype": "text/x-python",
   "name": "python",
   "nbconvert_exporter": "python",
   "pygments_lexer": "ipython3",
   "version": "3.9.12"
  }
 },
 "nbformat": 4,
 "nbformat_minor": 5
}
