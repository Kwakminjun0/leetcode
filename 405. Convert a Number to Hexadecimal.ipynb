{
 "cells": [
  {
   "cell_type": "code",
   "execution_count": null,
   "id": "6654c387",
   "metadata": {},
   "outputs": [],
   "source": [
    "class Solution(object):\n",
    "    def toHex(self, num):\n",
    "        \"\"\"\n",
    "        :type num: int\n",
    "        :rtype: str\n",
    "        \"\"\"\n",
    "        if num == 0:\n",
    "            return \"0\"\n",
    "    \n",
    "        hex_chars = \"0123456789abcdef\"\n",
    "        result = \"\"\n",
    "    \n",
    "        if num < 0:\n",
    "            num += 2 ** 32\n",
    "    \n",
    "        while num > 0:\n",
    "            remainder = num % 16\n",
    "            result = hex_chars[remainder] + result\n",
    "            num //= 16\n",
    "    \n",
    "        return result"
   ]
  }
 ],
 "metadata": {
  "kernelspec": {
   "display_name": "Python 3 (ipykernel)",
   "language": "python",
   "name": "python3"
  },
  "language_info": {
   "codemirror_mode": {
    "name": "ipython",
    "version": 3
   },
   "file_extension": ".py",
   "mimetype": "text/x-python",
   "name": "python",
   "nbconvert_exporter": "python",
   "pygments_lexer": "ipython3",
   "version": "3.9.12"
  }
 },
 "nbformat": 4,
 "nbformat_minor": 5
}
