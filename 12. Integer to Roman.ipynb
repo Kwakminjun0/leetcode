{
 "cells": [
  {
   "cell_type": "code",
   "execution_count": null,
   "id": "acd342e3",
   "metadata": {},
   "outputs": [],
   "source": [
    "class Solution(object):\n",
    "    def intToRoman(self, num):\n",
    "        \"\"\"\n",
    "        :type num: int\n",
    "        :rtype: str\n",
    "        \"\"\"\n",
    "        # Define the value-symbol pairs\n",
    "        val_sym_pairs = [\n",
    "            (1000, \"M\"), (900, \"CM\"), (500, \"D\"), (400, \"CD\"),\n",
    "            (100, \"C\"), (90, \"XC\"), (50, \"L\"), (40, \"XL\"),\n",
    "            (10, \"X\"), (9, \"IX\"), (5, \"V\"), (4, \"IV\"), (1, \"I\")\n",
    "        ]\n",
    "        \n",
    "        # Resultant Roman numeral\n",
    "        result = []\n",
    "        \n",
    "        # Iterate through each value-symbol pair\n",
    "        for value, symbol in val_sym_pairs:\n",
    "            # Append the symbol to result as many times as possible\n",
    "            while num >= value:\n",
    "                result.append(symbol)\n",
    "                num -= value\n",
    "        \n",
    "        # Join the list into a string and return\n",
    "        return ''.join(result)\n",
    "        "
   ]
  }
 ],
 "metadata": {
  "kernelspec": {
   "display_name": "Python 3 (ipykernel)",
   "language": "python",
   "name": "python3"
  },
  "language_info": {
   "codemirror_mode": {
    "name": "ipython",
    "version": 3
   },
   "file_extension": ".py",
   "mimetype": "text/x-python",
   "name": "python",
   "nbconvert_exporter": "python",
   "pygments_lexer": "ipython3",
   "version": "3.9.12"
  }
 },
 "nbformat": 4,
 "nbformat_minor": 5
}
