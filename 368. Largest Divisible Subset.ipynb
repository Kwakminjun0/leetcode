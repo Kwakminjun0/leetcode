{
 "cells": [
  {
   "cell_type": "code",
   "execution_count": null,
   "id": "296cd972",
   "metadata": {},
   "outputs": [],
   "source": [
    "class Solution(object):\n",
    "    def largestDivisibleSubset(self, nums):\n",
    "        \"\"\"\n",
    "        :type nums: List[int]\n",
    "        :rtype: List[int]\n",
    "        \"\"\"\n",
    "        if not nums:\n",
    "            return []\n",
    "\n",
    "        # Sort the input array\n",
    "        nums.sort()\n",
    "\n",
    "        # Initialize dp and prev arrays\n",
    "        n = len(nums)\n",
    "        dp = [1] * n\n",
    "        prev = [-1] * n\n",
    "        max_len, max_idx = 1, 0\n",
    "\n",
    "        # Dynamic programming to find the largest divisible subset\n",
    "        for i in range(n):\n",
    "            for j in range(i):\n",
    "                if nums[i] % nums[j] == 0 and dp[i] < dp[j] + 1:\n",
    "                    dp[i] = dp[j] + 1\n",
    "                    prev[i] = j\n",
    "                    if dp[i] > max_len:\n",
    "                        max_len = dp[i]\n",
    "                        max_idx = i\n",
    "\n",
    "        # Reconstruct the largest divisible subset\n",
    "        result = []\n",
    "        while max_idx != -1:\n",
    "            result.append(nums[max_idx])\n",
    "            max_idx = prev[max_idx]\n",
    "\n",
    "        return result[::-1]\n",
    "        "
   ]
  }
 ],
 "metadata": {
  "kernelspec": {
   "display_name": "Python 3 (ipykernel)",
   "language": "python",
   "name": "python3"
  },
  "language_info": {
   "codemirror_mode": {
    "name": "ipython",
    "version": 3
   },
   "file_extension": ".py",
   "mimetype": "text/x-python",
   "name": "python",
   "nbconvert_exporter": "python",
   "pygments_lexer": "ipython3",
   "version": "3.9.12"
  }
 },
 "nbformat": 4,
 "nbformat_minor": 5
}
