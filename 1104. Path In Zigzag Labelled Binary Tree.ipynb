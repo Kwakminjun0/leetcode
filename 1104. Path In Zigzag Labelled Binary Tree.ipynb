{
 "cells": [
  {
   "cell_type": "code",
   "execution_count": null,
   "id": "2864a8ad",
   "metadata": {},
   "outputs": [],
   "source": [
    "class Solution(object):\n",
    "    def pathInZigZagTree(self, label):\n",
    "        \"\"\"\n",
    "        :type label: int\n",
    "        :rtype: List[int]\n",
    "        \"\"\"\n",
    "        result = []\n",
    "        node = label\n",
    "        \n",
    "        # Determine the row of the label\n",
    "        row = 0\n",
    "        while (1 << row) <= node:\n",
    "            row += 1\n",
    "        \n",
    "        while node > 0:\n",
    "            result.append(node)\n",
    "            level_start = 1 << (row - 1)\n",
    "            level_end = (1 << row) - 1\n",
    "            node = level_start + level_end - node\n",
    "            node //= 2\n",
    "            row -= 1\n",
    "        \n",
    "        return result[::-1]"
   ]
  }
 ],
 "metadata": {
  "kernelspec": {
   "display_name": "Python 3 (ipykernel)",
   "language": "python",
   "name": "python3"
  },
  "language_info": {
   "codemirror_mode": {
    "name": "ipython",
    "version": 3
   },
   "file_extension": ".py",
   "mimetype": "text/x-python",
   "name": "python",
   "nbconvert_exporter": "python",
   "pygments_lexer": "ipython3",
   "version": "3.9.12"
  }
 },
 "nbformat": 4,
 "nbformat_minor": 5
}
