{
 "cells": [
  {
   "cell_type": "code",
   "execution_count": null,
   "id": "68c85539",
   "metadata": {},
   "outputs": [],
   "source": [
    "class Solution(object):\n",
    "    def isThree(self, n):\n",
    "        \"\"\"\n",
    "        :type n: int\n",
    "        :rtype: bool\n",
    "        \"\"\"\n",
    "        c=0\n",
    "        for i in range(1,n//2+1):\n",
    "            if n%i==0:\n",
    "                c+=1\n",
    "        return c==2"
   ]
  }
 ],
 "metadata": {
  "kernelspec": {
   "display_name": "Python 3 (ipykernel)",
   "language": "python",
   "name": "python3"
  }
 },
 "nbformat": 4,
 "nbformat_minor": 5
}
