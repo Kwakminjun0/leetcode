{
 "cells": [
  {
   "cell_type": "code",
   "execution_count": null,
   "id": "c79ab25e",
   "metadata": {},
   "outputs": [],
   "source": [
    "class Solution(object):\n",
    "    def countPoints(self, points, queries):\n",
    "        \"\"\"\n",
    "        :type points: List[List[int]]\n",
    "        :type queries: List[List[int]]\n",
    "        :rtype: List[int]\n",
    "        \"\"\"\n",
    "        result = []\n",
    "        \n",
    "        for xj, yj, rj in queries:\n",
    "            count = 0\n",
    "            squared_radius = rj * rj\n",
    "            \n",
    "            for xi, yi in points:\n",
    "                squared_distance = (xi - xj) ** 2 + (yi - yj) ** 2\n",
    "                if squared_distance <= squared_radius:\n",
    "                    count += 1\n",
    "            \n",
    "            result.append(count)\n",
    "        \n",
    "        return result"
   ]
  }
 ],
 "metadata": {
  "kernelspec": {
   "display_name": "Python 3 (ipykernel)",
   "language": "python",
   "name": "python3"
  },
  "language_info": {
   "codemirror_mode": {
    "name": "ipython",
    "version": 3
   },
   "file_extension": ".py",
   "mimetype": "text/x-python",
   "name": "python",
   "nbconvert_exporter": "python",
   "pygments_lexer": "ipython3",
   "version": "3.9.12"
  }
 },
 "nbformat": 4,
 "nbformat_minor": 5
}
