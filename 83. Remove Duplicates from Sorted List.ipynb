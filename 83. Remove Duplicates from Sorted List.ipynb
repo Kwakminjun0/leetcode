{
 "cells": [
  {
   "cell_type": "code",
   "execution_count": null,
   "id": "06d0e246-e34f-4d9d-ad6f-28df2c0f26c0",
   "metadata": {},
   "outputs": [],
   "source": [
    "class Solution(object):\n",
    "    def deleteDuplicates(self, head):\n",
    "        \"\"\"\n",
    "        :type head: ListNode\n",
    "        :rtype: ListNode\n",
    "        \"\"\"\n",
    "        # will take use of hashmap to check the duplicacy\n",
    "        \n",
    "        map1 = {}\n",
    "        n_node = ListNode(None)\n",
    "        head1 = n_node\n",
    "\n",
    "        while head is not None:\n",
    "            str = head.val\n",
    "\n",
    "            if str in map1:\n",
    "                 head = head.next \n",
    "              \n",
    "\n",
    "            else:\n",
    "                map1[str] = 1\n",
    "                node  = ListNode(str)\n",
    "                n_node.next = node \n",
    "                n_node = n_node.next\n",
    "                head = head.next \n",
    "                \n",
    "            \n",
    "              \n",
    "\n",
    "        return head1.next"
   ]
  }
 ],
 "metadata": {
  "kernelspec": {
   "display_name": "Python 3 (ipykernel)",
   "language": "python",
   "name": "python3"
  },
  "language_info": {
   "codemirror_mode": {
    "name": "ipython",
    "version": 3
   },
   "file_extension": ".py",
   "mimetype": "text/x-python",
   "name": "python",
   "nbconvert_exporter": "python",
   "pygments_lexer": "ipython3",
   "version": "3.12.4"
  }
 },
 "nbformat": 4,
 "nbformat_minor": 5
}
