{
 "cells": [
  {
   "cell_type": "code",
   "execution_count": null,
   "id": "1b7f3e29-2fc4-479e-a4db-65453bf3d1b3",
   "metadata": {},
   "outputs": [],
   "source": [
    "class Solution(object):\n",
    "    def removeNthFromEnd(self, head, n):\n",
    "        dummy = ListNode(0)\n",
    "        dummy.next = head\n",
    "        first = dummy\n",
    "        second = dummy\n",
    "\n",
    "        for _ in range(n + 1):\n",
    "            first = first.next\n",
    "\n",
    "        while first is not None:\n",
    "            first = first.next\n",
    "            second = second.next\n",
    "\n",
    "        second.next = second.next.next\n",
    "\n",
    "        return dummy.next"
   ]
  }
 ],
 "metadata": {
  "kernelspec": {
   "display_name": "Python 3 (ipykernel)",
   "language": "python",
   "name": "python3"
  },
  "language_info": {
   "codemirror_mode": {
    "name": "ipython",
    "version": 3
   },
   "file_extension": ".py",
   "mimetype": "text/x-python",
   "name": "python",
   "nbconvert_exporter": "python",
   "pygments_lexer": "ipython3",
   "version": "3.12.4"
  }
 },
 "nbformat": 4,
 "nbformat_minor": 5
}
