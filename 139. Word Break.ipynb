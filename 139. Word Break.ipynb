{
 "cells": [
  {
   "cell_type": "code",
   "execution_count": null,
   "id": "2f69a3cb-fe0a-48e2-89d3-62321a9cc486",
   "metadata": {},
   "outputs": [],
   "source": [
    "class TreeRoot:\n",
    "    def __init__(self):\n",
    "        self.children = {}\n",
    "        self.end = False\n",
    "\n",
    "class Solution(object):\n",
    "    def __init__(self):\n",
    "        self.root = TreeRoot()\n",
    "\n",
    "    def insert(self, word):\n",
    "        node = self.root\n",
    "        for w in word:\n",
    "            if w not in node.children:\n",
    "                node.children[w] = TreeRoot()\n",
    "            node = node.children[w]\n",
    "        node.end = True  \n",
    "\n",
    "    def search(self, s, start, memo):\n",
    "        if start in memo:\n",
    "            return memo[start]\n",
    "\n",
    "        node = self.root\n",
    "        for i in range(start, len(s)):\n",
    "            if s[i] not in node.children:\n",
    "                memo[start] = False\n",
    "                return False\n",
    "            node = node.children[s[i]]\n",
    "\n",
    "            if node.end:\n",
    "                if i == len(s) - 1 or self.search(s, i + 1, memo):\n",
    "                    memo[start] = True\n",
    "                    return True\n",
    "        \n",
    "        memo[start] = False\n",
    "        return False  \n",
    "\n",
    "\n",
    "    def wordBreak(self, s, wordDict):\n",
    "        for word in wordDict:\n",
    "            self.insert(word)\n",
    "\n",
    "        memo = {}\n",
    "        return self.search(s, 0, memo)\n",
    "        \"\"\"\n",
    "        :type s: str\n",
    "        :type wordDict: List[str]\n",
    "        :rtype: bool\n",
    "        \"\"\""
   ]
  }
 ],
 "metadata": {
  "kernelspec": {
   "display_name": "Python 3 (ipykernel)",
   "language": "python",
   "name": "python3"
  },
  "language_info": {
   "codemirror_mode": {
    "name": "ipython",
    "version": 3
   },
   "file_extension": ".py",
   "mimetype": "text/x-python",
   "name": "python",
   "nbconvert_exporter": "python",
   "pygments_lexer": "ipython3",
   "version": "3.12.4"
  }
 },
 "nbformat": 4,
 "nbformat_minor": 5
}
