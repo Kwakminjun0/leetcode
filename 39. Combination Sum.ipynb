{
 "cells": [
  {
   "cell_type": "code",
   "execution_count": null,
   "id": "645f7176-458e-4d4d-b621-3c57db910b1a",
   "metadata": {},
   "outputs": [],
   "source": [
    "class Solution(object):\n",
    "    def combinationSum(self, candidates, target):\n",
    "        def backtrack(start, target, path):\n",
    "            if target == 0:\n",
    "                result.append(path)\n",
    "                return\n",
    "            if target < 0:\n",
    "                return\n",
    "            for i in range(start, len(candidates)):\n",
    "                backtrack(i, target - candidates[i], path + [candidates[i]])\n",
    "\n",
    "        result = []\n",
    "        candidates.sort()\n",
    "        backtrack(0, target, [])\n",
    "        return result"
   ]
  }
 ],
 "metadata": {
  "kernelspec": {
   "display_name": "Python 3 (ipykernel)",
   "language": "python",
   "name": "python3"
  },
  "language_info": {
   "codemirror_mode": {
    "name": "ipython",
    "version": 3
   },
   "file_extension": ".py",
   "mimetype": "text/x-python",
   "name": "python",
   "nbconvert_exporter": "python",
   "pygments_lexer": "ipython3",
   "version": "3.12.4"
  }
 },
 "nbformat": 4,
 "nbformat_minor": 5
}
