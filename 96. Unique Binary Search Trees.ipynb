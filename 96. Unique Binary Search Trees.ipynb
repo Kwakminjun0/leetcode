{
 "cells": [
  {
   "cell_type": "code",
   "execution_count": null,
   "id": "dc5f8a88",
   "metadata": {},
   "outputs": [],
   "source": [
    "class Solution(object):\n",
    "    def numTrees(self, n):\n",
    "        \"\"\"\n",
    "        :type n: int\n",
    "        :rtype: int\n",
    "        \"\"\"\n",
    "        if n <= 1:\n",
    "            return 1\n",
    "        \n",
    "        dp = [0] * (n + 1)\n",
    "        dp[0], dp[1] = 1, 1\n",
    "        \n",
    "        for i in range(2, n + 1):\n",
    "            for j in range(1, i + 1):\n",
    "                dp[i] += dp[j - 1] * dp[i - j]\n",
    "        \n",
    "        return dp[n]\n",
    "        "
   ]
  }
 ],
 "metadata": {
  "kernelspec": {
   "display_name": "Python 3 (ipykernel)",
   "language": "python",
   "name": "python3"
  },
  "language_info": {
   "codemirror_mode": {
    "name": "ipython",
    "version": 3
   },
   "file_extension": ".py",
   "mimetype": "text/x-python",
   "name": "python",
   "nbconvert_exporter": "python",
   "pygments_lexer": "ipython3",
   "version": "3.9.12"
  }
 },
 "nbformat": 4,
 "nbformat_minor": 5
}
