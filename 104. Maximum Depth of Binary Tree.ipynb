{
 "cells": [
  {
   "cell_type": "code",
   "execution_count": null,
   "id": "bb1a1531-c54c-4857-a4aa-bc39c250c6fc",
   "metadata": {},
   "outputs": [],
   "source": [
    "class Solution(object):\n",
    "    def maxDepth(self, root):\n",
    "        \"\"\"\n",
    "        :type root: TreeNode\n",
    "        :rtype: int\n",
    "        \"\"\"\n",
    "        if not root:\n",
    "            return 0\n",
    "        \n",
    "        q =[]\n",
    "        q.append(root)\n",
    "        depth=0\n",
    "        while len(q):\n",
    "            dim=len(q)\n",
    "            for i in range(dim):\n",
    "                node=q.pop(0)\n",
    "                if node.left !=None:\n",
    "                    q.append(node.left)\n",
    "                if node.right!=None:\n",
    "                    q.append(node.right)\n",
    "                    \n",
    "            depth+=1\n",
    "    \n",
    "        return depth"
   ]
  }
 ],
 "metadata": {
  "kernelspec": {
   "display_name": "Python 3 (ipykernel)",
   "language": "python",
   "name": "python3"
  },
  "language_info": {
   "codemirror_mode": {
    "name": "ipython",
    "version": 3
   },
   "file_extension": ".py",
   "mimetype": "text/x-python",
   "name": "python",
   "nbconvert_exporter": "python",
   "pygments_lexer": "ipython3",
   "version": "3.12.4"
  }
 },
 "nbformat": 4,
 "nbformat_minor": 5
}
