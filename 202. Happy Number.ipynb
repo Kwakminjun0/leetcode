{
 "cells": [
  {
   "cell_type": "code",
   "execution_count": null,
   "id": "46893f7b",
   "metadata": {},
   "outputs": [],
   "source": [
    "class Solution(object):\n",
    "    def isHappy(self, n):\n",
    "        \"\"\"\n",
    "        :type n: int\n",
    "        :rtype: bool\n",
    "        \"\"\"\n",
    "        def get_next(num):\n",
    "            # Function to return the sum of the squares of the digits\n",
    "            total_sum = 0\n",
    "            while num > 0:\n",
    "                num, digit = divmod(num, 10)\n",
    "                total_sum += digit ** 2\n",
    "            return total_sum\n",
    "        \n",
    "        seen = set()\n",
    "        while n != 1 and n not in seen:\n",
    "            seen.add(n)\n",
    "            n = get_next(n)\n",
    "        return n == 1"
   ]
  }
 ],
 "metadata": {
  "kernelspec": {
   "display_name": "Python 3 (ipykernel)",
   "language": "python",
   "name": "python3"
  },
  "language_info": {
   "codemirror_mode": {
    "name": "ipython",
    "version": 3
   },
   "file_extension": ".py",
   "mimetype": "text/x-python",
   "name": "python",
   "nbconvert_exporter": "python",
   "pygments_lexer": "ipython3",
   "version": "3.9.12"
  }
 },
 "nbformat": 4,
 "nbformat_minor": 5
}
