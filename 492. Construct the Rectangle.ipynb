{
 "cells": [
  {
   "cell_type": "code",
   "execution_count": null,
   "id": "9b260d81",
   "metadata": {},
   "outputs": [],
   "source": [
    "class Solution(object):\n",
    "    def constructRectangle(self, area):\n",
    "        \"\"\"\n",
    "        :type area: int\n",
    "        :rtype: List[int]\n",
    "        \"\"\"\n",
    "        # Start from the square root of the area\n",
    "        width = int(math.sqrt(area))\n",
    "        # Find a divisor of the area by iteratively decreasing the width\n",
    "        while area % width != 0:\n",
    "            width -= 1\n",
    "        # Calculate the corresponding length\n",
    "        length = area // width\n",
    "        return [max(length, width), min(length, width)]"
   ]
  }
 ],
 "metadata": {
  "kernelspec": {
   "display_name": "Python 3 (ipykernel)",
   "language": "python",
   "name": "python3"
  },
  "language_info": {
   "codemirror_mode": {
    "name": "ipython",
    "version": 3
   },
   "file_extension": ".py",
   "mimetype": "text/x-python",
   "name": "python",
   "nbconvert_exporter": "python",
   "pygments_lexer": "ipython3",
   "version": "3.9.12"
  }
 },
 "nbformat": 4,
 "nbformat_minor": 5
}
