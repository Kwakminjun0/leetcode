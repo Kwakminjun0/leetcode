{
 "cells": [
  {
   "cell_type": "code",
   "execution_count": null,
   "id": "e9fdf098",
   "metadata": {},
   "outputs": [],
   "source": [
    "class Solution(object):\n",
    "    def isRobotBounded(self, instructions):\n",
    "        \"\"\"\n",
    "        :type instructions: str\n",
    "        :rtype: bool\n",
    "        \"\"\"\n",
    "        # Define the initial position and direction of the robot\n",
    "        position = [0, 0]\n",
    "        direction = [0, 1]  # Facing north\n",
    "        \n",
    "        # Iterate through each instruction\n",
    "        for instruction in instructions:\n",
    "            if instruction == \"G\":\n",
    "                # Update the position by adding the current direction vector\n",
    "                position[0] += direction[0]\n",
    "                position[1] += direction[1]\n",
    "            elif instruction == \"L\":\n",
    "                # Rotate the direction vector 90 degrees anticlockwise\n",
    "                direction = [-direction[1], direction[0]]\n",
    "            elif instruction == \"R\":\n",
    "                # Rotate the direction vector 90 degrees clockwise\n",
    "                direction = [direction[1], -direction[0]]\n",
    "        \n",
    "        # If the robot is back at the starting position and facing north\n",
    "        return (position == [0, 0]) or (direction != [0, 1])"
   ]
  }
 ],
 "metadata": {
  "kernelspec": {
   "display_name": "Python 3 (ipykernel)",
   "language": "python",
   "name": "python3"
  },
  "language_info": {
   "codemirror_mode": {
    "name": "ipython",
    "version": 3
   },
   "file_extension": ".py",
   "mimetype": "text/x-python",
   "name": "python",
   "nbconvert_exporter": "python",
   "pygments_lexer": "ipython3",
   "version": "3.9.12"
  }
 },
 "nbformat": 4,
 "nbformat_minor": 5
}
