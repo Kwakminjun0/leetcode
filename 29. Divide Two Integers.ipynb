{
 "cells": [
  {
   "cell_type": "code",
   "execution_count": null,
   "id": "0b36cb52-d6f0-42f7-adb9-b5d7a4719dd3",
   "metadata": {},
   "outputs": [],
   "source": [
    "class Solution(object):\n",
    "    def divide(self, dividend, divisor):\n",
    "        \"\"\"\n",
    "        :type dividend: int\n",
    "        :type divisor: int\n",
    "        :rtype: int\n",
    "        \"\"\"\n",
    "        if abs(divisor) == 1:\n",
    "            dividend = divisor * dividend\n",
    "            if dividend > 2**31 - 1:\n",
    "                return 2**31 - 1\n",
    "\n",
    "            if dividend < -2**31:\n",
    "                return -2**31\n",
    "\n",
    "            return dividend\n",
    "\n",
    "        quotient = 0\n",
    "        sign = 1\n",
    "        if dividend * divisor < 0:\n",
    "            sign = -1\n",
    "\n",
    "        if dividend < 0: dividend = -dividend\n",
    "        if divisor < 0: divisor = -divisor\n",
    "\n",
    "        i = 1\n",
    "        sum_all = 0\n",
    "        while sum_all <= dividend:\n",
    "            if dividend - sum_all < divisor * i:\n",
    "                i = 1\n",
    "            quotient += i\n",
    "            sum_all += divisor * i\n",
    "            i += 1\n",
    "\n",
    "        return (quotient - 1) * sign"
   ]
  }
 ],
 "metadata": {
  "kernelspec": {
   "display_name": "Python 3 (ipykernel)",
   "language": "python",
   "name": "python3"
  },
  "language_info": {
   "codemirror_mode": {
    "name": "ipython",
    "version": 3
   },
   "file_extension": ".py",
   "mimetype": "text/x-python",
   "name": "python",
   "nbconvert_exporter": "python",
   "pygments_lexer": "ipython3",
   "version": "3.12.4"
  }
 },
 "nbformat": 4,
 "nbformat_minor": 5
}
