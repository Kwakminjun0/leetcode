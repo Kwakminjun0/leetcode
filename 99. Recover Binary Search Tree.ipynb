{
 "cells": [
  {
   "cell_type": "code",
   "execution_count": null,
   "id": "6a7d9b65-71a0-4efe-82de-0a3faca0a04f",
   "metadata": {},
   "outputs": [],
   "source": [
    "class Solution(object):\n",
    "    def recoverTree(self, root):\n",
    "        \"\"\"\n",
    "        :type root: TreeNode\n",
    "        :rtype: None Do not return anything, modify root in-place instead.\n",
    "        \"\"\"\n",
    "        node = root\n",
    "        prev_node = None\n",
    "        first_node, second_node, third_node = None, None, None\n",
    "        while node:\n",
    "            if not node.left:\n",
    "                if prev_node and prev_node.val > node.val:\n",
    "                    if not first_node:\n",
    "                        first_node = prev_node\n",
    "                        second_node = node\n",
    "                    else:\n",
    "                        third_node = node\n",
    "                prev_node = node\n",
    "                node = node.right \n",
    "            else:\n",
    "                prev = node.left\n",
    "                while prev.right and prev.right != node:\n",
    "                    prev = prev.right\n",
    "                if prev.right == node:\n",
    "                    prev.right = None\n",
    "                    if prev_node and prev_node.val > node.val:\n",
    "                        if not first_node:\n",
    "                            first_node = prev_node\n",
    "                            second_node = node\n",
    "                        else:\n",
    "                            third_node = node\n",
    "                    prev_node = node\n",
    "                    node = node.right\n",
    "                else:\n",
    "                    prev.right = node\n",
    "                    node = node.left\n",
    "        if first_node:\n",
    "            if not third_node:\n",
    "                second_node.val, first_node.val = first_node.val, second_node.val\n",
    "            else:\n",
    "                first_node.val, third_node.val = third_node.val, first_node.val\n",
    "        "
   ]
  }
 ],
 "metadata": {
  "kernelspec": {
   "display_name": "Python 3 (ipykernel)",
   "language": "python",
   "name": "python3"
  },
  "language_info": {
   "codemirror_mode": {
    "name": "ipython",
    "version": 3
   },
   "file_extension": ".py",
   "mimetype": "text/x-python",
   "name": "python",
   "nbconvert_exporter": "python",
   "pygments_lexer": "ipython3",
   "version": "3.12.4"
  }
 },
 "nbformat": 4,
 "nbformat_minor": 5
}
