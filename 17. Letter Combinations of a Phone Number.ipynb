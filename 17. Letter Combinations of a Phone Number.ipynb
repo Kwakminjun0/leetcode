{
 "cells": [
  {
   "cell_type": "code",
   "execution_count": null,
   "id": "f86f0452-02f9-4b0a-87f3-21c117292b12",
   "metadata": {},
   "outputs": [],
   "source": [
    "class Solution:\n",
    "    def letterCombinations(self, digits):\n",
    "        if not digits:\n",
    "            return []\n",
    "\n",
    "        # Mapping of digits to letters as per a phone keypad\n",
    "        digit_to_letters = {\n",
    "            \"2\": \"abc\", \"3\": \"def\", \"4\": \"ghi\", \"5\": \"jkl\",\n",
    "            \"6\": \"mno\", \"7\": \"pqrs\", \"8\": \"tuv\", \"9\": \"wxyz\"\n",
    "        }\n",
    "\n",
    "        # Helper function for backtracking\n",
    "        def backtrack(index, path):\n",
    "            # If the current combination is complete, add it to the result\n",
    "            if index == len(digits):\n",
    "                result.append(\"\".join(path))\n",
    "                return\n",
    "\n",
    "            # Get the letters corresponding to the current digit\n",
    "            letters = digit_to_letters[digits[index]]\n",
    "            for letter in letters:\n",
    "                # Add the letter to the path and move to the next digit\n",
    "                path.append(letter)\n",
    "                backtrack(index + 1, path)\n",
    "                # Backtrack by removing the last letter\n",
    "                path.pop()\n",
    "\n",
    "        result = []\n",
    "        backtrack(0, [])\n",
    "        return result\n",
    "        "
   ]
  }
 ],
 "metadata": {
  "kernelspec": {
   "display_name": "Python 3 (ipykernel)",
   "language": "python",
   "name": "python3"
  },
  "language_info": {
   "codemirror_mode": {
    "name": "ipython",
    "version": 3
   },
   "file_extension": ".py",
   "mimetype": "text/x-python",
   "name": "python",
   "nbconvert_exporter": "python",
   "pygments_lexer": "ipython3",
   "version": "3.12.4"
  }
 },
 "nbformat": 4,
 "nbformat_minor": 5
}
