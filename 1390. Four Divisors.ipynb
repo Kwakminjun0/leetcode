{
 "cells": [
  {
   "cell_type": "code",
   "execution_count": null,
   "id": "28fd66df",
   "metadata": {},
   "outputs": [],
   "source": [
    "class Solution(object):\n",
    "    def sumFourDivisors(self, nums):\n",
    "        \"\"\"\n",
    "        :type nums: List[int]\n",
    "        :rtype: int\n",
    "        \"\"\"\n",
    "        def find_divisors(n):\n",
    "            divisors = set()\n",
    "            for i in range(1, int(n**0.5) + 1):\n",
    "                if n % i == 0:\n",
    "                    divisors.add(i)\n",
    "                    divisors.add(n // i)\n",
    "                if len(divisors) > 4:\n",
    "                    return []\n",
    "            return divisors\n",
    "\n",
    "        total_sum = 0\n",
    "        for num in nums:\n",
    "            divisors = find_divisors(num)\n",
    "            if len(divisors) == 4:\n",
    "                total_sum += sum(divisors)\n",
    "        \n",
    "        return total_sum"
   ]
  }
 ],
 "metadata": {
  "kernelspec": {
   "display_name": "Python 3 (ipykernel)",
   "language": "python",
   "name": "python3"
  },
  "language_info": {
   "codemirror_mode": {
    "name": "ipython",
    "version": 3
   },
   "file_extension": ".py",
   "mimetype": "text/x-python",
   "name": "python",
   "nbconvert_exporter": "python",
   "pygments_lexer": "ipython3",
   "version": "3.9.12"
  }
 },
 "nbformat": 4,
 "nbformat_minor": 5
}
