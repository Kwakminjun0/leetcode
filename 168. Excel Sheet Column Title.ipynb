{
 "cells": [
  {
   "cell_type": "code",
   "execution_count": null,
   "id": "59b1fd6b",
   "metadata": {},
   "outputs": [],
   "source": [
    "class Solution(object):\n",
    "    def convertToTitle(self, columnNumber):\n",
    "        \"\"\"\n",
    "        :type columnNumber: int\n",
    "        :rtype: str\n",
    "        \"\"\"\n",
    "        column_title = ''\n",
    "        while columnNumber:\n",
    "            remainder = columnNumber % 26\n",
    "            if remainder == 0:\n",
    "                column_title += 'Z'\n",
    "                columnNumber -= 26\n",
    "            else:\n",
    "                column_title += chr(ord('A') + remainder - 1)\n",
    "            columnNumber //= 26\n",
    "        return column_title[::-1]\n",
    "        "
   ]
  }
 ],
 "metadata": {
  "kernelspec": {
   "display_name": "Python 3 (ipykernel)",
   "language": "python",
   "name": "python3"
  },
  "language_info": {
   "codemirror_mode": {
    "name": "ipython",
    "version": 3
   },
   "file_extension": ".py",
   "mimetype": "text/x-python",
   "name": "python",
   "nbconvert_exporter": "python",
   "pygments_lexer": "ipython3",
   "version": "3.9.12"
  }
 },
 "nbformat": 4,
 "nbformat_minor": 5
}
