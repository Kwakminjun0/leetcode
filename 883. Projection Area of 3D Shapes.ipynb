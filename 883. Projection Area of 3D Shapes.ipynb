{
 "cells": [
  {
   "cell_type": "code",
   "execution_count": null,
   "id": "f40ece37",
   "metadata": {},
   "outputs": [],
   "source": [
    "class Solution(object):\n",
    "    def projectionArea(self, grid):\n",
    "        \"\"\"\n",
    "        :type grid: List[List[int]]\n",
    "        :rtype: int\n",
    "        \"\"\"\n",
    "        n = len(grid)\n",
    "        xy_area = sum(1 for i in range(n) for j in range(n) if grid[i][j] > 0)\n",
    "        yz_area = sum(max(grid[i][j] for i in range(n)) for j in range(n))\n",
    "        zx_area = sum(max(grid[i][j] for j in range(n)) for i in range(n))\n",
    "        return xy_area + yz_area + zx_area"
   ]
  }
 ],
 "metadata": {
  "kernelspec": {
   "display_name": "Python 3 (ipykernel)",
   "language": "python",
   "name": "python3"
  },
  "language_info": {
   "codemirror_mode": {
    "name": "ipython",
    "version": 3
   },
   "file_extension": ".py",
   "mimetype": "text/x-python",
   "name": "python",
   "nbconvert_exporter": "python",
   "pygments_lexer": "ipython3",
   "version": "3.9.12"
  }
 },
 "nbformat": 4,
 "nbformat_minor": 5
}
