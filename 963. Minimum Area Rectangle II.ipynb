{
 "cells": [
  {
   "cell_type": "code",
   "execution_count": null,
   "id": "8cb955ca",
   "metadata": {},
   "outputs": [],
   "source": [
    "def dist_pow2(x1, y1, x2, y2): return (x2 - x1)**2 + (y2 - y1)**2\n",
    "def dist(x1, y1, x2, y2): return dist_pow2(x1, y1, x2, y2)**0.5\n",
    "\n",
    "class Solution:\n",
    "    def minAreaFreeRect(self, points):\n",
    "        L, m = len(points), float('inf')\n",
    "\n",
    "        quick_search = {(x, y) for x, y in points}\n",
    "\n",
    "        for i in range(L):\n",
    "            for j in range(i + 1, L):\n",
    "                for k in range(j + 1, L):\n",
    "                    x1, y1 = points[i] # calculate point4 to form a diamond by previous three\n",
    "                    x2, y2 = points[j] # we only check case when x4 is latter occured than x3\n",
    "                    x3, y3 = points[k] # becourse the case when x4 is earlier occured than x3 will be covered already\n",
    "                    x4, y4 = (x3 + (x2 - x1), y3 + (y2 - y1))\n",
    "\n",
    "                    if (x4, y4) in quick_search:  # look for existence of dimond shape\n",
    "                        # if two diagonals' length are equal, we got a rectangel\n",
    "                        if dist_pow2(x1, y1, x4, y4) == dist_pow2(x2, y2, x3, y3):\n",
    "                            # calculate area by multipling any two adjacent edge's length\n",
    "                            area = dist(x1, y1, x2, y2) * dist(x1, y1, x3, y3)\n",
    "                            m = min(m, area)  # keep track of min_area\n",
    "\n",
    "        return m if m != float('inf') else 0"
   ]
  }
 ],
 "metadata": {
  "kernelspec": {
   "display_name": "Python 3 (ipykernel)",
   "language": "python",
   "name": "python3"
  },
  "language_info": {
   "codemirror_mode": {
    "name": "ipython",
    "version": 3
   },
   "file_extension": ".py",
   "mimetype": "text/x-python",
   "name": "python",
   "nbconvert_exporter": "python",
   "pygments_lexer": "ipython3",
   "version": "3.9.12"
  }
 },
 "nbformat": 4,
 "nbformat_minor": 5
}
