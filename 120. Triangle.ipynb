{
 "cells": [
  {
   "cell_type": "code",
   "execution_count": null,
   "id": "b3281e68-bf9f-4e21-9c26-88ebb3be5d59",
   "metadata": {},
   "outputs": [],
   "source": [
    "class Solution:\n",
    "    def minimumTotal(self, triangle):\n",
    "        dp = triangle[-1]  # Start with the last row\n",
    "        # Move upwards from the second-last row to the top\n",
    "        for i in range(len(triangle) - 2, -1, -1):\n",
    "            curr = [0] * (i + 1)\n",
    "            for j in range(i, -1, -1):\n",
    "                # Update current row by taking the min of the adjacent elements from the row below\n",
    "                curr[j] = triangle[i][j] + min(dp[j], dp[j + 1])\n",
    "            dp = curr  # Move dp to the current row\n",
    "        return dp[0]  # The top element will be the minimum path sum"
   ]
  }
 ],
 "metadata": {
  "kernelspec": {
   "display_name": "Python 3 (ipykernel)",
   "language": "python",
   "name": "python3"
  },
  "language_info": {
   "codemirror_mode": {
    "name": "ipython",
    "version": 3
   },
   "file_extension": ".py",
   "mimetype": "text/x-python",
   "name": "python",
   "nbconvert_exporter": "python",
   "pygments_lexer": "ipython3",
   "version": "3.12.4"
  }
 },
 "nbformat": 4,
 "nbformat_minor": 5
}
