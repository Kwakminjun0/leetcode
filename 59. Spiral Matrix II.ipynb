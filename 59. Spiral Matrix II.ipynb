{
 "cells": [
  {
   "cell_type": "code",
   "execution_count": null,
   "id": "4a13415e-4d11-4b53-bb1b-f66468bd352b",
   "metadata": {},
   "outputs": [],
   "source": [
    "class Solution(object):\n",
    "    def generateMatrix(self, n):\n",
    "        if not n:\n",
    "            return []\n",
    "        res = [[0 for _ in xrange(n)] for _ in xrange(n)]\n",
    "        left, right, top, down, num = 0, n-1, 0, n-1, 1\n",
    "        while left <= right and top <= down:\n",
    "            for i in xrange(left, right+1):\n",
    "                res[top][i] = num \n",
    "                num += 1\n",
    "            top += 1\n",
    "            for i in xrange(top, down+1):\n",
    "                res[i][right] = num\n",
    "                num += 1\n",
    "            right -= 1\n",
    "            for i in xrange(right, left-1, -1):\n",
    "                res[down][i] = num\n",
    "                num += 1\n",
    "            down -= 1\n",
    "            for i in xrange(down, top-1, -1):\n",
    "                res[i][left] = num\n",
    "                num += 1\n",
    "            left += 1\n",
    "        return res"
   ]
  }
 ],
 "metadata": {
  "kernelspec": {
   "display_name": "Python 3 (ipykernel)",
   "language": "python",
   "name": "python3"
  },
  "language_info": {
   "codemirror_mode": {
    "name": "ipython",
    "version": 3
   },
   "file_extension": ".py",
   "mimetype": "text/x-python",
   "name": "python",
   "nbconvert_exporter": "python",
   "pygments_lexer": "ipython3",
   "version": "3.12.4"
  }
 },
 "nbformat": 4,
 "nbformat_minor": 5
}
