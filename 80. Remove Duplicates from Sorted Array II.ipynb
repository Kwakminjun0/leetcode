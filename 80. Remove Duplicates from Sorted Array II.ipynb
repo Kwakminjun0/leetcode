{
 "cells": [
  {
   "cell_type": "code",
   "execution_count": null,
   "id": "40325cb2-75a7-43b0-9d34-7c6706bf4f7b",
   "metadata": {},
   "outputs": [],
   "source": [
    "class Solution(object):\n",
    "    def removeDuplicates(self, nums):\n",
    "        # Initialize an integer k that updates the kth index of the array...\n",
    "        # only when the current element does not match either of the two previous indexes. ...\n",
    "        k = 0\n",
    "        # Traverse all elements through loop...\n",
    "        for i in nums:\n",
    "            # If the index does not match elements, count that element and update it...\n",
    "            if k < 2 or i != nums[k - 2]:\n",
    "                nums[k] = i\n",
    "                k += 1\n",
    "        return k       # Return k after placing the final result in the first k slots of nums...\n",
    "        "
   ]
  }
 ],
 "metadata": {
  "kernelspec": {
   "display_name": "Python 3 (ipykernel)",
   "language": "python",
   "name": "python3"
  },
  "language_info": {
   "codemirror_mode": {
    "name": "ipython",
    "version": 3
   },
   "file_extension": ".py",
   "mimetype": "text/x-python",
   "name": "python",
   "nbconvert_exporter": "python",
   "pygments_lexer": "ipython3",
   "version": "3.12.4"
  }
 },
 "nbformat": 4,
 "nbformat_minor": 5
}
