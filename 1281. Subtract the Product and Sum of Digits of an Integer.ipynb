{
 "cells": [
  {
   "cell_type": "code",
   "execution_count": null,
   "id": "f7a0de3f",
   "metadata": {},
   "outputs": [],
   "source": [
    "class Solution(object):\n",
    "    def subtractProductAndSum(self, n):\n",
    "        \"\"\"\n",
    "        :type n: int\n",
    "        :rtype: int\n",
    "        \"\"\"\n",
    "        product = 1\n",
    "        summation = 0\n",
    "        \n",
    "        for digit in str(n):\n",
    "            digit = int(digit)\n",
    "            product *= digit\n",
    "            summation += digit\n",
    "        \n",
    "        return product - summation\n",
    "\n",
    "        "
   ]
  }
 ],
 "metadata": {
  "kernelspec": {
   "display_name": "Python 3 (ipykernel)",
   "language": "python",
   "name": "python3"
  },
  "language_info": {
   "codemirror_mode": {
    "name": "ipython",
    "version": 3
   },
   "file_extension": ".py",
   "mimetype": "text/x-python",
   "name": "python",
   "nbconvert_exporter": "python",
   "pygments_lexer": "ipython3",
   "version": "3.9.12"
  }
 },
 "nbformat": 4,
 "nbformat_minor": 5
}
