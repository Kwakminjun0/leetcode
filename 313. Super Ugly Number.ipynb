{
 "cells": [
  {
   "cell_type": "code",
   "execution_count": null,
   "id": "55c6834c",
   "metadata": {},
   "outputs": [],
   "source": [
    "class Solution(object):\n",
    "    def nthSuperUglyNumber(self, n, primes):\n",
    "        \"\"\"\n",
    "        :type n: int\n",
    "        :type primes: List[int]\n",
    "        :rtype: int\n",
    "        \"\"\"\n",
    "        ugly = [1]  # Initialize the list of super ugly numbers\n",
    "        pointers = [0] * len(primes)  # Initialize pointers for each prime factor\n",
    "        next_multiple = list(primes)   # Initialize the next multiple of each prime factor\n",
    "        \n",
    "        for _ in range(1, n):\n",
    "            min_val = min(next_multiple)  # Find the minimum value among next multiples\n",
    "            ugly.append(min_val)           # Append the minimum value to the list of super ugly numbers\n",
    "            \n",
    "            # Update pointers and next multiples for the prime factors that contributed to the minimum value\n",
    "            for i, prime in enumerate(primes):\n",
    "                if min_val == next_multiple[i]:\n",
    "                    pointers[i] += 1\n",
    "                    next_multiple[i] = ugly[pointers[i]] * prime\n",
    "            \n",
    "        return ugly[-1]  # Return the nth super ugly number"
   ]
  }
 ],
 "metadata": {
  "kernelspec": {
   "display_name": "Python 3 (ipykernel)",
   "language": "python",
   "name": "python3"
  },
  "language_info": {
   "codemirror_mode": {
    "name": "ipython",
    "version": 3
   },
   "file_extension": ".py",
   "mimetype": "text/x-python",
   "name": "python",
   "nbconvert_exporter": "python",
   "pygments_lexer": "ipython3",
   "version": "3.9.12"
  }
 },
 "nbformat": 4,
 "nbformat_minor": 5
}
