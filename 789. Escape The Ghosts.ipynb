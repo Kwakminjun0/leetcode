{
 "cells": [
  {
   "cell_type": "code",
   "execution_count": null,
   "id": "faf91157",
   "metadata": {},
   "outputs": [],
   "source": [
    "class Solution(object):\n",
    "    def escapeGhosts(self, ghosts, target):\n",
    "        \"\"\"\n",
    "        :type ghosts: List[List[int]]\n",
    "        :type target: List[int]\n",
    "        :rtype: bool\n",
    "        \"\"\"\n",
    "        # Calculate Manhattan distance between two points\n",
    "        def manhattan_distance(p1, p2):\n",
    "            return abs(p1[0] - p2[0]) + abs(p1[1] - p2[1])\n",
    "        \n",
    "        # Calculate Manhattan distance between your position and the target\n",
    "        your_distance = manhattan_distance([0, 0], target)\n",
    "        \n",
    "        # Check if any ghost can reach the target before you\n",
    "        for ghost in ghosts:\n",
    "            ghost_distance = manhattan_distance(ghost, target)\n",
    "            if ghost_distance <= your_distance:\n",
    "                return False\n",
    "        \n",
    "        return True"
   ]
  }
 ],
 "metadata": {
  "kernelspec": {
   "display_name": "Python 3 (ipykernel)",
   "language": "python",
   "name": "python3"
  },
  "language_info": {
   "codemirror_mode": {
    "name": "ipython",
    "version": 3
   },
   "file_extension": ".py",
   "mimetype": "text/x-python",
   "name": "python",
   "nbconvert_exporter": "python",
   "pygments_lexer": "ipython3",
   "version": "3.9.12"
  }
 },
 "nbformat": 4,
 "nbformat_minor": 5
}
