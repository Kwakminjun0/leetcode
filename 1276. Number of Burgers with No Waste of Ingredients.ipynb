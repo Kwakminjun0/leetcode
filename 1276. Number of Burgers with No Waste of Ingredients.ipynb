{
 "cells": [
  {
   "cell_type": "code",
   "execution_count": null,
   "id": "39214f64",
   "metadata": {},
   "outputs": [],
   "source": [
    "class Solution(object):\n",
    "    def numOfBurgers(self, tomatoSlices, cheeseSlices):\n",
    "        \"\"\"\n",
    "        :type tomatoSlices: int\n",
    "        :type cheeseSlices: int\n",
    "        :rtype: List[int]\n",
    "        \"\"\"\n",
    "        t, c = tomatoSlices, cheeseSlices\n",
    "\n",
    "        # Check if the solution is valid\n",
    "        if (t - 2 * c) % 2 != 0 or t < 2 * c:\n",
    "            return []\n",
    "        \n",
    "        # Calculate the number of jumbo and small burgers\n",
    "        j = (t - 2 * c) // 2\n",
    "        s = c - j\n",
    "        \n",
    "        # Check if the calculated numbers are non-negative\n",
    "        if j < 0 or s < 0:\n",
    "            return []\n",
    "\n",
    "        return [j, s]"
   ]
  }
 ],
 "metadata": {
  "kernelspec": {
   "display_name": "Python 3 (ipykernel)",
   "language": "python",
   "name": "python3"
  },
  "language_info": {
   "codemirror_mode": {
    "name": "ipython",
    "version": 3
   },
   "file_extension": ".py",
   "mimetype": "text/x-python",
   "name": "python",
   "nbconvert_exporter": "python",
   "pygments_lexer": "ipython3",
   "version": "3.9.12"
  }
 },
 "nbformat": 4,
 "nbformat_minor": 5
}
