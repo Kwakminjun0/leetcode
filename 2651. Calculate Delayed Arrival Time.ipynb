{
 "cells": [
  {
   "cell_type": "code",
   "execution_count": null,
   "id": "dce228a3",
   "metadata": {},
   "outputs": [],
   "source": [
    "class Solution(object):\n",
    "    def findDelayedArrivalTime(self, arrivalTime, delayedTime):\n",
    "        \"\"\"\n",
    "        :type arrivalTime: int\n",
    "        :type delayedTime: int\n",
    "        :rtype: int\n",
    "        \"\"\"\n",
    "        # Calculate the new arrival time by adding the delayed time\n",
    "        new_arrival_time = (arrivalTime + delayedTime) % 24\n",
    "        return new_arrival_time"
   ]
  }
 ],
 "metadata": {
  "kernelspec": {
   "display_name": "Python 3 (ipykernel)",
   "language": "python",
   "name": "python3"
  },
  "language_info": {
   "codemirror_mode": {
    "name": "ipython",
    "version": 3
   },
   "file_extension": ".py",
   "mimetype": "text/x-python",
   "name": "python",
   "nbconvert_exporter": "python",
   "pygments_lexer": "ipython3",
   "version": "3.9.12"
  }
 },
 "nbformat": 4,
 "nbformat_minor": 5
}
