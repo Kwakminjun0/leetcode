{
 "cells": [
  {
   "cell_type": "code",
   "execution_count": null,
   "id": "a5681130",
   "metadata": {},
   "outputs": [],
   "source": [
    "class Solution(object):\n",
    "    def clumsy(self, n):\n",
    "        res = n\n",
    "        out = []\n",
    "        for i in range(1,n):\n",
    "            if i % 4 == 1:\n",
    "                res *= n - i \n",
    "            elif i % 4 == 2:\n",
    "                if res < 0:\n",
    "                    res = - res / (n - i) \n",
    "                    # as -29/4 = -8 but we need -7 for our clumsy. \n",
    "                    # so, here we are changing sign to get our required result.\n",
    "                    res = -res\n",
    "                else:\n",
    "                    res /= n - i\n",
    "                \n",
    "                \n",
    "            elif i % 4 == 3:\n",
    "                res += n - i\n",
    "            else:\n",
    "                out.append(res)\n",
    "                res = -(n - i)       \n",
    "\n",
    "        if out == []:\n",
    "            return int(res)\n",
    "        else:\n",
    "            return int(res) + int(sum(out))"
   ]
  }
 ],
 "metadata": {
  "kernelspec": {
   "display_name": "Python 3 (ipykernel)",
   "language": "python",
   "name": "python3"
  },
  "language_info": {
   "codemirror_mode": {
    "name": "ipython",
    "version": 3
   },
   "file_extension": ".py",
   "mimetype": "text/x-python",
   "name": "python",
   "nbconvert_exporter": "python",
   "pygments_lexer": "ipython3",
   "version": "3.9.12"
  }
 },
 "nbformat": 4,
 "nbformat_minor": 5
}
