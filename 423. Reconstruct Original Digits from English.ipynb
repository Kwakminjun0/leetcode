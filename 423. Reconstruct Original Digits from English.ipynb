{
 "cells": [
  {
   "cell_type": "code",
   "execution_count": null,
   "id": "9aa26169",
   "metadata": {},
   "outputs": [],
   "source": [
    "class Solution(object):\n",
    "    def originalDigits(self, s):\n",
    "        \"\"\"\n",
    "        :type s: str\n",
    "        :rtype: str\n",
    "        \"\"\"\n",
    "        from collections import Counter\n",
    "        \n",
    "        # Count frequency of each character in the string\n",
    "        char_count = Counter(s)\n",
    "        \n",
    "        # Initialize count for each digit from 0 to 9\n",
    "        digit_count = [0] * 10\n",
    "        \n",
    "        # Unique characters for identifying the digits\n",
    "        digit_count[0] = char_count['z']  # 'z' is unique to \"zero\"\n",
    "        digit_count[2] = char_count['w']  # 'w' is unique to \"two\"\n",
    "        digit_count[4] = char_count['u']  # 'u' is unique to \"four\"\n",
    "        digit_count[6] = char_count['x']  # 'x' is unique to \"six\"\n",
    "        digit_count[8] = char_count['g']  # 'g' is unique to \"eight\"\n",
    "        \n",
    "        # Characters that help in identifying remaining digits\n",
    "        digit_count[1] = char_count['o'] - digit_count[0] - digit_count[2] - digit_count[4]  # 'o' is in \"one\", \"zero\", \"two\", \"four\"\n",
    "        digit_count[3] = char_count['h'] - digit_count[8]  # 'h' is in \"three\", \"eight\"\n",
    "        digit_count[5] = char_count['f'] - digit_count[4]  # 'f' is in \"five\", \"four\"\n",
    "        digit_count[7] = char_count['s'] - digit_count[6]  # 's' is in \"seven\", \"six\"\n",
    "        digit_count[9] = char_count['i'] - digit_count[5] - digit_count[6] - digit_count[8]  # 'i' is in \"nine\", \"five\", \"six\", \"eight\"\n",
    "        \n",
    "        # Construct the result string\n",
    "        result = []\n",
    "        for i in range(10):\n",
    "            result.append(str(i) * digit_count[i])\n",
    "        \n",
    "        return ''.join(result)\n",
    "        "
   ]
  }
 ],
 "metadata": {
  "kernelspec": {
   "display_name": "Python 3 (ipykernel)",
   "language": "python",
   "name": "python3"
  },
  "language_info": {
   "codemirror_mode": {
    "name": "ipython",
    "version": 3
   },
   "file_extension": ".py",
   "mimetype": "text/x-python",
   "name": "python",
   "nbconvert_exporter": "python",
   "pygments_lexer": "ipython3",
   "version": "3.9.12"
  }
 },
 "nbformat": 4,
 "nbformat_minor": 5
}
