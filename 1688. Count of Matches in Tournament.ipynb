{
 "cells": [
  {
   "cell_type": "code",
   "execution_count": null,
   "id": "50ef75c7",
   "metadata": {},
   "outputs": [],
   "source": [
    "class Solution(object):\n",
    "    def numberOfMatches(self, n):\n",
    "        \"\"\"\n",
    "        :type n: int\n",
    "        :rtype: int\n",
    "        \"\"\"\n",
    "        total_matches = 0\n",
    "        while n > 1:\n",
    "            if n % 2 == 0:\n",
    "                matches = n // 2\n",
    "                n = n // 2\n",
    "            else:\n",
    "                matches = (n - 1) // 2\n",
    "                n = (n - 1) // 2 + 1\n",
    "            total_matches += matches\n",
    "        return total_matches\n"
   ]
  }
 ],
 "metadata": {
  "kernelspec": {
   "display_name": "Python 3 (ipykernel)",
   "language": "python",
   "name": "python3"
  },
  "language_info": {
   "codemirror_mode": {
    "name": "ipython",
    "version": 3
   },
   "file_extension": ".py",
   "mimetype": "text/x-python",
   "name": "python",
   "nbconvert_exporter": "python",
   "pygments_lexer": "ipython3",
   "version": "3.9.12"
  }
 },
 "nbformat": 4,
 "nbformat_minor": 5
}
