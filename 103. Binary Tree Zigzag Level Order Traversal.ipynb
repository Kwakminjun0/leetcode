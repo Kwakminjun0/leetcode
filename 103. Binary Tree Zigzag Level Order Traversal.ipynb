{
 "cells": [
  {
   "cell_type": "code",
   "execution_count": null,
   "id": "267aafe1-2673-4400-b40b-20b8f4d3fce5",
   "metadata": {},
   "outputs": [],
   "source": [
    "class Solution(object):\n",
    "    def zigzagLevelOrder(self, root):\n",
    "        \"\"\"\n",
    "        :type root: TreeNode\n",
    "        :rtype: List[List[int]]\n",
    "        \"\"\"\n",
    "        if not root:\n",
    "            return []\n",
    "        b=[root]\n",
    "        res=[]\n",
    "        flag=True\n",
    "        while b:\n",
    "            val=[]\n",
    "            b1=[]\n",
    "            for i in b:\n",
    "                val.append(i.val)\n",
    "                if i.left:\n",
    "                    b1.append(i.left)\n",
    "                if i.right:\n",
    "                    b1.append(i.right)\n",
    "            if flag:\n",
    "                res.append(val)\n",
    "                flag=False\n",
    "            else:\n",
    "                res.append(val[::-1])\n",
    "                flag=True\n",
    "            b=b1\n",
    "        return res"
   ]
  }
 ],
 "metadata": {
  "kernelspec": {
   "display_name": "Python 3 (ipykernel)",
   "language": "python",
   "name": "python3"
  },
  "language_info": {
   "codemirror_mode": {
    "name": "ipython",
    "version": 3
   },
   "file_extension": ".py",
   "mimetype": "text/x-python",
   "name": "python",
   "nbconvert_exporter": "python",
   "pygments_lexer": "ipython3",
   "version": "3.12.4"
  }
 },
 "nbformat": 4,
 "nbformat_minor": 5
}
