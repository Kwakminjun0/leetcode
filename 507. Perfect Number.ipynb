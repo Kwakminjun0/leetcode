{
 "cells": [
  {
   "cell_type": "code",
   "execution_count": null,
   "id": "d5efb6a4-d0f2-4b62-ba80-f798fe2d0b2f",
   "metadata": {},
   "outputs": [],
   "source": [
    "class Solution(object):\n",
    "    def checkPerfectNumber(self, num):\n",
    "        \"\"\"\n",
    "        :type num: int\n",
    "        :rtype: bool\n",
    "        \"\"\"\n",
    "        if num <= 1:\n",
    "            return False\n",
    "        \n",
    "        divisor_sum = 1  # Start with 1 since every number is divisible by 1\n",
    "        \n",
    "        # Find divisors up to the square root of the number\n",
    "        for i in range(2, int(num**0.5) + 1):\n",
    "            if num % i == 0:\n",
    "                divisor_sum += i  # Add the divisor\n",
    "                if i != num // i:  # Add the other divisor if it's not the square root\n",
    "                    divisor_sum += num // i\n",
    "        \n",
    "        return divisor_sum == num\n",
    "        "
   ]
  }
 ],
 "metadata": {
  "kernelspec": {
   "display_name": "Python 3 (ipykernel)",
   "language": "python",
   "name": "python3"
  },
  "language_info": {
   "codemirror_mode": {
    "name": "ipython",
    "version": 3
   },
   "file_extension": ".py",
   "mimetype": "text/x-python",
   "name": "python",
   "nbconvert_exporter": "python",
   "pygments_lexer": "ipython3",
   "version": "3.12.4"
  }
 },
 "nbformat": 4,
 "nbformat_minor": 5
}
