{
 "cells": [
  {
   "cell_type": "code",
   "execution_count": null,
   "id": "aeb7dd61-2254-49a2-9741-6d51682b7b45",
   "metadata": {},
   "outputs": [],
   "source": [
    "class Solution(object):\n",
    "    def merge(self, intervals):\n",
    "        n = len(intervals)\n",
    "        if n <= 1:\n",
    "            return intervals\n",
    "        intervals.sort()\n",
    "        res = []\n",
    "        start = intervals[0][0]\n",
    "        end = intervals[0][1]\n",
    "        for i in range(1,n):\n",
    "            if intervals[i][0] <= end:\n",
    "                end = max(end,intervals[i][1])\n",
    "                continue\n",
    "            else:\n",
    "                res.append([start, end])\n",
    "                start = intervals[i][0]\n",
    "                end = intervals[i][1]  \n",
    "        res.append([start, end])                      \n",
    "        return res"
   ]
  }
 ],
 "metadata": {
  "kernelspec": {
   "display_name": "Python 3 (ipykernel)",
   "language": "python",
   "name": "python3"
  },
  "language_info": {
   "codemirror_mode": {
    "name": "ipython",
    "version": 3
   },
   "file_extension": ".py",
   "mimetype": "text/x-python",
   "name": "python",
   "nbconvert_exporter": "python",
   "pygments_lexer": "ipython3",
   "version": "3.12.4"
  }
 },
 "nbformat": 4,
 "nbformat_minor": 5
}
