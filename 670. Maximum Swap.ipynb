{
 "cells": [
  {
   "cell_type": "code",
   "execution_count": null,
   "id": "7954aaac",
   "metadata": {},
   "outputs": [],
   "source": [
    "class Solution(object):\n",
    "    def maximumSwap(self, num):\n",
    "        \"\"\"\n",
    "        :type num: int\n",
    "        :rtype: int\n",
    "        \"\"\"\n",
    "        # Convert the number to a string to make it easier to manipulate the digits\n",
    "        num_str = str(num)\n",
    "        n = len(num_str)\n",
    "        \n",
    "        # Store the last occurrence index of each digit\n",
    "        last_occurrence = {int(d): i for i, d in enumerate(num_str)}\n",
    "        \n",
    "        # Iterate through the digits and find the largest digit to swap\n",
    "        for i in range(n):\n",
    "            for d in range(9, int(num_str[i]), -1):\n",
    "                if d in last_occurrence and last_occurrence[d] > i:\n",
    "                    # Swap the digits and return the result\n",
    "                    num_str = num_str[:i] + str(d) + num_str[i+1:last_occurrence[d]] + num_str[i] + num_str[last_occurrence[d]+1:]\n",
    "                    return int(num_str)\n",
    "        \n",
    "        # If no swap is possible, return the original number\n",
    "        return num"
   ]
  }
 ],
 "metadata": {
  "kernelspec": {
   "display_name": "Python 3 (ipykernel)",
   "language": "python",
   "name": "python3"
  },
  "language_info": {
   "codemirror_mode": {
    "name": "ipython",
    "version": 3
   },
   "file_extension": ".py",
   "mimetype": "text/x-python",
   "name": "python",
   "nbconvert_exporter": "python",
   "pygments_lexer": "ipython3",
   "version": "3.9.12"
  }
 },
 "nbformat": 4,
 "nbformat_minor": 5
}
