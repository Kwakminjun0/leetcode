{
 "cells": [
  {
   "cell_type": "code",
   "execution_count": null,
   "id": "7ea27935-da3e-4538-ba43-add2c195c339",
   "metadata": {},
   "outputs": [],
   "source": [
    "class Solution:\n",
    "    def subsetsWithDup(self, nums):\n",
    "        n = len(nums)\n",
    "        ans = []\n",
    "        current_set = []\n",
    "        nums.sort()\n",
    "\n",
    "        def subset(idx):\n",
    "            if idx >= n:\n",
    "                ans.append(current_set[:])\n",
    "                return\n",
    "            \n",
    "            current_set.append(nums[idx])\n",
    "            subset(idx + 1)\n",
    "            current_set.pop()\n",
    "            \n",
    "            while idx + 1 < n and nums[idx] == nums[idx + 1]:\n",
    "                idx += 1\n",
    "            \n",
    "            subset(idx + 1)\n",
    "        \n",
    "        subset(0)\n",
    "        return ans"
   ]
  }
 ],
 "metadata": {
  "kernelspec": {
   "display_name": "Python 3 (ipykernel)",
   "language": "python",
   "name": "python3"
  },
  "language_info": {
   "codemirror_mode": {
    "name": "ipython",
    "version": 3
   },
   "file_extension": ".py",
   "mimetype": "text/x-python",
   "name": "python",
   "nbconvert_exporter": "python",
   "pygments_lexer": "ipython3",
   "version": "3.12.4"
  }
 },
 "nbformat": 4,
 "nbformat_minor": 5
}
