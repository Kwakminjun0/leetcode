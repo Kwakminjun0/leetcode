{
 "cells": [
  {
   "cell_type": "code",
   "execution_count": null,
   "id": "8e8ec413",
   "metadata": {},
   "outputs": [],
   "source": [
    "class Solution(object):\n",
    "    def findTheWinner(self, n, k):\n",
    "        \"\"\"\n",
    "        :type n: int\n",
    "        :type k: int\n",
    "        :rtype: int\n",
    "        \"\"\"\n",
    "        # Create a list to represent the friends in the circle\n",
    "        friends = list(range(1, n + 1))\n",
    "    \n",
    "        # Initialize the index of the current friend to start counting\n",
    "        current_index = 0\n",
    "    \n",
    "        # Iterate until there is only one friend left in the circle\n",
    "        while len(friends) > 1:\n",
    "            # Calculate the index of the friend to count out\n",
    "            count_index = (current_index + k - 1) % len(friends)\n",
    "            # Remove the counted out friend from the circle\n",
    "            friends.pop(count_index)\n",
    "            # Update the current index to the friend immediately clockwise of the counted out friend\n",
    "            current_index = count_index\n",
    "    \n",
    "        # Return the winner\n",
    "        return friends[0]"
   ]
  }
 ],
 "metadata": {
  "kernelspec": {
   "display_name": "Python 3 (ipykernel)",
   "language": "python",
   "name": "python3"
  },
  "language_info": {
   "codemirror_mode": {
    "name": "ipython",
    "version": 3
   },
   "file_extension": ".py",
   "mimetype": "text/x-python",
   "name": "python",
   "nbconvert_exporter": "python",
   "pygments_lexer": "ipython3",
   "version": "3.9.12"
  }
 },
 "nbformat": 4,
 "nbformat_minor": 5
}
