{
 "cells": [
  {
   "cell_type": "code",
   "execution_count": null,
   "id": "70e1305a",
   "metadata": {},
   "outputs": [],
   "source": [
    "class Solution(object):\n",
    "    def winnerOfGame(self, colors):\n",
    "        \"\"\"\n",
    "        :type colors: str\n",
    "        :rtype: bool\n",
    "        \"\"\"\n",
    "        charASum = charBSum = 0\n",
    "        currChar, currCounter = colors[0], 1\n",
    "\n",
    "        for char in colors[1:]:\n",
    "            if char == currChar:\n",
    "                currCounter += 1\n",
    "            else:\n",
    "                if currChar == 'A':\n",
    "                    charASum += max(0, currCounter - 2)\n",
    "                else:\n",
    "                    charBSum += max(0, currCounter - 2)\n",
    "                currCounter = 1\n",
    "                currChar = char\n",
    "        if currChar == 'A':\n",
    "            charASum += max(0, currCounter - 2)\n",
    "        else:\n",
    "            charBSum += max(0, currCounter - 2)\n",
    "        return charASum > charBSum\n"
   ]
  }
 ],
 "metadata": {
  "kernelspec": {
   "display_name": "Python 3 (ipykernel)",
   "language": "python",
   "name": "python3"
  },
  "language_info": {
   "codemirror_mode": {
    "name": "ipython",
    "version": 3
   },
   "file_extension": ".py",
   "mimetype": "text/x-python",
   "name": "python",
   "nbconvert_exporter": "python",
   "pygments_lexer": "ipython3",
   "version": "3.9.12"
  }
 },
 "nbformat": 4,
 "nbformat_minor": 5
}
