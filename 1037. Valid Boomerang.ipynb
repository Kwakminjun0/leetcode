{
 "cells": [
  {
   "cell_type": "code",
   "execution_count": null,
   "id": "bc0e89c5",
   "metadata": {},
   "outputs": [],
   "source": [
    "class Solution(object):\n",
    "    def isBoomerang(self, points):\n",
    "        \"\"\"\n",
    "        :type points: List[List[int]]\n",
    "        :rtype: bool\n",
    "        \"\"\"\n",
    "        # Calculate the slope between the first two points\n",
    "        slope1 = (points[1][1] - points[0][1]) * (points[2][0] - points[1][0])\n",
    "        # Calculate the slope between the second two points\n",
    "        slope2 = (points[2][1] - points[1][1]) * (points[1][0] - points[0][0])\n",
    "        \n",
    "        # If the slopes are equal, the points are collinear and not a boomerang\n",
    "        return slope1 != slope2"
   ]
  }
 ],
 "metadata": {
  "kernelspec": {
   "display_name": "Python 3 (ipykernel)",
   "language": "python",
   "name": "python3"
  },
  "language_info": {
   "codemirror_mode": {
    "name": "ipython",
    "version": 3
   },
   "file_extension": ".py",
   "mimetype": "text/x-python",
   "name": "python",
   "nbconvert_exporter": "python",
   "pygments_lexer": "ipython3",
   "version": "3.9.12"
  }
 },
 "nbformat": 4,
 "nbformat_minor": 5
}
