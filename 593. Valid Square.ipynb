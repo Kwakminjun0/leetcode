{
 "cells": [
  {
   "cell_type": "code",
   "execution_count": null,
   "id": "413f4924",
   "metadata": {},
   "outputs": [],
   "source": [
    "class Solution(object):\n",
    "    def distance(self, p1, p2):\n",
    "        return (p1[0] - p2[0]) ** 2 + (p1[1] - p2[1]) ** 2\n",
    "\n",
    "    def validSquare(self, p1, p2, p3, p4):\n",
    "        distances = [\n",
    "            self.distance(p1, p2),\n",
    "            self.distance(p1, p3),\n",
    "            self.distance(p1, p4),\n",
    "            self.distance(p2, p3),\n",
    "            self.distance(p2, p4),\n",
    "            self.distance(p3, p4)\n",
    "        ]\n",
    "        \n",
    "        distances.sort()\n",
    "        return distances[0] > 0 and distances[0] == distances[1] == distances[2] == distances[3] and distances[4] == distances[5]"
   ]
  }
 ],
 "metadata": {
  "kernelspec": {
   "display_name": "Python 3 (ipykernel)",
   "language": "python",
   "name": "python3"
  },
  "language_info": {
   "codemirror_mode": {
    "name": "ipython",
    "version": 3
   },
   "file_extension": ".py",
   "mimetype": "text/x-python",
   "name": "python",
   "nbconvert_exporter": "python",
   "pygments_lexer": "ipython3",
   "version": "3.9.12"
  }
 },
 "nbformat": 4,
 "nbformat_minor": 5
}
