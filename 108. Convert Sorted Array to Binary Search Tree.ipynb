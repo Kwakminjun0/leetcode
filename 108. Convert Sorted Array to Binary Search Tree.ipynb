{
 "cells": [
  {
   "cell_type": "code",
   "execution_count": null,
   "id": "274387ba-33fb-43b6-8a76-3de845a5e471",
   "metadata": {},
   "outputs": [],
   "source": [
    "class Solution(object):\n",
    "    def sortedArrayToBST(self, nums):\n",
    "        \"\"\"\n",
    "        :type nums: List[int]\n",
    "        :rtype: TreeNode\n",
    "        \"\"\"\n",
    "        def helper(arr, s, e):\n",
    "            if s > e:\n",
    "                return None\n",
    "            mid = s + (e - s) // 2\n",
    "            node = TreeNode(arr[mid])\n",
    "            node.left = helper(arr, s, mid - 1)\n",
    "            node.right = helper(arr, mid + 1, e)\n",
    "            return node\n",
    "        \n",
    "        n = len(nums)\n",
    "        if n == 0:\n",
    "            return None\n",
    "        return helper(nums, 0, n - 1)"
   ]
  }
 ],
 "metadata": {
  "kernelspec": {
   "display_name": "Python 3 (ipykernel)",
   "language": "python",
   "name": "python3"
  },
  "language_info": {
   "codemirror_mode": {
    "name": "ipython",
    "version": 3
   },
   "file_extension": ".py",
   "mimetype": "text/x-python",
   "name": "python",
   "nbconvert_exporter": "python",
   "pygments_lexer": "ipython3",
   "version": "3.12.4"
  }
 },
 "nbformat": 4,
 "nbformat_minor": 5
}
