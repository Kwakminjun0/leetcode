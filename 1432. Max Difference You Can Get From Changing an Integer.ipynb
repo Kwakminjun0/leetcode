{
 "cells": [
  {
   "cell_type": "code",
   "execution_count": null,
   "id": "1107f174",
   "metadata": {},
   "outputs": [],
   "source": [
    "class Solution(object):\n",
    "    def maxDiff(self, num):\n",
    "        \"\"\"\n",
    "        :type num: int\n",
    "        :rtype: int\n",
    "        \"\"\"\n",
    "        num_str = str(num)\n",
    "        max_difference = -1\n",
    "        min_difference = float('inf')\n",
    "        \n",
    "        for x in range(10):\n",
    "            for y in range(10):\n",
    "                modified_num_str = num_str.replace(str(x), str(y))\n",
    "                modified_num = int(modified_num_str)\n",
    "                if modified_num != 0 and not modified_num_str.startswith('0'):\n",
    "                    max_difference = max(max_difference, modified_num - num)\n",
    "                    min_difference = min(min_difference, modified_num - num)\n",
    "        \n",
    "        return max_difference - min_difference\n"
   ]
  }
 ],
 "metadata": {
  "kernelspec": {
   "display_name": "Python 3 (ipykernel)",
   "language": "python",
   "name": "python3"
  },
  "language_info": {
   "codemirror_mode": {
    "name": "ipython",
    "version": 3
   },
   "file_extension": ".py",
   "mimetype": "text/x-python",
   "name": "python",
   "nbconvert_exporter": "python",
   "pygments_lexer": "ipython3",
   "version": "3.9.12"
  }
 },
 "nbformat": 4,
 "nbformat_minor": 5
}
