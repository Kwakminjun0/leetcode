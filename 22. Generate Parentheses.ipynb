{
 "cells": [
  {
   "cell_type": "code",
   "execution_count": null,
   "id": "27fd5d1b-fd2b-4190-9fdd-68ce7c4ed023",
   "metadata": {},
   "outputs": [],
   "source": [
    "class Solution(object):\n",
    "    def generateParenthesis(self, n):\n",
    "        def backtrack(S='', left=0, right=0):\n",
    "            if len(S) == 2 * n:\n",
    "                result.append(S)\n",
    "                return\n",
    "            if left < n:\n",
    "                backtrack(S + '(', left + 1, right)\n",
    "            if right < left:\n",
    "                backtrack(S + ')', left, right + 1)\n",
    "\n",
    "        result = []\n",
    "        backtrack()\n",
    "        return result\n",
    "        "
   ]
  }
 ],
 "metadata": {
  "kernelspec": {
   "display_name": "Python 3 (ipykernel)",
   "language": "python",
   "name": "python3"
  },
  "language_info": {
   "codemirror_mode": {
    "name": "ipython",
    "version": 3
   },
   "file_extension": ".py",
   "mimetype": "text/x-python",
   "name": "python",
   "nbconvert_exporter": "python",
   "pygments_lexer": "ipython3",
   "version": "3.12.4"
  }
 },
 "nbformat": 4,
 "nbformat_minor": 5
}
