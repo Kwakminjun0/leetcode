{
 "cells": [
  {
   "cell_type": "code",
   "execution_count": null,
   "id": "950cf4f2",
   "metadata": {},
   "outputs": [],
   "source": [
    "class Solution(object):\n",
    "    def powerfulIntegers(self, x, y, bound):\n",
    "        self.res = set()\n",
    "        self.DFS(x,y,0,0,bound,set()) \n",
    "        return list(self.res) \n",
    "    def DFS(self, x, y, px, py, bound, visited): #worst case -> space complexity for the recursive stack O(log2(bound))\n",
    "        sums = x**px+y**py \n",
    "        if sums > bound:\n",
    "            return \n",
    "        if (px,py) in visited:\n",
    "            return\n",
    "        visited.add((px,py))\n",
    "        self.res.add(sums)\n",
    "        if x > 1:\n",
    "            self.DFS(x,y,px+1, py, bound, visited)\n",
    "        if y > 1:\n",
    "            self.DFS(x,y,px, py+1, bound, visited)"
   ]
  }
 ],
 "metadata": {
  "kernelspec": {
   "display_name": "Python 3 (ipykernel)",
   "language": "python",
   "name": "python3"
  },
  "language_info": {
   "codemirror_mode": {
    "name": "ipython",
    "version": 3
   },
   "file_extension": ".py",
   "mimetype": "text/x-python",
   "name": "python",
   "nbconvert_exporter": "python",
   "pygments_lexer": "ipython3",
   "version": "3.9.12"
  }
 },
 "nbformat": 4,
 "nbformat_minor": 5
}
