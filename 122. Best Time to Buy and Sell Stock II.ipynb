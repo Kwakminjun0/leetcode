{
 "cells": [
  {
   "cell_type": "code",
   "execution_count": null,
   "id": "d63c6ccc-db7d-4d96-ac70-5acc5ed47262",
   "metadata": {},
   "outputs": [],
   "source": [
    "class Solution:\n",
    "    def maxProfit(self, prices):\n",
    "        # Create a memoization table\n",
    "        dp = [[-1 for _ in range(2)] for _ in range(len(prices) + 1)]\n",
    "        \n",
    "        def solve(ind, buy):\n",
    "            if ind == len(prices):\n",
    "                return 0\n",
    "            if dp[ind][buy] != -1:\n",
    "                return dp[ind][buy]\n",
    "\n",
    "            profit = 0\n",
    "            if buy == 1:\n",
    "                # Two options: buy or not buy\n",
    "                # Buy\n",
    "                op1 = -prices[ind] + solve(ind + 1, 0)\n",
    "                # Don't buy\n",
    "                op2 = solve(ind + 1, 1)\n",
    "                profit = max(op1, op2)\n",
    "            else:\n",
    "                # Two options: sell or not sell\n",
    "                # Sell\n",
    "                op1 = prices[ind] + solve(ind + 1, 1)\n",
    "                # Don't sell\n",
    "                op2 = solve(ind + 1, 0)\n",
    "                profit = max(op1, op2)\n",
    "\n",
    "            dp[ind][buy] = profit\n",
    "            return dp[ind][buy]\n",
    "\n",
    "        return solve(0, 1)"
   ]
  }
 ],
 "metadata": {
  "kernelspec": {
   "display_name": "Python 3 (ipykernel)",
   "language": "python",
   "name": "python3"
  },
  "language_info": {
   "codemirror_mode": {
    "name": "ipython",
    "version": 3
   },
   "file_extension": ".py",
   "mimetype": "text/x-python",
   "name": "python",
   "nbconvert_exporter": "python",
   "pygments_lexer": "ipython3",
   "version": "3.12.4"
  }
 },
 "nbformat": 4,
 "nbformat_minor": 5
}
