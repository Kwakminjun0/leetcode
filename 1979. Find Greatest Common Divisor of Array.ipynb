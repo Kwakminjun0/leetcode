{
 "cells": [
  {
   "cell_type": "code",
   "execution_count": null,
   "id": "c77dbd01",
   "metadata": {},
   "outputs": [],
   "source": [
    "class Solution(object):\n",
    "    def findGCD(self, nums):\n",
    "        \"\"\"\n",
    "        :type nums: List[int]\n",
    "        :rtype: int\n",
    "        \"\"\"\n",
    "        # Function to compute GCD using Euclidean algorithm\n",
    "        def gcd(a, b):\n",
    "            while b:\n",
    "                a, b = b, a % b\n",
    "            return a\n",
    "        \n",
    "        # Find the smallest and largest numbers in the array\n",
    "        smallest = min(nums)\n",
    "        largest = max(nums)\n",
    "\n",
    "        # Compute the GCD of the smallest and largest numbers\n",
    "        return gcd(smallest, largest)"
   ]
  }
 ],
 "metadata": {
  "kernelspec": {
   "display_name": "Python 3 (ipykernel)",
   "language": "python",
   "name": "python3"
  },
  "language_info": {
   "codemirror_mode": {
    "name": "ipython",
    "version": 3
   },
   "file_extension": ".py",
   "mimetype": "text/x-python",
   "name": "python",
   "nbconvert_exporter": "python",
   "pygments_lexer": "ipython3",
   "version": "3.9.12"
  }
 },
 "nbformat": 4,
 "nbformat_minor": 5
}
