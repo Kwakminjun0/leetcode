{
 "cells": [
  {
   "cell_type": "code",
   "execution_count": null,
   "id": "f702377e",
   "metadata": {},
   "outputs": [],
   "source": [
    "class Solution(object):\n",
    "    def countNicePairs(self, nums):\n",
    "        \"\"\"\n",
    "        :type nums: List[int]\n",
    "        :rtype: int\n",
    "        \"\"\"\n",
    "        # Function to reverse an integer\n",
    "        def reverse_num(num):\n",
    "            return int(str(num)[::-1])\n",
    "        \n",
    "        # Dictionary to store the frequency of differences\n",
    "        freq = collections.defaultdict(int)\n",
    "        count = 0\n",
    "        \n",
    "        for num in nums:\n",
    "            # Calculate the difference between the number and its reverse\n",
    "            diff = num - reverse_num(num)\n",
    "            # Update the count with the frequency of this difference\n",
    "            count += freq[diff]\n",
    "            # Increment the frequency of the difference\n",
    "            freq[diff] += 1\n",
    "        \n",
    "        return count % (10**9 + 7)"
   ]
  }
 ],
 "metadata": {
  "kernelspec": {
   "display_name": "Python 3 (ipykernel)",
   "language": "python",
   "name": "python3"
  },
  "language_info": {
   "codemirror_mode": {
    "name": "ipython",
    "version": 3
   },
   "file_extension": ".py",
   "mimetype": "text/x-python",
   "name": "python",
   "nbconvert_exporter": "python",
   "pygments_lexer": "ipython3",
   "version": "3.9.12"
  }
 },
 "nbformat": 4,
 "nbformat_minor": 5
}
