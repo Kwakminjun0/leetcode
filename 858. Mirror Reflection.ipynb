{
 "cells": [
  {
   "cell_type": "code",
   "execution_count": null,
   "id": "509081de",
   "metadata": {},
   "outputs": [],
   "source": [
    "class Solution(object):\n",
    "    def mirrorReflection(self, p, q):\n",
    "        \"\"\"\n",
    "        :type p: int\n",
    "        :type q: int\n",
    "        :rtype: int\n",
    "        \"\"\"\n",
    "        def gcd(a, b):\n",
    "            while b:\n",
    "                a, b = b, a % b\n",
    "            return a\n",
    "        \n",
    "        lcm = (p * q) // gcd(p, q)\n",
    "        \n",
    "        if (lcm // p) % 2 == 0:\n",
    "            return 0\n",
    "        elif (lcm // q) % 2 == 0:\n",
    "            return 2\n",
    "        else:\n",
    "            return 1"
   ]
  }
 ],
 "metadata": {
  "kernelspec": {
   "display_name": "Python 3 (ipykernel)",
   "language": "python",
   "name": "python3"
  },
  "language_info": {
   "codemirror_mode": {
    "name": "ipython",
    "version": 3
   },
   "file_extension": ".py",
   "mimetype": "text/x-python",
   "name": "python",
   "nbconvert_exporter": "python",
   "pygments_lexer": "ipython3",
   "version": "3.9.12"
  }
 },
 "nbformat": 4,
 "nbformat_minor": 5
}
