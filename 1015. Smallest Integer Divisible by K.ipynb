{
 "cells": [
  {
   "cell_type": "code",
   "execution_count": null,
   "id": "3f3cf77c",
   "metadata": {},
   "outputs": [],
   "source": [
    "class Solution(object):\n",
    "    def smallestRepunitDivByK(self, k):\n",
    "        \"\"\"\n",
    "        :type k: int\n",
    "        :rtype: int\n",
    "        \"\"\"\n",
    "        prev = set({})\n",
    "        num = 1\n",
    "        while num%k!=0:\n",
    "            if num%k in prev:\n",
    "                return -1\n",
    "            prev.add(num%k)\n",
    "            num = num*10 + 1\n",
    "        return len(str(num))"
   ]
  }
 ],
 "metadata": {
  "kernelspec": {
   "display_name": "Python 3 (ipykernel)",
   "language": "python",
   "name": "python3"
  },
  "language_info": {
   "codemirror_mode": {
    "name": "ipython",
    "version": 3
   },
   "file_extension": ".py",
   "mimetype": "text/x-python",
   "name": "python",
   "nbconvert_exporter": "python",
   "pygments_lexer": "ipython3",
   "version": "3.9.12"
  }
 },
 "nbformat": 4,
 "nbformat_minor": 5
}
