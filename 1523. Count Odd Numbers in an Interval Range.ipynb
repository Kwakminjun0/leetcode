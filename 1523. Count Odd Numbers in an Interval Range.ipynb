{
 "cells": [
  {
   "cell_type": "code",
   "execution_count": null,
   "id": "025f7bfd",
   "metadata": {},
   "outputs": [],
   "source": [
    "class Solution(object):\n",
    "    def countOdds(self, low, high):\n",
    "        \"\"\"\n",
    "        :type low: int\n",
    "        :type high: int\n",
    "        :rtype: int\n",
    "        \"\"\"\n",
    "        # Calculate the total number of integers in the range [low, high]\n",
    "        total_numbers = high - low + 1\n",
    "        \n",
    "        # If low is odd, the count of odd numbers is half the total number of integers\n",
    "        if low % 2 == 1:\n",
    "            return (total_numbers + 1) // 2\n",
    "        # If low is even, the count of odd numbers is half the total number of integers minus one\n",
    "        else:\n",
    "            return total_numbers // 2"
   ]
  }
 ],
 "metadata": {
  "kernelspec": {
   "display_name": "Python 3 (ipykernel)",
   "language": "python",
   "name": "python3"
  },
  "language_info": {
   "codemirror_mode": {
    "name": "ipython",
    "version": 3
   },
   "file_extension": ".py",
   "mimetype": "text/x-python",
   "name": "python",
   "nbconvert_exporter": "python",
   "pygments_lexer": "ipython3",
   "version": "3.9.12"
  }
 },
 "nbformat": 4,
 "nbformat_minor": 5
}
