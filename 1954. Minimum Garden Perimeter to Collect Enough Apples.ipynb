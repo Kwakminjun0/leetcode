{
 "cells": [
  {
   "cell_type": "code",
   "execution_count": null,
   "id": "9d4576e6",
   "metadata": {},
   "outputs": [],
   "source": [
    "class Solution(object):\n",
    "    def minimumPerimeter(self, neededApples):\n",
    "        \"\"\"\n",
    "        :type neededApples: int\n",
    "        :rtype: int\n",
    "        \"\"\"\n",
    "        num_apples = 0\n",
    "        for radius in range(1, 1000000):\n",
    "            edge_apples = (3*radius**2 - 2*radius)*4\n",
    "            corner_apples = 2*radius * 4 \n",
    "            num_apples += corner_apples + edge_apples\n",
    "            if num_apples >= neededApples:\n",
    "                return 2*radius*4 "
   ]
  }
 ],
 "metadata": {
  "kernelspec": {
   "display_name": "Python 3 (ipykernel)",
   "language": "python",
   "name": "python3"
  }
 },
 "nbformat": 4,
 "nbformat_minor": 5
}
