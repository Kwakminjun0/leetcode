{
 "cells": [
  {
   "cell_type": "code",
   "execution_count": null,
   "id": "7f83e4f3",
   "metadata": {},
   "outputs": [],
   "source": [
    "import math\n",
    "\n",
    "class Solution:\n",
    "    def closestDivisors(self, num):\n",
    "        \"\"\"\n",
    "        :type num: int\n",
    "        :rtype: List[int]\n",
    "        \"\"\"\n",
    "        def find_closest(target):\n",
    "            closest = (1, target)  # Start with the pair (1, target)\n",
    "            for i in range(1, int(math.sqrt(target)) + 1):\n",
    "                if target % i == 0:\n",
    "                    j = target // i\n",
    "                    if abs(i - j) < abs(closest[0] - closest[1]):\n",
    "                        closest = (i, j)\n",
    "            return closest\n",
    "        \n",
    "        target1 = num + 1\n",
    "        target2 = num + 2\n",
    "        \n",
    "        closest1 = find_closest(target1)\n",
    "        closest2 = find_closest(target2)\n",
    "        \n",
    "        if abs(closest1[0] - closest1[1]) <= abs(closest2[0] - closest2[1]):\n",
    "            return list(closest1)\n",
    "        else:\n",
    "            return list(closest2)"
   ]
  }
 ],
 "metadata": {
  "kernelspec": {
   "display_name": "Python 3 (ipykernel)",
   "language": "python",
   "name": "python3"
  },
  "language_info": {
   "codemirror_mode": {
    "name": "ipython",
    "version": 3
   },
   "file_extension": ".py",
   "mimetype": "text/x-python",
   "name": "python",
   "nbconvert_exporter": "python",
   "pygments_lexer": "ipython3",
   "version": "3.9.12"
  }
 },
 "nbformat": 4,
 "nbformat_minor": 5
}
