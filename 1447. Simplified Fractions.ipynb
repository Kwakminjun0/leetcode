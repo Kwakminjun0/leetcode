{
 "cells": [
  {
   "cell_type": "code",
   "execution_count": null,
   "id": "d745a364",
   "metadata": {},
   "outputs": [],
   "source": [
    "class Solution(object):\n",
    "    def simplifiedFractions(self, n):\n",
    "        def compute_gcd(a, b):\n",
    "            while b:\n",
    "                a, b = b, a % b\n",
    "            return a\n",
    "        \n",
    "        fractions = []\n",
    "        \n",
    "        for i in range(1, n):\n",
    "            for j in range(i + 1, n + 1):\n",
    "                if compute_gcd(i, j) == 1:\n",
    "                    fractions.append(str(i) + '/' + str(j))\n",
    "        \n",
    "        return fractions"
   ]
  }
 ],
 "metadata": {
  "kernelspec": {
   "display_name": "Python 3 (ipykernel)",
   "language": "python",
   "name": "python3"
  },
  "language_info": {
   "codemirror_mode": {
    "name": "ipython",
    "version": 3
   },
   "file_extension": ".py",
   "mimetype": "text/x-python",
   "name": "python",
   "nbconvert_exporter": "python",
   "pygments_lexer": "ipython3",
   "version": "3.9.12"
  }
 },
 "nbformat": 4,
 "nbformat_minor": 5
}
