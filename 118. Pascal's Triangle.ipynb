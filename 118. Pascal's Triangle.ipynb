{
 "cells": [
  {
   "cell_type": "code",
   "execution_count": null,
   "id": "e0a7d6c5-a3dc-4628-a943-be705f9b7f0c",
   "metadata": {},
   "outputs": [],
   "source": [
    "class Solution(object):\n",
    "    def generate(self, numRows):\n",
    "        if numRows == 0:\n",
    "            return []\n",
    "\n",
    "        triangle = [[1]] #first row\n",
    "\n",
    "        for i in range(1,numRows):\n",
    "            row = [1]\n",
    "            for j in range(1,i):\n",
    "                value = triangle[i-1][j-1]+triangle[i-1][j]\n",
    "                row.append(value)\n",
    "            row.append(1)\n",
    "            triangle.append(row) \n",
    "        return triangle\n",
    "        "
   ]
  }
 ],
 "metadata": {
  "kernelspec": {
   "display_name": "Python 3 (ipykernel)",
   "language": "python",
   "name": "python3"
  },
  "language_info": {
   "codemirror_mode": {
    "name": "ipython",
    "version": 3
   },
   "file_extension": ".py",
   "mimetype": "text/x-python",
   "name": "python",
   "nbconvert_exporter": "python",
   "pygments_lexer": "ipython3",
   "version": "3.12.4"
  }
 },
 "nbformat": 4,
 "nbformat_minor": 5
}
