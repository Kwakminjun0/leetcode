{
 "cells": [
  {
   "cell_type": "code",
   "execution_count": null,
   "id": "34c0dca1",
   "metadata": {},
   "outputs": [],
   "source": [
    "class Solution(object):\n",
    "    def findSolution(self, customfunction, z):\n",
    "        \"\"\"\n",
    "        :type num: int\n",
    "        :type z: int\n",
    "        :rtype: List[List[int]]\n",
    "        \"\"\"\n",
    "        res = []\n",
    "\n",
    "        x,y = 1,z\n",
    "\n",
    "        while x<=z and y>=1:\n",
    "            current_val = customfunction.f(x,y)\n",
    "\n",
    "            if current_val == z:\n",
    "                res.append([x,y])\n",
    "                x+=1\n",
    "            elif current_val <z:\n",
    "                x+=1\n",
    "            else:\n",
    "                y-=1\n",
    "        return res"
   ]
  }
 ],
 "metadata": {
  "kernelspec": {
   "display_name": "Python 3 (ipykernel)",
   "language": "python",
   "name": "python3"
  },
  "language_info": {
   "codemirror_mode": {
    "name": "ipython",
    "version": 3
   },
   "file_extension": ".py",
   "mimetype": "text/x-python",
   "name": "python",
   "nbconvert_exporter": "python",
   "pygments_lexer": "ipython3",
   "version": "3.9.12"
  }
 },
 "nbformat": 4,
 "nbformat_minor": 5
}
