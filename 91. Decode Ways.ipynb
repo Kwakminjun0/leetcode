{
 "cells": [
  {
   "cell_type": "code",
   "execution_count": null,
   "id": "f342fe3f-0718-4b5c-84f4-ef65326c2194",
   "metadata": {},
   "outputs": [],
   "source": [
    "class Solution(object):\n",
    "    def numDecodings(self, s):\n",
    "        n = len(s)\n",
    "        dp = [0] * (n + 1)\n",
    "        dp[n] = 1\n",
    "\n",
    "        for i in range(n - 1, -1, -1):\n",
    "            if s[i] != '0':\n",
    "                dp[i] = dp[i + 1]\n",
    "                if i < n - 1 and (s[i] == '1' or (s[i] == '2' and s[i + 1] < '7')):\n",
    "                    dp[i] += dp[i + 2]\n",
    "\n",
    "        return dp[0]"
   ]
  }
 ],
 "metadata": {
  "kernelspec": {
   "display_name": "Python 3 (ipykernel)",
   "language": "python",
   "name": "python3"
  },
  "language_info": {
   "codemirror_mode": {
    "name": "ipython",
    "version": 3
   },
   "file_extension": ".py",
   "mimetype": "text/x-python",
   "name": "python",
   "nbconvert_exporter": "python",
   "pygments_lexer": "ipython3",
   "version": "3.12.4"
  }
 },
 "nbformat": 4,
 "nbformat_minor": 5
}
