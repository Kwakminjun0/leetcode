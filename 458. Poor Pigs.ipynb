{
 "cells": [
  {
   "cell_type": "code",
   "execution_count": null,
   "id": "3146be74",
   "metadata": {},
   "outputs": [],
   "source": [
    "class Solution(object):\n",
    "    def poorPigs(self, buckets, minutesToDie, minutesToTest):\n",
    "        \"\"\"\n",
    "        :type buckets: int\n",
    "        :type minutesToDie: int\n",
    "        :type minutesToTest: int\n",
    "        :rtype: int\n",
    "        \"\"\"\n",
    "        # Calculate the number of states a pig can have\n",
    "        states = minutesToTest // minutesToDie + 1\n",
    "        \n",
    "        # Calculate the minimum number of pigs required\n",
    "        p = 0\n",
    "        while states ** p < buckets:\n",
    "            p += 1\n",
    "        \n",
    "        return p\n",
    "        "
   ]
  }
 ],
 "metadata": {
  "kernelspec": {
   "display_name": "Python 3 (ipykernel)",
   "language": "python",
   "name": "python3"
  },
  "language_info": {
   "codemirror_mode": {
    "name": "ipython",
    "version": 3
   },
   "file_extension": ".py",
   "mimetype": "text/x-python",
   "name": "python",
   "nbconvert_exporter": "python",
   "pygments_lexer": "ipython3",
   "version": "3.9.12"
  }
 },
 "nbformat": 4,
 "nbformat_minor": 5
}
