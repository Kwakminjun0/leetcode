{
 "cells": [
  {
   "cell_type": "code",
   "execution_count": null,
   "id": "b3a3c73f",
   "metadata": {},
   "outputs": [],
   "source": [
    "class Solution(object):\n",
    "    def countNumbersWithUniqueDigits(self, n):\n",
    "        \"\"\"\n",
    "        :type n: int\n",
    "        :rtype: int\n",
    "        \"\"\"\n",
    "        if n == 0:\n",
    "            return 1\n",
    "        \n",
    "        # For n = 1, we have 10 unique numbers (0 through 9)\n",
    "        count = 10\n",
    "        unique_digits = 9\n",
    "        available_number = 9\n",
    "        \n",
    "        for i in range(2, n + 1):\n",
    "            unique_digits *= available_number\n",
    "            count += unique_digits\n",
    "            available_number -= 1\n",
    "        \n",
    "        return count\n",
    "        "
   ]
  }
 ],
 "metadata": {
  "kernelspec": {
   "display_name": "Python 3 (ipykernel)",
   "language": "python",
   "name": "python3"
  },
  "language_info": {
   "codemirror_mode": {
    "name": "ipython",
    "version": 3
   },
   "file_extension": ".py",
   "mimetype": "text/x-python",
   "name": "python",
   "nbconvert_exporter": "python",
   "pygments_lexer": "ipython3",
   "version": "3.9.12"
  }
 },
 "nbformat": 4,
 "nbformat_minor": 5
}
