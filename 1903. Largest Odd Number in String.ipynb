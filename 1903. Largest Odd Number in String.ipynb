{
 "cells": [
  {
   "cell_type": "code",
   "execution_count": null,
   "id": "ab269ac4",
   "metadata": {},
   "outputs": [],
   "source": [
    "class Solution(object):\n",
    "    def largestOddNumber(self, num):\n",
    "        \"\"\"\n",
    "        :type num: str\n",
    "        :rtype: str\n",
    "        \"\"\"\n",
    "        for i in range(len(num) - 1, -1, -1):\n",
    "            if int(num[i]) % 2 != 0:\n",
    "                return num[:i + 1]\n",
    "        return \"\""
   ]
  }
 ],
 "metadata": {
  "kernelspec": {
   "display_name": "Python 3 (ipykernel)",
   "language": "python",
   "name": "python3"
  },
  "language_info": {
   "codemirror_mode": {
    "name": "ipython",
    "version": 3
   },
   "file_extension": ".py",
   "mimetype": "text/x-python",
   "name": "python",
   "nbconvert_exporter": "python",
   "pygments_lexer": "ipython3",
   "version": "3.9.12"
  }
 },
 "nbformat": 4,
 "nbformat_minor": 5
}
