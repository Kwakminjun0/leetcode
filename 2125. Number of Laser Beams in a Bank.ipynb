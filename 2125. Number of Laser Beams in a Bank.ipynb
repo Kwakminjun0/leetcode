{
 "cells": [
  {
   "cell_type": "code",
   "execution_count": null,
   "id": "e502e3a4",
   "metadata": {},
   "outputs": [],
   "source": [
    "class Solution(object):\n",
    "    def numberOfBeams(self, bank):\n",
    "        \"\"\"\n",
    "        :type bank: List[str]\n",
    "        :rtype: int\n",
    "        \"\"\"\n",
    "        ans=0\n",
    "        prev=0\n",
    "        for i in bank:\n",
    "            res=i.count('1')\n",
    "            if res:\n",
    "                ans+=prev*res\n",
    "                prev=res\n",
    "        return ans        "
   ]
  }
 ],
 "metadata": {
  "kernelspec": {
   "display_name": "Python 3 (ipykernel)",
   "language": "python",
   "name": "python3"
  },
  "language_info": {
   "codemirror_mode": {
    "name": "ipython",
    "version": 3
   },
   "file_extension": ".py",
   "mimetype": "text/x-python",
   "name": "python",
   "nbconvert_exporter": "python",
   "pygments_lexer": "ipython3",
   "version": "3.9.12"
  }
 },
 "nbformat": 4,
 "nbformat_minor": 5
}
