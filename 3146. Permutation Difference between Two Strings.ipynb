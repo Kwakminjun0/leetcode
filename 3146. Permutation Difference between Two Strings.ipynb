{
 "cells": [
  {
   "cell_type": "code",
   "execution_count": null,
   "id": "2479866e-9ac7-4f87-aea2-b70a912679c8",
   "metadata": {},
   "outputs": [],
   "source": [
    "class Solution(object):\n",
    "    def findPermutationDifference(self, s, t):\n",
    "        \"\"\"\n",
    "        :type s: str\n",
    "        :type t: str\n",
    "        :rtype: int\n",
    "        \"\"\"\n",
    "        difference_sum = 0\n",
    "        for char in s:\n",
    "            index_in_s = s.index(char)\n",
    "            index_in_t = t.index(char)\n",
    "            difference_sum += abs(index_in_s - index_in_t)\n",
    "        return difference_sum\n",
    "\n",
    "        "
   ]
  }
 ],
 "metadata": {
  "kernelspec": {
   "display_name": "Python 3 (ipykernel)",
   "language": "python",
   "name": "python3"
  },
  "language_info": {
   "codemirror_mode": {
    "name": "ipython",
    "version": 3
   },
   "file_extension": ".py",
   "mimetype": "text/x-python",
   "name": "python",
   "nbconvert_exporter": "python",
   "pygments_lexer": "ipython3",
   "version": "3.12.4"
  }
 },
 "nbformat": 4,
 "nbformat_minor": 5
}
