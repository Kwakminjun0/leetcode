{
 "cells": [
  {
   "cell_type": "code",
   "execution_count": null,
   "id": "42acaec8",
   "metadata": {},
   "outputs": [],
   "source": [
    "class Solution(object):\n",
    "    def nthUglyNumber(self, n):\n",
    "        \"\"\"\n",
    "        :type n: int\n",
    "        :rtype: int\n",
    "        \"\"\"\n",
    "        ugly = [1] * n\n",
    "        i2 = i3 = i5 = 0\n",
    "        \n",
    "        for i in range(1, n):\n",
    "            ugly[i] = min(ugly[i2] * 2, ugly[i3] * 3, ugly[i5] * 5)\n",
    "            if ugly[i] == ugly[i2] * 2:\n",
    "                i2 += 1\n",
    "            if ugly[i] == ugly[i3] * 3:\n",
    "                i3 += 1\n",
    "            if ugly[i] == ugly[i5] * 5:\n",
    "                i5 += 1\n",
    "        \n",
    "        return ugly[-1]\n",
    "\n",
    "        "
   ]
  }
 ],
 "metadata": {
  "kernelspec": {
   "display_name": "Python 3 (ipykernel)",
   "language": "python",
   "name": "python3"
  },
  "language_info": {
   "codemirror_mode": {
    "name": "ipython",
    "version": 3
   },
   "file_extension": ".py",
   "mimetype": "text/x-python",
   "name": "python",
   "nbconvert_exporter": "python",
   "pygments_lexer": "ipython3",
   "version": "3.9.12"
  }
 },
 "nbformat": 4,
 "nbformat_minor": 5
}
