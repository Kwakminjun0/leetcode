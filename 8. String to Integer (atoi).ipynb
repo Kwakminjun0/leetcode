{
 "cells": [
  {
   "cell_type": "code",
   "execution_count": null,
   "id": "a75f03f0-c8be-4c7e-a71d-017ac93eb804",
   "metadata": {},
   "outputs": [],
   "source": [
    "class Solution:\n",
    "    def myAtoi(self, s):\n",
    "        # Step 1: Remove leading whitespace\n",
    "        s = s.lstrip()\n",
    "\n",
    "        if not s:\n",
    "            return 0\n",
    "\n",
    "        # Step 2: Handle sign\n",
    "        sign = 1\n",
    "        if s[0] in ('-', '+'):\n",
    "            sign = -1 if s[0] == '-' else 1\n",
    "            s = s[1:]\n",
    "\n",
    "        # Step 3: Read digits\n",
    "        result = 0\n",
    "        for char in s:\n",
    "            if not char.isdigit():\n",
    "                break\n",
    "            result = result * 10 + int(char)\n",
    "\n",
    "        # Apply sign\n",
    "        result *= sign\n",
    "\n",
    "        # Step 4: Clamp to 32-bit signed integer range\n",
    "        int_min, int_max = -2**31, 2**31 - 1\n",
    "        if result < int_min:\n",
    "            return int_min\n",
    "        if result > int_max:\n",
    "            return int_max\n",
    "\n",
    "        return result\n",
    "        "
   ]
  }
 ],
 "metadata": {
  "kernelspec": {
   "display_name": "Python 3 (ipykernel)",
   "language": "python",
   "name": "python3"
  },
  "language_info": {
   "codemirror_mode": {
    "name": "ipython",
    "version": 3
   },
   "file_extension": ".py",
   "mimetype": "text/x-python",
   "name": "python",
   "nbconvert_exporter": "python",
   "pygments_lexer": "ipython3",
   "version": "3.12.4"
  }
 },
 "nbformat": 4,
 "nbformat_minor": 5
}
