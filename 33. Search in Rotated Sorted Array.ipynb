{
 "cells": [
  {
   "cell_type": "code",
   "execution_count": null,
   "id": "41fdb93f-c718-495a-8995-7f3f22dfd8ca",
   "metadata": {},
   "outputs": [],
   "source": [
    "class Solution(object):\n",
    "    def search(self, nums, target):\n",
    "        \"\"\"\n",
    "        :type nums: List[int]\n",
    "        :type target: int\n",
    "        :rtype: int\n",
    "        \"\"\"\n",
    "        start = 0\n",
    "        end = len(nums) - 1\n",
    "        while start<= end:\n",
    "            mid = (start + end)/2\n",
    "            if nums[mid] == target:\n",
    "                return mid\n",
    "            elif nums[mid] < nums[end]:\n",
    "                if target > nums[mid] and target <= nums[end]: start = mid + 1\n",
    "                else : end = mid -1\n",
    "            else :\n",
    "                if target >= nums[start] and target < nums[mid]: end = mid -1\n",
    "                else : start = mid + 1\n",
    "        return -1"
   ]
  }
 ],
 "metadata": {
  "kernelspec": {
   "display_name": "Python 3 (ipykernel)",
   "language": "python",
   "name": "python3"
  },
  "language_info": {
   "codemirror_mode": {
    "name": "ipython",
    "version": 3
   },
   "file_extension": ".py",
   "mimetype": "text/x-python",
   "name": "python",
   "nbconvert_exporter": "python",
   "pygments_lexer": "ipython3",
   "version": "3.12.4"
  }
 },
 "nbformat": 4,
 "nbformat_minor": 5
}
