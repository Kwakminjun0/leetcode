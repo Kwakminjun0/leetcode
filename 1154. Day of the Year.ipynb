{
 "cells": [
  {
   "cell_type": "code",
   "execution_count": null,
   "id": "8bff1f11",
   "metadata": {},
   "outputs": [],
   "source": [
    "class Solution(object):\n",
    "    def dayOfYear(self, date):\n",
    "        \"\"\"\n",
    "        :type date: str\n",
    "        :rtype: int\n",
    "        \"\"\"\n",
    "        year, month, day = map(int, date.split('-'))\n",
    "        \n",
    "        # Days in each month\n",
    "        days_in_month = [31, 28, 31, 30, 31, 30, 31, 31, 30, 31, 30, 31]\n",
    "        \n",
    "        # Check for leap year and adjust February days\n",
    "        if (year % 4 == 0 and year % 100 != 0) or (year % 400 == 0):\n",
    "            days_in_month[1] = 29\n",
    "        \n",
    "        # Sum the days in the previous months\n",
    "        day_of_year = sum(days_in_month[:month - 1]) + day\n",
    "        \n",
    "        return day_of_year"
   ]
  }
 ],
 "metadata": {
  "kernelspec": {
   "display_name": "Python 3 (ipykernel)",
   "language": "python",
   "name": "python3"
  },
  "language_info": {
   "codemirror_mode": {
    "name": "ipython",
    "version": 3
   },
   "file_extension": ".py",
   "mimetype": "text/x-python",
   "name": "python",
   "nbconvert_exporter": "python",
   "pygments_lexer": "ipython3",
   "version": "3.9.12"
  }
 },
 "nbformat": 4,
 "nbformat_minor": 5
}
