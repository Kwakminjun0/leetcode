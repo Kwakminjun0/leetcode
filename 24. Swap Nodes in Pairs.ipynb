{
 "cells": [
  {
   "cell_type": "code",
   "execution_count": null,
   "id": "99e701bf-2a05-45af-922c-f650d1bd4fcc",
   "metadata": {},
   "outputs": [],
   "source": [
    "class Solution(object):\n",
    "    def swapPairs(self, head):\n",
    "        \"\"\"\n",
    "        :type head: ListNode\n",
    "        :rtype: ListNode\n",
    "        \"\"\"\n",
    "        \n",
    "        p=head\n",
    "        while(p!=None):\n",
    "            q=p.next\n",
    "            if q==None:\n",
    "                return head\n",
    "            if p==head:\n",
    "                head = q\n",
    "            else:\n",
    "                temph.next=q\n",
    "            p.next,q.next=q.next,p\n",
    "            temph=p\n",
    "            p=p.next\n",
    "        return head\n"
   ]
  }
 ],
 "metadata": {
  "kernelspec": {
   "display_name": "Python 3 (ipykernel)",
   "language": "python",
   "name": "python3"
  },
  "language_info": {
   "codemirror_mode": {
    "name": "ipython",
    "version": 3
   },
   "file_extension": ".py",
   "mimetype": "text/x-python",
   "name": "python",
   "nbconvert_exporter": "python",
   "pygments_lexer": "ipython3",
   "version": "3.12.4"
  }
 },
 "nbformat": 4,
 "nbformat_minor": 5
}
