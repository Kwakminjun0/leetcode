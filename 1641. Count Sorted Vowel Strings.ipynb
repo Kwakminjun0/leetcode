{
 "cells": [
  {
   "cell_type": "code",
   "execution_count": null,
   "id": "1d1b67ae",
   "metadata": {},
   "outputs": [],
   "source": [
    "class Solution(object):\n",
    "    def countVowelStrings(self, n):\n",
    "        \"\"\"\n",
    "        :type n: int\n",
    "        :rtype: int\n",
    "        \"\"\"\n",
    "        # Initialize the dp array\n",
    "        dp = [[0] * 5 for _ in range(n)]\n",
    "        \n",
    "        # Base case: when n = 1, there is one string of length 1 ending with each vowel\n",
    "        for j in range(5):\n",
    "            dp[0][j] = 1\n",
    "        \n",
    "        # Fill the dp array using the recurrence relation\n",
    "        for i in range(1, n):\n",
    "            for j in range(5):\n",
    "                dp[i][j] = sum(dp[i-1][:j+1])\n",
    "        \n",
    "        # The answer is the sum of counts of strings of length n ending with each vowel\n",
    "        return sum(dp[-1])"
   ]
  }
 ],
 "metadata": {
  "kernelspec": {
   "display_name": "Python 3 (ipykernel)",
   "language": "python",
   "name": "python3"
  },
  "language_info": {
   "codemirror_mode": {
    "name": "ipython",
    "version": 3
   },
   "file_extension": ".py",
   "mimetype": "text/x-python",
   "name": "python",
   "nbconvert_exporter": "python",
   "pygments_lexer": "ipython3",
   "version": "3.9.12"
  }
 },
 "nbformat": 4,
 "nbformat_minor": 5
}
