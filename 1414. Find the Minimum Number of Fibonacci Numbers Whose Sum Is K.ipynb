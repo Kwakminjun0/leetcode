{
 "cells": [
  {
   "cell_type": "code",
   "execution_count": null,
   "id": "f9b0b526",
   "metadata": {},
   "outputs": [],
   "source": [
    "class Solution(object):\n",
    "    def findMinFibonacciNumbers(self, k):\n",
    "        \"\"\"\n",
    "        :type k: int\n",
    "        :rtype: int\n",
    "        \"\"\"\n",
    "        # Generate Fibonacci numbers less than or equal to k\n",
    "        fibonacci_numbers = [1, 1]\n",
    "        while fibonacci_numbers[-1] <= k:\n",
    "            fibonacci_numbers.append(fibonacci_numbers[-1] + fibonacci_numbers[-2])\n",
    "        \n",
    "        # Initialize a counter for the number of Fibonacci numbers used\n",
    "        count = 0\n",
    "        \n",
    "        # Starting from the largest Fibonacci number, subtract it from k\n",
    "        # until k becomes 0\n",
    "        index = len(fibonacci_numbers) - 1\n",
    "        while k > 0:\n",
    "            while fibonacci_numbers[index] > k:\n",
    "                index -= 1\n",
    "            k -= fibonacci_numbers[index]\n",
    "            count += 1\n",
    "        \n",
    "        return count"
   ]
  }
 ],
 "metadata": {
  "kernelspec": {
   "display_name": "Python 3 (ipykernel)",
   "language": "python",
   "name": "python3"
  },
  "language_info": {
   "codemirror_mode": {
    "name": "ipython",
    "version": 3
   },
   "file_extension": ".py",
   "mimetype": "text/x-python",
   "name": "python",
   "nbconvert_exporter": "python",
   "pygments_lexer": "ipython3",
   "version": "3.9.12"
  }
 },
 "nbformat": 4,
 "nbformat_minor": 5
}
