{
 "cells": [
  {
   "cell_type": "code",
   "execution_count": null,
   "id": "0f1001b1-9786-414b-9807-c0f4d132bb50",
   "metadata": {},
   "outputs": [],
   "source": [
    "class Solution(object):\n",
    "    def rotateRight(self, head, k):\n",
    "        if head == None:\n",
    "            return None\n",
    "        start = head\n",
    "        end = head\n",
    "        counter =  1\n",
    "        \n",
    "        while end.next:\n",
    "            counter += 1\n",
    "            end = end.next\n",
    "        \n",
    "        end.next = head \n",
    "        k = k % counter\n",
    "        k = counter - k\n",
    "\n",
    "        while k > 0:\n",
    "            end = end.next\n",
    "            start = start.next\n",
    "            k = k - 1 \n",
    "\n",
    "        end.next = None\n",
    "        return start\n",
    "        "
   ]
  }
 ],
 "metadata": {
  "kernelspec": {
   "display_name": "Python 3 (ipykernel)",
   "language": "python",
   "name": "python3"
  },
  "language_info": {
   "codemirror_mode": {
    "name": "ipython",
    "version": 3
   },
   "file_extension": ".py",
   "mimetype": "text/x-python",
   "name": "python",
   "nbconvert_exporter": "python",
   "pygments_lexer": "ipython3",
   "version": "3.12.4"
  }
 },
 "nbformat": 4,
 "nbformat_minor": 5
}
