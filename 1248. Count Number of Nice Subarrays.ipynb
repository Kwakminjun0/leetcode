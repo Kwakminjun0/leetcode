{
 "cells": [
  {
   "cell_type": "code",
   "execution_count": null,
   "id": "a47f0b00",
   "metadata": {},
   "outputs": [],
   "source": [
    "class Solution(object):\n",
    "    def numberOfSubarrays(self, nums, k):\n",
    "        \"\"\"\n",
    "        :type nums: List[int]\n",
    "        :type k: int\n",
    "        :rtype: int\n",
    "        \"\"\"\n",
    "        def atMost(nums, k):\n",
    "            count = result = left = 0\n",
    "            for right in range(len(nums)):\n",
    "                if nums[right] % 2 != 0:\n",
    "                    k -= 1\n",
    "                while k < 0:\n",
    "                    if nums[left] % 2 != 0:\n",
    "                        k += 1\n",
    "                    left += 1\n",
    "                count += right - left + 1\n",
    "            return count\n",
    "        \n",
    "        return atMost(nums, k) - atMost(nums, k - 1)"
   ]
  }
 ],
 "metadata": {
  "kernelspec": {
   "display_name": "Python 3 (ipykernel)",
   "language": "python",
   "name": "python3"
  },
  "language_info": {
   "codemirror_mode": {
    "name": "ipython",
    "version": 3
   },
   "file_extension": ".py",
   "mimetype": "text/x-python",
   "name": "python",
   "nbconvert_exporter": "python",
   "pygments_lexer": "ipython3",
   "version": "3.9.12"
  }
 },
 "nbformat": 4,
 "nbformat_minor": 5
}
