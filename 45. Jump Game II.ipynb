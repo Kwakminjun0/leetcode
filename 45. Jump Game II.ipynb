{
 "cells": [
  {
   "cell_type": "code",
   "execution_count": null,
   "id": "7ae9fece-fa0e-4bef-bce3-f2edb2ae71bd",
   "metadata": {},
   "outputs": [],
   "source": [
    "class Solution:\n",
    "    # @param {integer[]} nums\n",
    "    # @return {integer}\n",
    "    def jump(self, nums):\n",
    "        n, start, end, step = len(nums), 0, 0, 0\n",
    "        while end < n - 1:\n",
    "            step += 1\n",
    "            maxend = end + 1\n",
    "            for i in range(start, end + 1):\n",
    "                if i + nums[i] >= n - 1:\n",
    "                    return step\n",
    "                maxend = max(maxend, i + nums[i])\n",
    "            start, end = end + 1, maxend\n",
    "        return step\n",
    "        "
   ]
  }
 ],
 "metadata": {
  "kernelspec": {
   "display_name": "Python 3 (ipykernel)",
   "language": "python",
   "name": "python3"
  },
  "language_info": {
   "codemirror_mode": {
    "name": "ipython",
    "version": 3
   },
   "file_extension": ".py",
   "mimetype": "text/x-python",
   "name": "python",
   "nbconvert_exporter": "python",
   "pygments_lexer": "ipython3",
   "version": "3.12.4"
  }
 },
 "nbformat": 4,
 "nbformat_minor": 5
}
