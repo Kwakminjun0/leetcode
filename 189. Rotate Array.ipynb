{
 "cells": [
  {
   "cell_type": "code",
   "execution_count": null,
   "id": "5ce4d980",
   "metadata": {},
   "outputs": [],
   "source": [
    "class Solution(object):\n",
    "    def rotate(self, nums, k):\n",
    "        \"\"\"\n",
    "        :type nums: List[int]\n",
    "        :type k: int\n",
    "        :rtype: None Do not return anything, modify nums in-place instead.\n",
    "        \"\"\"\n",
    "         # Calculate the effective value of k\n",
    "        k %= len(nums)\n",
    "        \n",
    "        # Reverse the entire array\n",
    "        self.reverse(nums, 0, len(nums) - 1)\n",
    "        \n",
    "        # Reverse the first k elements\n",
    "        self.reverse(nums, 0, k - 1)\n",
    "        \n",
    "        # Reverse the remaining elements\n",
    "        self.reverse(nums, k, len(nums) - 1)\n",
    "    \n",
    "    def reverse(self, nums, start, end):\n",
    "        while start < end:\n",
    "            nums[start], nums[end] = nums[end], nums[start]\n",
    "            start += 1\n",
    "            end -= 1"
   ]
  }
 ],
 "metadata": {
  "kernelspec": {
   "display_name": "Python 3 (ipykernel)",
   "language": "python",
   "name": "python3"
  },
  "language_info": {
   "codemirror_mode": {
    "name": "ipython",
    "version": 3
   },
   "file_extension": ".py",
   "mimetype": "text/x-python",
   "name": "python",
   "nbconvert_exporter": "python",
   "pygments_lexer": "ipython3",
   "version": "3.9.12"
  }
 },
 "nbformat": 4,
 "nbformat_minor": 5
}
