{
 "cells": [
  {
   "cell_type": "code",
   "execution_count": null,
   "id": "b7797e58-7ee7-400f-9994-aa0070b295ae",
   "metadata": {},
   "outputs": [],
   "source": [
    "class Solution(object):\n",
    "    def searchRange(self, nums, target):\n",
    "        out=[0]*2\n",
    "        if nums.count(target)>0:\n",
    "            out[0]=nums.index(target)\n",
    "            out[1]=(len(nums)-1)-(sorted(nums,reverse=True).index(target))      \n",
    "        else:\n",
    "            out[0]=-1\n",
    "            out[1]=-1\n",
    "        return out        \n",
    "        "
   ]
  }
 ],
 "metadata": {
  "kernelspec": {
   "display_name": "Python 3 (ipykernel)",
   "language": "python",
   "name": "python3"
  },
  "language_info": {
   "codemirror_mode": {
    "name": "ipython",
    "version": 3
   },
   "file_extension": ".py",
   "mimetype": "text/x-python",
   "name": "python",
   "nbconvert_exporter": "python",
   "pygments_lexer": "ipython3",
   "version": "3.12.4"
  }
 },
 "nbformat": 4,
 "nbformat_minor": 5
}
