{
 "cells": [
  {
   "cell_type": "code",
   "execution_count": null,
   "id": "eab9b382",
   "metadata": {},
   "outputs": [],
   "source": [
    "class Solution(object):\n",
    "    def allCellsDistOrder(self, rows, cols, rCenter, cCenter):\n",
    "        \"\"\"\n",
    "        :type rows: int\n",
    "        :type cols: int\n",
    "        :type rCenter: int\n",
    "        :type cCenter: int\n",
    "        :rtype: List[List[int]]\n",
    "        \"\"\"\n",
    "        distances = []\n",
    "        for i in range(rows):\n",
    "            for j in range(cols):\n",
    "                distance = abs(i - rCenter) + abs(j - cCenter)\n",
    "                distances.append((distance, [i, j]))\n",
    "        \n",
    "        # Sort the cells based on their distances\n",
    "        distances.sort()\n",
    "        \n",
    "        # Extract the coordinates from the sorted distances\n",
    "        return [cell[1] for cell in distances]"
   ]
  }
 ],
 "metadata": {
  "kernelspec": {
   "display_name": "Python 3 (ipykernel)",
   "language": "python",
   "name": "python3"
  },
  "language_info": {
   "codemirror_mode": {
    "name": "ipython",
    "version": 3
   },
   "file_extension": ".py",
   "mimetype": "text/x-python",
   "name": "python",
   "nbconvert_exporter": "python",
   "pygments_lexer": "ipython3",
   "version": "3.9.12"
  }
 },
 "nbformat": 4,
 "nbformat_minor": 5
}
