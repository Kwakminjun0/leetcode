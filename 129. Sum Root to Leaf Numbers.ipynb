{
 "cells": [
  {
   "cell_type": "code",
   "execution_count": null,
   "id": "5ec9c09c-2675-4494-812e-ac30e72235de",
   "metadata": {},
   "outputs": [],
   "source": [
    "class Solution(object):\n",
    "    def sumNumbers(self, root):\n",
    "        res = []\n",
    "        def dfs(root,r):\n",
    "            if not root:\n",
    "                return ''\n",
    "            r += str(root.val)\n",
    "            if not root.left and not root.right:\n",
    "                res.append(r)\n",
    "            dfs(root.left,r)\n",
    "            dfs(root.right,r)\n",
    "        dfs(root,'')\n",
    "        ans = 0\n",
    "        for x in res:\n",
    "            ans += int(x)\n",
    "        return ans"
   ]
  }
 ],
 "metadata": {
  "kernelspec": {
   "display_name": "Python 3 (ipykernel)",
   "language": "python",
   "name": "python3"
  },
  "language_info": {
   "name": ""
  }
 },
 "nbformat": 4,
 "nbformat_minor": 5
}
