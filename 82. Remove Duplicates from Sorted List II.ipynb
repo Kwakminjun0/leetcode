{
 "cells": [
  {
   "cell_type": "code",
   "execution_count": null,
   "id": "671dbe7c-8c14-4bbf-9b36-da64648729bb",
   "metadata": {},
   "outputs": [],
   "source": [
    "class Solution(object):\n",
    "    def deleteDuplicates(self, head):\n",
    "        dummy = pre = ListNode(0)\n",
    "        dummy.next = head\n",
    "        while head and head.next:\n",
    "            if head.val == head.next.val:\n",
    "                while head and head.next and head.val == head.next.val:\n",
    "                    head = head.next\n",
    "                head = head.next\n",
    "                pre.next = head\n",
    "            else:\n",
    "                pre = pre.next\n",
    "                head = head.next\n",
    "        return dummy.next"
   ]
  }
 ],
 "metadata": {
  "kernelspec": {
   "display_name": "Python 3 (ipykernel)",
   "language": "python",
   "name": "python3"
  },
  "language_info": {
   "codemirror_mode": {
    "name": "ipython",
    "version": 3
   },
   "file_extension": ".py",
   "mimetype": "text/x-python",
   "name": "python",
   "nbconvert_exporter": "python",
   "pygments_lexer": "ipython3",
   "version": "3.12.4"
  }
 },
 "nbformat": 4,
 "nbformat_minor": 5
}
