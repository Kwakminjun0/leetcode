{
 "cells": [
  {
   "cell_type": "code",
   "execution_count": null,
   "id": "1ba565c9",
   "metadata": {},
   "outputs": [],
   "source": [
    "class Solution(object):\n",
    "    def stoneGameVI(self, aliceValues, bobValues):\n",
    "        \"\"\"\n",
    "        :type aliceValues: List[int]\n",
    "        :type bobValues: List[int]\n",
    "        :rtype: int\n",
    "        \"\"\"\n",
    "        # Create a list of tuples where each tuple contains the index and the difference\n",
    "        # between aliceValues[i] and bobValues[i]\n",
    "        stone_diff = [(i, aliceValues[i] + bobValues[i]) for i in range(len(aliceValues))]\n",
    "        # Sort the stone_diff list in descending order of differences\n",
    "        stone_diff.sort(key=lambda x: -x[1])\n",
    "        \n",
    "        aliceScore = 0\n",
    "        bobScore = 0\n",
    "        \n",
    "        # Iterate through the stones\n",
    "        for i, (index, _) in enumerate(stone_diff):\n",
    "            # If the index is even, Alice picks the stone\n",
    "            if i % 2 == 0:\n",
    "                aliceScore += aliceValues[index]\n",
    "            # If the index is odd, Bob picks the stone\n",
    "            else:\n",
    "                bobScore += bobValues[index]\n",
    "        \n",
    "        # Determine the winner based on the score difference\n",
    "        if aliceScore > bobScore:\n",
    "            return 1\n",
    "        elif aliceScore < bobScore:\n",
    "            return -1\n",
    "        else:\n",
    "            return 0"
   ]
  }
 ],
 "metadata": {
  "kernelspec": {
   "display_name": "Python 3 (ipykernel)",
   "language": "python",
   "name": "python3"
  },
  "language_info": {
   "codemirror_mode": {
    "name": "ipython",
    "version": 3
   },
   "file_extension": ".py",
   "mimetype": "text/x-python",
   "name": "python",
   "nbconvert_exporter": "python",
   "pygments_lexer": "ipython3",
   "version": "3.9.12"
  }
 },
 "nbformat": 4,
 "nbformat_minor": 5
}
