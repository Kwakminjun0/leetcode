{
 "cells": [
  {
   "cell_type": "code",
   "execution_count": null,
   "id": "0b58ee4b",
   "metadata": {},
   "outputs": [],
   "source": [
    "class Solution(object):\n",
    "    def memLeak(self, memory1, memory2):\n",
    "        \"\"\"\n",
    "        :type memory1: int\n",
    "        :type memory2: int\n",
    "        :rtype: List[int]\n",
    "        \"\"\"\n",
    "        i = 1\n",
    "        output = [1,memory1,memory2]\n",
    "\n",
    "        while memory1 >= 0 and memory2 >= 0:\n",
    "            if memory1 == memory2:\n",
    "                memory1 -= i\n",
    "            else:\n",
    "                if memory1 < memory2:\n",
    "                    memory2 -= i\n",
    "                else:\n",
    "                    memory1 -= i\n",
    "            if memory1 < 0 or memory2 < 0:\n",
    "                return output\n",
    "            else:\n",
    "                i += 1\n",
    "                output = [i,memory1,memory2]"
   ]
  }
 ],
 "metadata": {
  "kernelspec": {
   "display_name": "Python 3 (ipykernel)",
   "language": "python",
   "name": "python3"
  },
  "language_info": {
   "codemirror_mode": {
    "name": "ipython",
    "version": 3
   },
   "file_extension": ".py",
   "mimetype": "text/x-python",
   "name": "python",
   "nbconvert_exporter": "python",
   "pygments_lexer": "ipython3",
   "version": "3.9.12"
  }
 },
 "nbformat": 4,
 "nbformat_minor": 5
}
