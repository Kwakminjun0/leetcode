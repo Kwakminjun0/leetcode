{
 "cells": [
  {
   "cell_type": "code",
   "execution_count": null,
   "id": "61ceb924-9efc-49ae-8c5e-ca9dd428329e",
   "metadata": {},
   "outputs": [],
   "source": [
    "class Solution(object):\n",
    "    def mergeTwoLists(self, l1, l2):\n",
    "        if(l1==None):\n",
    "            return l2\n",
    "        if(l2==None):\n",
    "            return l1\n",
    "        t=l1\n",
    "        if(l1.val<l2.val):\n",
    "            t=l1\n",
    "            l1=l1.next\n",
    "        else:\n",
    "            t=l2\n",
    "            l2=l2.next\n",
    "        head=t\n",
    "        while(l1!=None and l2!=None):\n",
    "            if(l1.val <= l2.val):\n",
    "                t.next=l1\n",
    "                l1=l1.next\n",
    "            else:\n",
    "                t.next=l2\n",
    "                l2=l2.next\n",
    "            t=t.next\n",
    "        if(l1==None):\n",
    "            t.next=l2\n",
    "        else:\n",
    "            t.next=l1\n",
    "        return head"
   ]
  }
 ],
 "metadata": {
  "kernelspec": {
   "display_name": "Python 3 (ipykernel)",
   "language": "python",
   "name": "python3"
  },
  "language_info": {
   "codemirror_mode": {
    "name": "ipython",
    "version": 3
   },
   "file_extension": ".py",
   "mimetype": "text/x-python",
   "name": "python",
   "nbconvert_exporter": "python",
   "pygments_lexer": "ipython3",
   "version": "3.12.4"
  }
 },
 "nbformat": 4,
 "nbformat_minor": 5
}
