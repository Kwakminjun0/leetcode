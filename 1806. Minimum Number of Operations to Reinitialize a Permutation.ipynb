{
 "cells": [
  {
   "cell_type": "code",
   "execution_count": null,
   "id": "11a74494",
   "metadata": {},
   "outputs": [],
   "source": [
    "class Solution(object):\n",
    "    def reinitializePermutation(self, n):\n",
    "        \"\"\"\n",
    "        :type n: int\n",
    "        :rtype: int\n",
    "        \"\"\"\n",
    "        perm = list(range(n))  # Initial permutation\n",
    "        arr = [0] * n\n",
    "        \n",
    "        operations = 0\n",
    "        while True:\n",
    "            for i in range(n):\n",
    "                if i % 2 == 0:\n",
    "                    arr[i] = perm[i // 2]\n",
    "                else:\n",
    "                    arr[i] = perm[n // 2 + (i - 1) // 2]\n",
    "            \n",
    "            perm = arr[:]  # Assign arr to perm\n",
    "            \n",
    "            operations += 1\n",
    "            if perm == list(range(n)):\n",
    "                break\n",
    "                \n",
    "        return operations\n"
   ]
  }
 ],
 "metadata": {
  "kernelspec": {
   "display_name": "Python 3 (ipykernel)",
   "language": "python",
   "name": "python3"
  },
  "language_info": {
   "codemirror_mode": {
    "name": "ipython",
    "version": 3
   },
   "file_extension": ".py",
   "mimetype": "text/x-python",
   "name": "python",
   "nbconvert_exporter": "python",
   "pygments_lexer": "ipython3",
   "version": "3.9.12"
  }
 },
 "nbformat": 4,
 "nbformat_minor": 5
}
