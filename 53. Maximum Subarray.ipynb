{
 "cells": [
  {
   "cell_type": "code",
   "execution_count": null,
   "id": "b39bce9c-c0ab-4f1f-b291-9f8f48e64575",
   "metadata": {},
   "outputs": [],
   "source": [
    "class Solution(object):\n",
    "    def maxSubArray(self, nums):\n",
    "        # Create an array...\n",
    "        arr = []\n",
    "        arr.append(nums[0])\n",
    "        # Initialize the max sum...\n",
    "        maxSum = arr[0]\n",
    "        # Traverse all the element through the loop...\n",
    "        for i in range(1, len(nums)):\n",
    "            # arr[i] represents the largest sum of all subarrays ending with index i...\n",
    "            # then its value should be the larger one between nums[i]...\n",
    "            # arr[i-1] + nums[i] (largest sum plus current number with using prefix)...\n",
    "            # calculate arr[0], arr[1]…, arr[n] while comparing each one with current largest sum...\n",
    "            arr.append(max(arr[i-1] + nums[i], nums[i]))\n",
    "            # if arr[i] > maxSum then maxSum = arr[i].\n",
    "            if arr[i] > maxSum:\n",
    "                maxSum = arr[i]\n",
    "        return maxSum       # Return the contiguous subarray which has the largest sum...\n",
    "        "
   ]
  }
 ],
 "metadata": {
  "kernelspec": {
   "display_name": "Python 3 (ipykernel)",
   "language": "python",
   "name": "python3"
  },
  "language_info": {
   "codemirror_mode": {
    "name": "ipython",
    "version": 3
   },
   "file_extension": ".py",
   "mimetype": "text/x-python",
   "name": "python",
   "nbconvert_exporter": "python",
   "pygments_lexer": "ipython3",
   "version": "3.12.4"
  }
 },
 "nbformat": 4,
 "nbformat_minor": 5
}
