{
 "cells": [
  {
   "cell_type": "code",
   "execution_count": null,
   "id": "dccd8f94-af1d-4e51-a7a3-88f3bfee1b09",
   "metadata": {},
   "outputs": [],
   "source": [
    "class Solution:\n",
    "    def isSameTree(self, p, q):\n",
    "        # If both nodes are None, they are identical\n",
    "        if p is None and q is None:\n",
    "            return True\n",
    "        # If only one of the nodes is None, they are not identical\n",
    "        if p is None or q is None:\n",
    "            return False\n",
    "        # Check if values are equal and recursively check left and right subtrees\n",
    "        if p.val == q.val:\n",
    "            return self.isSameTree(p.left, q.left) and self.isSameTree(p.right, q.right)\n",
    "        # Values are not equal, they are not identical\n",
    "        return False\n",
    "        "
   ]
  }
 ],
 "metadata": {
  "kernelspec": {
   "display_name": "Python 3 (ipykernel)",
   "language": "python",
   "name": "python3"
  },
  "language_info": {
   "codemirror_mode": {
    "name": "ipython",
    "version": 3
   },
   "file_extension": ".py",
   "mimetype": "text/x-python",
   "name": "python",
   "nbconvert_exporter": "python",
   "pygments_lexer": "ipython3",
   "version": "3.12.4"
  }
 },
 "nbformat": 4,
 "nbformat_minor": 5
}
