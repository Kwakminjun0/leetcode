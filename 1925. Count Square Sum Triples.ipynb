{
 "cells": [
  {
   "cell_type": "code",
   "execution_count": null,
   "id": "471a2b72",
   "metadata": {},
   "outputs": [],
   "source": [
    "class Solution(object):\n",
    "    def countTriples(self, n):\n",
    "        \"\"\"\n",
    "        :type n: int\n",
    "        :rtype: int\n",
    "        \"\"\"\n",
    "        count = 0\n",
    "        for a in range(1, n + 1):\n",
    "            for b in range(1, n + 1):\n",
    "                c_squared = a**2 + b**2\n",
    "                c = int(c_squared ** 0.5)\n",
    "                if c <= n and c_squared == c**2:\n",
    "                    count += 1\n",
    "        return count\n",
    "        "
   ]
  }
 ],
 "metadata": {
  "kernelspec": {
   "display_name": "Python 3 (ipykernel)",
   "language": "python",
   "name": "python3"
  },
  "language_info": {
   "codemirror_mode": {
    "name": "ipython",
    "version": 3
   },
   "file_extension": ".py",
   "mimetype": "text/x-python",
   "name": "python",
   "nbconvert_exporter": "python",
   "pygments_lexer": "ipython3",
   "version": "3.9.12"
  }
 },
 "nbformat": 4,
 "nbformat_minor": 5
}
