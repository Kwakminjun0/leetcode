{
 "cells": [
  {
   "cell_type": "code",
   "execution_count": null,
   "id": "c6d44a21",
   "metadata": {},
   "outputs": [],
   "source": [
    "class Solution(object):\n",
    "    def numMovesStones(self, a, b, c):\n",
    "        \"\"\"\n",
    "        :type a: int\n",
    "        :type b: int\n",
    "        :type c: int\n",
    "        :rtype: List[int]\n",
    "        \"\"\"\n",
    "        a, b, c = sorted([a, b, c])        \n",
    "        \n",
    "        # sum of diff from both sides\n",
    "        _max = (b - a - 1) + (c - b - 1)\n",
    "\n",
    "        # insert between\n",
    "        if b - a == 2 or c - b == 2:\n",
    "            _min = 1\n",
    "        else:\n",
    "            _min = int(b - a > 1) + int(c - b > 1)\n",
    "\n",
    "        return [_min, _max]"
   ]
  }
 ],
 "metadata": {
  "kernelspec": {
   "display_name": "Python 3 (ipykernel)",
   "language": "python",
   "name": "python3"
  },
  "language_info": {
   "codemirror_mode": {
    "name": "ipython",
    "version": 3
   },
   "file_extension": ".py",
   "mimetype": "text/x-python",
   "name": "python",
   "nbconvert_exporter": "python",
   "pygments_lexer": "ipython3",
   "version": "3.9.12"
  }
 },
 "nbformat": 4,
 "nbformat_minor": 5
}
