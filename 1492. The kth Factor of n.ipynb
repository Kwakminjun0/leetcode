{
 "cells": [
  {
   "cell_type": "code",
   "execution_count": null,
   "id": "1120552b",
   "metadata": {},
   "outputs": [],
   "source": [
    "class Solution(object):\n",
    "    def kthFactor(self, n, k):\n",
    "        \"\"\"\n",
    "        :type n: int\n",
    "        :type k: int\n",
    "        :rtype: int\n",
    "        \"\"\"\n",
    "        factors = []\n",
    "\n",
    "        # Iterate over possible factors up to sqrt(n)\n",
    "        for i in range(1, int(n**0.5) + 1):\n",
    "            if n % i == 0:\n",
    "                factors.append(i)\n",
    "                if i != n // i:  # Avoid adding the square root twice if n is a perfect square\n",
    "                    factors.append(n // i)\n",
    "\n",
    "        factors.sort()  # Sort the list of factors\n",
    "        \n",
    "        # Check if we have at least k factors\n",
    "        if len(factors) >= k:\n",
    "            return factors[k-1]\n",
    "        else:\n",
    "            return -1"
   ]
  }
 ],
 "metadata": {
  "kernelspec": {
   "display_name": "Python 3 (ipykernel)",
   "language": "python",
   "name": "python3"
  },
  "language_info": {
   "codemirror_mode": {
    "name": "ipython",
    "version": 3
   },
   "file_extension": ".py",
   "mimetype": "text/x-python",
   "name": "python",
   "nbconvert_exporter": "python",
   "pygments_lexer": "ipython3",
   "version": "3.9.12"
  }
 },
 "nbformat": 4,
 "nbformat_minor": 5
}
