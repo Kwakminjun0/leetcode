{
 "cells": [
  {
   "cell_type": "code",
   "execution_count": null,
   "id": "cba6bafb",
   "metadata": {},
   "outputs": [],
   "source": [
    "import random\n",
    "import bisect\n",
    "\n",
    "class Solution:\n",
    "\n",
    "    def __init__(self, w):\n",
    "        \"\"\"\n",
    "        :type w: List[int]\n",
    "        \"\"\"\n",
    "        self.prefix_sums = []\n",
    "        self.total_weight = 0\n",
    "        \n",
    "        # Calculate the prefix sums\n",
    "        for weight in w:\n",
    "            self.total_weight += weight\n",
    "            self.prefix_sums.append(self.total_weight)\n",
    "\n",
    "    def pickIndex(self):\n",
    "        \"\"\"\n",
    "        :rtype: int\n",
    "        \"\"\"\n",
    "        # Generate a random number between 0 and total_weight (exclusive)\n",
    "        target = random.random() * self.total_weight\n",
    "        \n",
    "        # Binary search for the target in prefix_sums\n",
    "        index = bisect.bisect_left(self.prefix_sums, target)\n",
    "        return index\n",
    "\n",
    "# Your Solution object will be instantiated and called as such:\n",
    "# obj = Solution(w)\n",
    "# param_1 = obj.pickIndex()"
   ]
  }
 ],
 "metadata": {
  "kernelspec": {
   "display_name": "Python 3 (ipykernel)",
   "language": "python",
   "name": "python3"
  },
  "language_info": {
   "codemirror_mode": {
    "name": "ipython",
    "version": 3
   },
   "file_extension": ".py",
   "mimetype": "text/x-python",
   "name": "python",
   "nbconvert_exporter": "python",
   "pygments_lexer": "ipython3",
   "version": "3.9.12"
  }
 },
 "nbformat": 4,
 "nbformat_minor": 5
}
