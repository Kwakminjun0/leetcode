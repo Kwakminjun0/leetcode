{
 "cells": [
  {
   "cell_type": "code",
   "execution_count": null,
   "id": "56258df0",
   "metadata": {},
   "outputs": [],
   "source": [
    "class Solution(object):\n",
    "    def evalRPN(self, tokens):\n",
    "        \"\"\"\n",
    "        :type tokens: List[str]\n",
    "        :rtype: int\n",
    "        \"\"\"\n",
    "        stack = []\n",
    "        operators = {'+', '-', '*', '/'}\n",
    "        \n",
    "        for token in tokens:\n",
    "            if token not in operators:\n",
    "                stack.append(int(token))\n",
    "            else:\n",
    "                operand2 = stack.pop()\n",
    "                operand1 = stack.pop()\n",
    "                if token == '+':\n",
    "                    stack.append(operand1 + operand2)\n",
    "                elif token == '-':\n",
    "                    stack.append(operand1 - operand2)\n",
    "                elif token == '*':\n",
    "                    stack.append(operand1 * operand2)\n",
    "                elif token == '/':\n",
    "                    # Division between two integers truncates toward zero\n",
    "                    stack.append(int(float(operand1) / operand2))\n",
    "        \n",
    "        return stack[0]\n",
    "        "
   ]
  }
 ],
 "metadata": {
  "kernelspec": {
   "display_name": "Python 3 (ipykernel)",
   "language": "python",
   "name": "python3"
  },
  "language_info": {
   "codemirror_mode": {
    "name": "ipython",
    "version": 3
   },
   "file_extension": ".py",
   "mimetype": "text/x-python",
   "name": "python",
   "nbconvert_exporter": "python",
   "pygments_lexer": "ipython3",
   "version": "3.9.12"
  }
 },
 "nbformat": 4,
 "nbformat_minor": 5
}
