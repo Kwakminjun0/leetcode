{
 "cells": [
  {
   "cell_type": "code",
   "execution_count": null,
   "id": "c6dc84a2-e1ee-4c59-81cd-86ae0a4cda68",
   "metadata": {},
   "outputs": [],
   "source": [
    "class Solution(object):\n",
    "    def uniquePathsWithObstacles(self, obstacleGrid):\n",
    "        \"\"\"\n",
    "        :type obstacleGrid: List[List[int]]\n",
    "        :rtype: int\n",
    "        \"\"\"\n",
    "        m, n = len(obstacleGrid), len(obstacleGrid[0])\n",
    "    \n",
    "        # Create a DP array initialized with 0\n",
    "        dp = [[0] * n for _ in range(m)]\n",
    "        \n",
    "        # Initialize the starting point\n",
    "        dp[0][0] = 1 if obstacleGrid[0][0] == 0 else 0\n",
    "        \n",
    "        # Fill in the DP array\n",
    "        for i in range(m):\n",
    "            for j in range(n):\n",
    "                if obstacleGrid[i][j] == 1:\n",
    "                    dp[i][j] = 0\n",
    "                else:\n",
    "                    if i > 0:\n",
    "                        dp[i][j] += dp[i - 1][j]\n",
    "                    if j > 0:\n",
    "                        dp[i][j] += dp[i][j - 1]\n",
    "        \n",
    "        return dp[m - 1][n - 1]"
   ]
  }
 ],
 "metadata": {
  "kernelspec": {
   "display_name": "Python 3 (ipykernel)",
   "language": "python",
   "name": "python3"
  },
  "language_info": {
   "codemirror_mode": {
    "name": "ipython",
    "version": 3
   },
   "file_extension": ".py",
   "mimetype": "text/x-python",
   "name": "python",
   "nbconvert_exporter": "python",
   "pygments_lexer": "ipython3",
   "version": "3.12.4"
  }
 },
 "nbformat": 4,
 "nbformat_minor": 5
}
