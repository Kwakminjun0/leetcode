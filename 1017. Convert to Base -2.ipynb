{
 "cells": [
  {
   "cell_type": "code",
   "execution_count": null,
   "id": "4ac22385",
   "metadata": {},
   "outputs": [],
   "source": [
    "class Solution(object):\n",
    "    def baseNeg2(self, n):\n",
    "        \"\"\"\n",
    "        :type n: int\n",
    "        :rtype: str\n",
    "        \"\"\"\n",
    "        if n == 0:\n",
    "            return \"0\"\n",
    "        \n",
    "        result = \"\"\n",
    "        while n != 0:\n",
    "            remainder = n % -2\n",
    "            n //= -2\n",
    "            if remainder < 0:  # Adjust negative remainders\n",
    "                remainder += 2\n",
    "                n += 1\n",
    "            result = str(remainder) + result  # Build the binary string from right to left\n",
    "        \n",
    "        return result"
   ]
  }
 ],
 "metadata": {
  "kernelspec": {
   "display_name": "Python 3 (ipykernel)",
   "language": "python",
   "name": "python3"
  },
  "language_info": {
   "codemirror_mode": {
    "name": "ipython",
    "version": 3
   },
   "file_extension": ".py",
   "mimetype": "text/x-python",
   "name": "python",
   "nbconvert_exporter": "python",
   "pygments_lexer": "ipython3",
   "version": "3.9.12"
  }
 },
 "nbformat": 4,
 "nbformat_minor": 5
}
