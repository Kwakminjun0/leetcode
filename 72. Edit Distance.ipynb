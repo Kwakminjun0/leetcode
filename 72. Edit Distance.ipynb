{
 "cells": [
  {
   "cell_type": "code",
   "execution_count": null,
   "id": "afb25dbd-430b-45a4-a129-cebdf504c93a",
   "metadata": {},
   "outputs": [],
   "source": [
    "class Solution(object):\n",
    "    def minDistance(self, word1, word2):\n",
    "        \"\"\"\n",
    "        :type word1: str\n",
    "        :type word2: str\n",
    "        :rtype: int\n",
    "        \"\"\"\n",
    "        l1=len(word1)\n",
    "        l2=len(word2)\n",
    "        dp=[[0]*(l2+1) for i in range(l1+1)]\n",
    "        cnt=0\n",
    "        for i in range(l1+1):\n",
    "            for j in range(l2+1):\n",
    "                if i==0:\n",
    "                    dp[i][j]=j\n",
    "                elif j==0:\n",
    "                    dp[i][j]=i\n",
    "                elif word1[i-1]==word2[j-1]:\n",
    "                    dp[i][j]=dp[i-1][j-1]\n",
    "                else:\n",
    "                    dp[i][j]=min(dp[i][j-1],dp[i-1][j],dp[i-1][j-1])+1\n",
    "        return dp[-1][-1]"
   ]
  }
 ],
 "metadata": {
  "kernelspec": {
   "display_name": "Python 3 (ipykernel)",
   "language": "python",
   "name": "python3"
  },
  "language_info": {
   "codemirror_mode": {
    "name": "ipython",
    "version": 3
   },
   "file_extension": ".py",
   "mimetype": "text/x-python",
   "name": "python",
   "nbconvert_exporter": "python",
   "pygments_lexer": "ipython3",
   "version": "3.12.4"
  }
 },
 "nbformat": 4,
 "nbformat_minor": 5
}
