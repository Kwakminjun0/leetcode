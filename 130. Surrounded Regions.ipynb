{
 "cells": [
  {
   "cell_type": "code",
   "execution_count": null,
   "id": "b2d8697f-eaf2-4b21-bea8-c872fd649db6",
   "metadata": {},
   "outputs": [],
   "source": [
    "class Solution(object):\n",
    "    def solve(self, board):\n",
    "        if not any(board): return\n",
    "\n",
    "        m, n = len(board), len(board[0])\n",
    "        save = [ij for k in range(m+n) for ij in ((0, k), (m-1, k), (k, 0), (k, n-1))]\n",
    "        while save:\n",
    "            i, j = save.pop()\n",
    "            if 0 <= i < m and 0 <= j < n and board[i][j] == 'O':\n",
    "                board[i][j] = 'S'\n",
    "                save += (i, j-1), (i, j+1), (i-1, j), (i+1, j)\n",
    "\n",
    "        board[:] = [['XO'[c == 'S'] for c in row] for row in board]\n",
    "        "
   ]
  }
 ],
 "metadata": {
  "kernelspec": {
   "display_name": "Python 3 (ipykernel)",
   "language": "python",
   "name": "python3"
  },
  "language_info": {
   "name": ""
  }
 },
 "nbformat": 4,
 "nbformat_minor": 5
}
