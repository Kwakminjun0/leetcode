{
 "cells": [
  {
   "cell_type": "code",
   "execution_count": null,
   "id": "14609a73",
   "metadata": {},
   "outputs": [],
   "source": [
    "class Solution(object):\n",
    "    def subsetXORSum(self, nums):\n",
    "        \"\"\"\n",
    "        :type nums: List[int]\n",
    "        :rtype: int\n",
    "        \"\"\"\n",
    "        def backtrack(index, current_xor):\n",
    "            if index == len(nums):\n",
    "                # If we have considered all elements, add the current XOR to the total sum\n",
    "                self.total_sum += current_xor\n",
    "                return\n",
    "            # Include the current element in the subset\n",
    "            backtrack(index + 1, current_xor ^ nums[index])\n",
    "            # Exclude the current element from the subset\n",
    "            backtrack(index + 1, current_xor)\n",
    "        \n",
    "        self.total_sum = 0\n",
    "        backtrack(0, 0)\n",
    "        return self.total_sum\n"
   ]
  }
 ],
 "metadata": {
  "kernelspec": {
   "display_name": "Python 3 (ipykernel)",
   "language": "python",
   "name": "python3"
  },
  "language_info": {
   "codemirror_mode": {
    "name": "ipython",
    "version": 3
   },
   "file_extension": ".py",
   "mimetype": "text/x-python",
   "name": "python",
   "nbconvert_exporter": "python",
   "pygments_lexer": "ipython3",
   "version": "3.9.12"
  }
 },
 "nbformat": 4,
 "nbformat_minor": 5
}
