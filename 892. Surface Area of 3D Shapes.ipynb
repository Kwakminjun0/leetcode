{
 "cells": [
  {
   "cell_type": "code",
   "execution_count": null,
   "id": "4c4ab905",
   "metadata": {},
   "outputs": [],
   "source": [
    "class Solution(object):\n",
    "    def surfaceArea(self, grid):\n",
    "        \"\"\"\n",
    "        :type grid: List[List[int]]\n",
    "        :rtype: int\n",
    "        \"\"\"\n",
    "        n = len(grid)\n",
    "        total_surface_area = 0\n",
    "        \n",
    "        for i in range(n):\n",
    "            for j in range(n):\n",
    "                if grid[i][j] > 0:\n",
    "                    # Top and bottom surfaces\n",
    "                    total_surface_area += 2\n",
    "                    \n",
    "                    # Front surface\n",
    "                    if i == 0:\n",
    "                        total_surface_area += grid[i][j]\n",
    "                    else:\n",
    "                        total_surface_area += max(0, grid[i][j] - grid[i-1][j])\n",
    "                    \n",
    "                    # Back surface\n",
    "                    if i == n - 1:\n",
    "                        total_surface_area += grid[i][j]\n",
    "                    else:\n",
    "                        total_surface_area += max(0, grid[i][j] - grid[i+1][j])\n",
    "                    \n",
    "                    # Left surface\n",
    "                    if j == 0:\n",
    "                        total_surface_area += grid[i][j]\n",
    "                    else:\n",
    "                        total_surface_area += max(0, grid[i][j] - grid[i][j-1])\n",
    "                    \n",
    "                    # Right surface\n",
    "                    if j == n - 1:\n",
    "                        total_surface_area += grid[i][j]\n",
    "                    else:\n",
    "                        total_surface_area += max(0, grid[i][j] - grid[i][j+1])\n",
    "        \n",
    "        return total_surface_area"
   ]
  }
 ],
 "metadata": {
  "kernelspec": {
   "display_name": "Python 3 (ipykernel)",
   "language": "python",
   "name": "python3"
  },
  "language_info": {
   "codemirror_mode": {
    "name": "ipython",
    "version": 3
   },
   "file_extension": ".py",
   "mimetype": "text/x-python",
   "name": "python",
   "nbconvert_exporter": "python",
   "pygments_lexer": "ipython3",
   "version": "3.9.12"
  }
 },
 "nbformat": 4,
 "nbformat_minor": 5
}
