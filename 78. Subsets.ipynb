{
 "cells": [
  {
   "cell_type": "code",
   "execution_count": null,
   "id": "56e1c8a4-7b8d-4696-99b4-32eaba592078",
   "metadata": {},
   "outputs": [],
   "source": [
    "class Solution(object):\n",
    "    def subsets(self, nums):\n",
    "        ret = []\n",
    "        self.dfs(nums, [], ret)\n",
    "        return ret\n",
    "    \n",
    "    def dfs(self, nums, path, ret):\n",
    "        ret.append(path)\n",
    "        for i in range(len(nums)):\n",
    "            self.dfs(nums[i+1:], path+[nums[i]], ret)\n",
    "       \n",
    "    # Bit Manipulation    \n",
    "    def subsets2(self, nums):\n",
    "        res = []\n",
    "        nums.sort()\n",
    "        for i in xrange(1<<len(nums)):\n",
    "            tmp = []\n",
    "            for j in xrange(len(nums)):\n",
    "                if i & 1 << j:  # if i >> j & 1:\n",
    "                    tmp.append(nums[j])\n",
    "            res.append(tmp)\n",
    "        return res\n",
    "\t\t\n",
    "    # Iteratively\n",
    "    def subsets(self, nums):\n",
    "        res = [[]]\n",
    "        for num in sorted(nums):\n",
    "            res += [item+[num] for item in res]\n",
    "        return res\n",
    "        "
   ]
  }
 ],
 "metadata": {
  "kernelspec": {
   "display_name": "Python 3 (ipykernel)",
   "language": "python",
   "name": "python3"
  },
  "language_info": {
   "name": ""
  }
 },
 "nbformat": 4,
 "nbformat_minor": 5
}
