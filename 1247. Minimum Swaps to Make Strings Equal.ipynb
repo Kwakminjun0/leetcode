{
 "cells": [
  {
   "cell_type": "code",
   "execution_count": null,
   "id": "ba62a732",
   "metadata": {},
   "outputs": [],
   "source": [
    "class Solution(object):\n",
    "    def minimumSwap(self, s1, s2):\n",
    "        \"\"\"\n",
    "        :type s1: str\n",
    "        :type s2: str\n",
    "        :rtype: int\n",
    "        \"\"\"\n",
    "        if len(s1) != len(s2):\n",
    "            return -1\n",
    "        \n",
    "        xy_count = yx_count = 0\n",
    "        for c1, c2 in zip(s1, s2):\n",
    "            if c1 == 'x' and c2 == 'y':\n",
    "                xy_count += 1\n",
    "            elif c1 == 'y' and c2 == 'x':\n",
    "                yx_count += 1\n",
    "        \n",
    "        if (xy_count + yx_count) % 2 != 0:\n",
    "            return -1\n",
    "        \n",
    "        swaps = xy_count // 2 + yx_count // 2\n",
    "        if xy_count % 2 != 0:\n",
    "            swaps += 2\n",
    "        \n",
    "        return swaps"
   ]
  }
 ],
 "metadata": {
  "kernelspec": {
   "display_name": "Python 3 (ipykernel)",
   "language": "python",
   "name": "python3"
  },
  "language_info": {
   "codemirror_mode": {
    "name": "ipython",
    "version": 3
   },
   "file_extension": ".py",
   "mimetype": "text/x-python",
   "name": "python",
   "nbconvert_exporter": "python",
   "pygments_lexer": "ipython3",
   "version": "3.9.12"
  }
 },
 "nbformat": 4,
 "nbformat_minor": 5
}
