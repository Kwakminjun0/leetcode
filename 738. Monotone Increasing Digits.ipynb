{
 "cells": [
  {
   "cell_type": "code",
   "execution_count": null,
   "id": "f8ce255a",
   "metadata": {},
   "outputs": [],
   "source": [
    "class Solution(object):\n",
    "    def monotoneIncreasingDigits(self, n):\n",
    "        \"\"\"\n",
    "        :type n: int\n",
    "        :rtype: int\n",
    "        \"\"\"\n",
    "        nums = list(str(n))\n",
    "        i = 1\n",
    "        while i < len(nums) and nums[i - 1] <= nums[i]:\n",
    "            i += 1\n",
    "        while 0 < i < len(nums) and nums[i - 1] > nums[i]:\n",
    "            nums[i - 1] = str(int(nums[i - 1]) - 1)\n",
    "            i -= 1\n",
    "        for j in range(i + 1, len(nums)):\n",
    "            nums[j] = '9'\n",
    "        return int(''.join(nums))"
   ]
  }
 ],
 "metadata": {
  "kernelspec": {
   "display_name": "Python 3 (ipykernel)",
   "language": "python",
   "name": "python3"
  },
  "language_info": {
   "codemirror_mode": {
    "name": "ipython",
    "version": 3
   },
   "file_extension": ".py",
   "mimetype": "text/x-python",
   "name": "python",
   "nbconvert_exporter": "python",
   "pygments_lexer": "ipython3",
   "version": "3.9.12"
  }
 },
 "nbformat": 4,
 "nbformat_minor": 5
}
