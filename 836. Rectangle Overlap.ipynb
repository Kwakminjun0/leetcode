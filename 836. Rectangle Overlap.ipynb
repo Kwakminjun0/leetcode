{
 "cells": [
  {
   "cell_type": "code",
   "execution_count": null,
   "id": "06f6dc3f",
   "metadata": {},
   "outputs": [],
   "source": [
    "class Solution(object):\n",
    "    def isRectangleOverlap(self, rec1, rec2):\n",
    "        \"\"\"\n",
    "        :type rec1: List[int]\n",
    "        :type rec2: List[int]\n",
    "        :rtype: bool\n",
    "        \"\"\"\n",
    "        x1, y1, x2, y2 = rec1\n",
    "        x3, y3, x4, y4 = rec2\n",
    "        \n",
    "        # Check if they do not overlap\n",
    "        if x2 <= x3 or x4 <= x1 or y2 <= y3 or y4 <= y1:\n",
    "            return False\n",
    "        \n",
    "        return True"
   ]
  }
 ],
 "metadata": {
  "kernelspec": {
   "display_name": "Python 3 (ipykernel)",
   "language": "python",
   "name": "python3"
  },
  "language_info": {
   "codemirror_mode": {
    "name": "ipython",
    "version": 3
   },
   "file_extension": ".py",
   "mimetype": "text/x-python",
   "name": "python",
   "nbconvert_exporter": "python",
   "pygments_lexer": "ipython3",
   "version": "3.9.12"
  }
 },
 "nbformat": 4,
 "nbformat_minor": 5
}
