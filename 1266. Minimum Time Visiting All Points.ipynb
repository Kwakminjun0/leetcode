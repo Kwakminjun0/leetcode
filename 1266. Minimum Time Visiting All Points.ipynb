{
 "cells": [
  {
   "cell_type": "code",
   "execution_count": null,
   "id": "60546597",
   "metadata": {},
   "outputs": [],
   "source": [
    "class Solution(object):\n",
    "    def minTimeToVisitAllPoints(self, points):\n",
    "        \"\"\"\n",
    "        :type points: List[List[int]]\n",
    "        :rtype: int\n",
    "        \"\"\"\n",
    "        total_time = 0\n",
    "        for i in range(len(points) - 1):\n",
    "            x_diff = abs(points[i][0] - points[i+1][0])\n",
    "            y_diff = abs(points[i][1] - points[i+1][1])\n",
    "            total_time += max(x_diff, y_diff)\n",
    "        return total_time"
   ]
  }
 ],
 "metadata": {
  "kernelspec": {
   "display_name": "Python 3 (ipykernel)",
   "language": "python",
   "name": "python3"
  },
  "language_info": {
   "codemirror_mode": {
    "name": "ipython",
    "version": 3
   },
   "file_extension": ".py",
   "mimetype": "text/x-python",
   "name": "python",
   "nbconvert_exporter": "python",
   "pygments_lexer": "ipython3",
   "version": "3.9.12"
  }
 },
 "nbformat": 4,
 "nbformat_minor": 5
}
