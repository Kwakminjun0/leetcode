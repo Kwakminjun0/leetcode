{
 "cells": [
  {
   "cell_type": "code",
   "execution_count": null,
   "id": "c7fcf2e6",
   "metadata": {},
   "outputs": [],
   "source": [
    "class Solution(object):\n",
    "    def concatenatedBinary(self, n):\n",
    "        \"\"\"\n",
    "        :type n: int\n",
    "        :rtype: int\n",
    "        \"\"\"\n",
    "        MOD = 10**9 + 7\n",
    "        result = 0\n",
    "        \n",
    "        # Iterate from 1 to n\n",
    "        for i in range(1, n + 1):\n",
    "            # Calculate the length of the binary representation of i\n",
    "            length = len(bin(i)) - 2\n",
    "            \n",
    "            # Update the result by left-shifting the previous result by the length\n",
    "            # of the binary representation of i and adding i to it\n",
    "            result = ((result << length) + i) % MOD\n",
    "        \n",
    "        return result\n"
   ]
  }
 ],
 "metadata": {
  "kernelspec": {
   "display_name": "Python 3 (ipykernel)",
   "language": "python",
   "name": "python3"
  },
  "language_info": {
   "codemirror_mode": {
    "name": "ipython",
    "version": 3
   },
   "file_extension": ".py",
   "mimetype": "text/x-python",
   "name": "python",
   "nbconvert_exporter": "python",
   "pygments_lexer": "ipython3",
   "version": "3.9.12"
  }
 },
 "nbformat": 4,
 "nbformat_minor": 5
}
