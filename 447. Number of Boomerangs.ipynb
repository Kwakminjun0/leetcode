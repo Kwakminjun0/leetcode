{
 "cells": [
  {
   "cell_type": "code",
   "execution_count": null,
   "id": "f6bbb4c4",
   "metadata": {},
   "outputs": [],
   "source": [
    "class Solution(object):\n",
    "    def numberOfBoomerangs(self, points):\n",
    "        \"\"\"\n",
    "        :type points: List[List[int]]\n",
    "        :rtype: int\n",
    "        \"\"\"\n",
    "        def distance(p1, p2):\n",
    "            return (p1[0] - p2[0]) ** 2 + (p1[1] - p2[1]) ** 2\n",
    "        \n",
    "        boomerangs = 0\n",
    "        for p1 in points:\n",
    "            distance_counts = {}\n",
    "            for p2 in points:\n",
    "                if p1 != p2:\n",
    "                    dist = distance(p1, p2)\n",
    "                    distance_counts[dist] = distance_counts.get(dist, 0) + 1\n",
    "            for dist_count in distance_counts.values():\n",
    "                boomerangs += dist_count * (dist_count - 1)  # Choose 2 from dist_count\n",
    "        return boomerangs\n",
    "        "
   ]
  }
 ],
 "metadata": {
  "kernelspec": {
   "display_name": "Python 3 (ipykernel)",
   "language": "python",
   "name": "python3"
  },
  "language_info": {
   "codemirror_mode": {
    "name": "ipython",
    "version": 3
   },
   "file_extension": ".py",
   "mimetype": "text/x-python",
   "name": "python",
   "nbconvert_exporter": "python",
   "pygments_lexer": "ipython3",
   "version": "3.9.12"
  }
 },
 "nbformat": 4,
 "nbformat_minor": 5
}
