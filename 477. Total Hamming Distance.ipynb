{
 "cells": [
  {
   "cell_type": "code",
   "execution_count": null,
   "id": "dd208f58",
   "metadata": {},
   "outputs": [],
   "source": [
    "class Solution(object):\n",
    "    def totalHammingDistance(self, nums):\n",
    "        \"\"\"\n",
    "        :type nums: List[int]\n",
    "        :rtype: int\n",
    "        \"\"\"\n",
    "        total_distance = 0\n",
    "        n = len(nums)\n",
    "        \n",
    "        # Iterate through each bit position (32 bits for integers)\n",
    "        for i in range(32):\n",
    "            count_ones = 0\n",
    "            # Count the number of integers in nums with a 1 at bit position i\n",
    "            for num in nums:\n",
    "                count_ones += (num >> i) & 1\n",
    "            \n",
    "            # Total Hamming distance at bit position i is count_ones * (n - count_ones)\n",
    "            total_distance += count_ones * (n - count_ones)\n",
    "        \n",
    "        return total_distance\n",
    "        "
   ]
  }
 ],
 "metadata": {
  "kernelspec": {
   "display_name": "Python 3 (ipykernel)",
   "language": "python",
   "name": "python3"
  },
  "language_info": {
   "codemirror_mode": {
    "name": "ipython",
    "version": 3
   },
   "file_extension": ".py",
   "mimetype": "text/x-python",
   "name": "python",
   "nbconvert_exporter": "python",
   "pygments_lexer": "ipython3",
   "version": "3.9.12"
  }
 },
 "nbformat": 4,
 "nbformat_minor": 5
}
