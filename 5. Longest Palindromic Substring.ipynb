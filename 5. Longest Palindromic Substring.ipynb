{
 "cells": [
  {
   "cell_type": "code",
   "execution_count": null,
   "id": "8f83ec2a-ebd6-4aa6-80c3-3c310028cb98",
   "metadata": {},
   "outputs": [],
   "source": [
    "class Solution(object):\n",
    "    def longestPalindrome(self, s):\n",
    "        \"\"\"\n",
    "        :type s: str\n",
    "        :rtype: str\n",
    "        \"\"\"\n",
    "        if len(s) <= 1:\n",
    "            return s\n",
    "        \n",
    "        n = len(s)\n",
    "        dp = [[False] * n for _ in range(n)]\n",
    "        start, max_len = 0, 1\n",
    "        \n",
    "        # All substrings of length 1 are palindromes\n",
    "        for i in range(n):\n",
    "            dp[i][i] = True\n",
    "            \n",
    "        # Check substrings of length 2\n",
    "        for i in range(n - 1):\n",
    "            if s[i] == s[i + 1]:\n",
    "                dp[i][i + 1] = True\n",
    "                start = i\n",
    "                max_len = 2\n",
    "        \n",
    "        # Check substrings of length >= 3\n",
    "        for l in range(3, n + 1):\n",
    "            for i in range(n - l + 1):\n",
    "                j = i + l - 1\n",
    "                if s[i] == s[j] and dp[i + 1][j - 1]:\n",
    "                    dp[i][j] = True\n",
    "                    if l > max_len:\n",
    "                        start = i\n",
    "                        max_len = l\n",
    "                        \n",
    "        return s[start:start + max_len]        "
   ]
  }
 ],
 "metadata": {
  "kernelspec": {
   "display_name": "Python 3 (ipykernel)",
   "language": "python",
   "name": "python3"
  },
  "language_info": {
   "codemirror_mode": {
    "name": "ipython",
    "version": 3
   },
   "file_extension": ".py",
   "mimetype": "text/x-python",
   "name": "python",
   "nbconvert_exporter": "python",
   "pygments_lexer": "ipython3",
   "version": "3.12.4"
  }
 },
 "nbformat": 4,
 "nbformat_minor": 5
}
