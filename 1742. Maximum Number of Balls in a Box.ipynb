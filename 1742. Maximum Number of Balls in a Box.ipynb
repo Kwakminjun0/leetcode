{
 "cells": [
  {
   "cell_type": "code",
   "execution_count": null,
   "id": "331b6833",
   "metadata": {},
   "outputs": [],
   "source": [
    "class Solution(object):\n",
    "    def countBalls(self, lowLimit, highLimit):\n",
    "        \"\"\"\n",
    "        :type lowLimit: int\n",
    "        :type highLimit: int\n",
    "        :rtype: int\n",
    "        \"\"\"\n",
    "        # Dictionary to store the count of balls in each box\n",
    "        box_counts = {}\n",
    "        \n",
    "        # Iterate through the range of ball numbers\n",
    "        for num in range(lowLimit, highLimit + 1):\n",
    "            box_num = sum(int(digit) for digit in str(num))  # Calculate the sum of digits\n",
    "            box_counts[box_num] = box_counts.get(box_num, 0) + 1  # Increment the count of balls in the box\n",
    "            \n",
    "        # Return the maximum count of balls in any box\n",
    "        return max(box_counts.values())"
   ]
  }
 ],
 "metadata": {
  "kernelspec": {
   "display_name": "Python 3 (ipykernel)",
   "language": "python",
   "name": "python3"
  },
  "language_info": {
   "codemirror_mode": {
    "name": "ipython",
    "version": 3
   },
   "file_extension": ".py",
   "mimetype": "text/x-python",
   "name": "python",
   "nbconvert_exporter": "python",
   "pygments_lexer": "ipython3",
   "version": "3.9.12"
  }
 },
 "nbformat": 4,
 "nbformat_minor": 5
}
