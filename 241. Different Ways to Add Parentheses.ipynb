{
 "cells": [
  {
   "cell_type": "code",
   "execution_count": null,
   "id": "2b3d3aa1",
   "metadata": {},
   "outputs": [],
   "source": [
    "class Solution(object):\n",
    "    def diffWaysToCompute(self, expression):\n",
    "        \"\"\"\n",
    "        :type expression: str\n",
    "        :rtype: List[int]\n",
    "        \"\"\"\n",
    "        memo = {}\n",
    "\n",
    "        def compute(left, right, op):\n",
    "            res = []\n",
    "            for l in left:\n",
    "                for r in right:\n",
    "                    if op == '+':\n",
    "                        res.append(l + r)\n",
    "                    elif op == '-':\n",
    "                        res.append(l - r)\n",
    "                    elif op == '*':\n",
    "                        res.append(l * r)\n",
    "            return res\n",
    "\n",
    "        def dfs(start, end):\n",
    "            if (start, end) in memo:\n",
    "                return memo[(start, end)]\n",
    "\n",
    "            res = []\n",
    "            for i in range(start, end):\n",
    "                if expression[i] in {'+', '-', '*'}:\n",
    "                    left = dfs(start, i)\n",
    "                    right = dfs(i + 1, end)\n",
    "                    res.extend(compute(left, right, expression[i]))\n",
    "\n",
    "            if not res:  # If expression is a single number\n",
    "                res.append(int(expression[start:end]))\n",
    "\n",
    "            memo[(start, end)] = res\n",
    "            return res\n",
    "\n",
    "        return dfs(0, len(expression))\n",
    "        "
   ]
  }
 ],
 "metadata": {
  "kernelspec": {
   "display_name": "Python 3 (ipykernel)",
   "language": "python",
   "name": "python3"
  },
  "language_info": {
   "codemirror_mode": {
    "name": "ipython",
    "version": 3
   },
   "file_extension": ".py",
   "mimetype": "text/x-python",
   "name": "python",
   "nbconvert_exporter": "python",
   "pygments_lexer": "ipython3",
   "version": "3.9.12"
  }
 },
 "nbformat": 4,
 "nbformat_minor": 5
}
