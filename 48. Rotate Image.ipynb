{
 "cells": [
  {
   "cell_type": "code",
   "execution_count": null,
   "id": "c2bd1b13",
   "metadata": {},
   "outputs": [],
   "source": [
    "class Solution(object):\n",
    "    def rotate(self, matrix):\n",
    "        \"\"\"\n",
    "        :type matrix: List[List[int]]\n",
    "        :rtype: None Do not return anything, modify matrix in-place instead.\n",
    "        \"\"\"\n",
    "        n = len(matrix)\n",
    "        \n",
    "        # Step 1: Transpose the matrix\n",
    "        for i in range(n):\n",
    "            for j in range(i, n):\n",
    "                matrix[i][j], matrix[j][i] = matrix[j][i], matrix[i][j]\n",
    "        \n",
    "        # Step 2: Reverse each row\n",
    "        for i in range(n):\n",
    "            matrix[i].reverse()\n",
    "\n",
    "# Test cases\n",
    "solution = Solution()\n",
    "matrix1 = [[1,2,3], [4,5,6], [7,8,9]]\n",
    "solution.rotate(matrix1)\n",
    "print(matrix1)  # Output: [[7,4,1],[8,5,2],[9,6,3]]\n",
    "\n",
    "matrix2 = [[5,1,9,11], [2,4,8,10], [13,3,6,7], [15,14,12,16]]\n",
    "solution.rotate(matrix2)\n",
    "print(matrix2)  # Output: [[15,13,2,5],[14,3,4,1],[12,6,8,9],[16,7,10,11]]\n",
    "        "
   ]
  }
 ],
 "metadata": {
  "kernelspec": {
   "display_name": "Python 3 (ipykernel)",
   "language": "python",
   "name": "python3"
  },
  "language_info": {
   "codemirror_mode": {
    "name": "ipython",
    "version": 3
   },
   "file_extension": ".py",
   "mimetype": "text/x-python",
   "name": "python",
   "nbconvert_exporter": "python",
   "pygments_lexer": "ipython3",
   "version": "3.9.12"
  }
 },
 "nbformat": 4,
 "nbformat_minor": 5
}
