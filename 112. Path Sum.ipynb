{
 "cells": [
  {
   "cell_type": "code",
   "execution_count": null,
   "id": "237fec39-d1ec-490c-bc4e-890bfc20e7db",
   "metadata": {},
   "outputs": [],
   "source": [
    "class Solution(object):\n",
    "    def hasPathSum(self, root, targetSum):\n",
    "        if not root:\n",
    "            return False\n",
    "        \n",
    "        return pathSum(root, 0, targetSum)\n",
    "\n",
    "def pathSum(node, sum, target):\n",
    "    if not node.left and not node.right:\n",
    "        return node.val + sum == target\n",
    "    \n",
    "    if not node.right:\n",
    "        return pathSum(node.left, sum + node.val, target)\n",
    "    if not node.left:\n",
    "        return pathSum(node.right, sum + node.val, target)\n",
    "        \n",
    "    \n",
    "    return pathSum(node.left, sum + node.val, target) or pathSum(node.right, sum + node.val, target)"
   ]
  }
 ],
 "metadata": {
  "kernelspec": {
   "display_name": "Python 3 (ipykernel)",
   "language": "python",
   "name": "python3"
  },
  "language_info": {
   "codemirror_mode": {
    "name": "ipython",
    "version": 3
   },
   "file_extension": ".py",
   "mimetype": "text/x-python",
   "name": "python",
   "nbconvert_exporter": "python",
   "pygments_lexer": "ipython3",
   "version": "3.12.4"
  }
 },
 "nbformat": 4,
 "nbformat_minor": 5
}
