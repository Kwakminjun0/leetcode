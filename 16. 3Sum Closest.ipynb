{
 "cells": [
  {
   "cell_type": "code",
   "execution_count": null,
   "id": "399152d8-605c-44f2-86f6-6ac381858a57",
   "metadata": {},
   "outputs": [],
   "source": [
    "class Solution:\n",
    "    def threeSumClosest(self, nums, target):\n",
    "        nums.sort()  # Sort the array\n",
    "        closest_sum = float('inf')  # Initialize with a very large value\n",
    "\n",
    "        for i in range(len(nums) - 2):\n",
    "            left, right = i + 1, len(nums) - 1\n",
    "\n",
    "            while left < right:\n",
    "                current_sum = nums[i] + nums[left] + nums[right]\n",
    "\n",
    "                # Update closest_sum if the current sum is closer to the target\n",
    "                if abs(current_sum - target) < abs(closest_sum - target):\n",
    "                    closest_sum = current_sum\n",
    "\n",
    "                # Move pointers based on the comparison with the target\n",
    "                if current_sum < target:\n",
    "                    left += 1\n",
    "                elif current_sum > target:\n",
    "                    right -= 1\n",
    "                else:\n",
    "                    # Exact match\n",
    "                    return current_sum\n",
    "\n",
    "        return closest_sum\n",
    "        "
   ]
  }
 ],
 "metadata": {
  "kernelspec": {
   "display_name": "Python 3 (ipykernel)",
   "language": "python",
   "name": "python3"
  },
  "language_info": {
   "codemirror_mode": {
    "name": "ipython",
    "version": 3
   },
   "file_extension": ".py",
   "mimetype": "text/x-python",
   "name": "python",
   "nbconvert_exporter": "python",
   "pygments_lexer": "ipython3",
   "version": "3.12.4"
  }
 },
 "nbformat": 4,
 "nbformat_minor": 5
}
