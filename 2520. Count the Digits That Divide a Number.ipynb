{
 "cells": [
  {
   "cell_type": "code",
   "execution_count": null,
   "id": "e2ff9bdb",
   "metadata": {},
   "outputs": [],
   "source": [
    "class Solution(object):\n",
    "    def countDigits(self, num):\n",
    "        \"\"\"\n",
    "        :type num: int\n",
    "        :rtype: int\n",
    "        \"\"\"\n",
    "        count = 0\n",
    "        for digit_str in str(num):\n",
    "            digit = int(digit_str)\n",
    "            if digit != 0 and num % digit == 0:\n",
    "                count += 1\n",
    "        return count\n",
    "\n",
    "        "
   ]
  }
 ],
 "metadata": {
  "kernelspec": {
   "display_name": "Python 3 (ipykernel)",
   "language": "python",
   "name": "python3"
  },
  "language_info": {
   "codemirror_mode": {
    "name": "ipython",
    "version": 3
   },
   "file_extension": ".py",
   "mimetype": "text/x-python",
   "name": "python",
   "nbconvert_exporter": "python",
   "pygments_lexer": "ipython3",
   "version": "3.9.12"
  }
 },
 "nbformat": 4,
 "nbformat_minor": 5
}
