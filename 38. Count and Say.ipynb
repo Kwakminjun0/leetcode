{
 "cells": [
  {
   "cell_type": "code",
   "execution_count": null,
   "id": "24d1e9fd-a683-499c-a90e-3848166a4e05",
   "metadata": {},
   "outputs": [],
   "source": [
    "class Solution(object):\n",
    "    def countAndSay(self, n):\n",
    "        s = '1'\n",
    "        for _ in range(n-1):\n",
    "            let, temp, count = s[0], '', 0\n",
    "            for l in s:\n",
    "                if let == l:\n",
    "                    count += 1\n",
    "                else:\n",
    "                    temp += str(count)+let\n",
    "                    let = l\n",
    "                    count = 1\n",
    "            temp += str(count)+let\n",
    "            s = temp\n",
    "        return s"
   ]
  }
 ],
 "metadata": {
  "kernelspec": {
   "display_name": "Python 3 (ipykernel)",
   "language": "python",
   "name": "python3"
  },
  "language_info": {
   "codemirror_mode": {
    "name": "ipython",
    "version": 3
   },
   "file_extension": ".py",
   "mimetype": "text/x-python",
   "name": "python",
   "nbconvert_exporter": "python",
   "pygments_lexer": "ipython3",
   "version": "3.12.4"
  }
 },
 "nbformat": 4,
 "nbformat_minor": 5
}
