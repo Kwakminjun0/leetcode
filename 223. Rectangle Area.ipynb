{
 "cells": [
  {
   "cell_type": "code",
   "execution_count": null,
   "id": "f7220118",
   "metadata": {},
   "outputs": [],
   "source": [
    "class Solution(object):\n",
    "    def computeArea(self, ax1, ay1, ax2, ay2, bx1, by1, bx2, by2):\n",
    "        \"\"\"\n",
    "        :type ax1: int\n",
    "        :type ay1: int\n",
    "        :type ax2: int\n",
    "        :type ay2: int\n",
    "        :type bx1: int\n",
    "        :type by1: int\n",
    "        :type bx2: int\n",
    "        :type by2: int\n",
    "        :rtype: int\n",
    "        \"\"\"\n",
    "        area1 = (ax2 - ax1) * (ay2 - ay1)\n",
    "        area2 = (bx2 - bx1) * (by2 - by1)\n",
    "        \n",
    "        cx1 = max(ax1, bx1)\n",
    "        cy1 = max(ay1, by1)\n",
    "        cx2 = min(ax2, bx2)\n",
    "        cy2 = min(ay2, by2)\n",
    "        \n",
    "        overlap_area = max(cx2 - cx1, 0) * max(cy2 - cy1, 0)\n",
    "        \n",
    "        return area1 + area2 - overlap_area"
   ]
  }
 ],
 "metadata": {
  "kernelspec": {
   "display_name": "Python 3 (ipykernel)",
   "language": "python",
   "name": "python3"
  },
  "language_info": {
   "codemirror_mode": {
    "name": "ipython",
    "version": 3
   },
   "file_extension": ".py",
   "mimetype": "text/x-python",
   "name": "python",
   "nbconvert_exporter": "python",
   "pygments_lexer": "ipython3",
   "version": "3.9.12"
  }
 },
 "nbformat": 4,
 "nbformat_minor": 5
}
