{
 "cells": [
  {
   "cell_type": "code",
   "execution_count": null,
   "id": "7f0e16e9",
   "metadata": {},
   "outputs": [],
   "source": [
    "class Solution(object):\n",
    "    def isUgly(self, n):\n",
    "        \"\"\"\n",
    "        :type n: int\n",
    "        :rtype: bool\n",
    "        \"\"\"\n",
    "        if n <= 0:\n",
    "            return False\n",
    "        for prime in [2, 3, 5]:\n",
    "            while n % prime == 0:\n",
    "                n //= prime\n",
    "        return n == 1\n",
    "        "
   ]
  }
 ],
 "metadata": {
  "kernelspec": {
   "display_name": "Python 3 (ipykernel)",
   "language": "python",
   "name": "python3"
  },
  "language_info": {
   "codemirror_mode": {
    "name": "ipython",
    "version": 3
   },
   "file_extension": ".py",
   "mimetype": "text/x-python",
   "name": "python",
   "nbconvert_exporter": "python",
   "pygments_lexer": "ipython3",
   "version": "3.9.12"
  }
 },
 "nbformat": 4,
 "nbformat_minor": 5
}
