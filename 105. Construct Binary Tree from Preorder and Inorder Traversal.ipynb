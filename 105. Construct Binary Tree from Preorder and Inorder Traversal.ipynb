{
 "cells": [
  {
   "cell_type": "code",
   "execution_count": null,
   "id": "f9b2ce09-8be1-4006-8b95-9400d737d098",
   "metadata": {},
   "outputs": [],
   "source": [
    "class Solution:\n",
    "    def buildTree(self, preorder, inorder):\n",
    "        if inorder:\n",
    "            INDEX = inorder.index(preorder.pop(0))\n",
    "            root = TreeNode(inorder[INDEX])\n",
    "            root.left = self.buildTree(preorder, inorder[:INDEX])\n",
    "            root.right = self.buildTree(preorder, inorder[INDEX+1:])\n",
    "\t\t\t\n",
    "            return root"
   ]
  }
 ],
 "metadata": {
  "kernelspec": {
   "display_name": "Python 3 (ipykernel)",
   "language": "python",
   "name": "python3"
  },
  "language_info": {
   "codemirror_mode": {
    "name": "ipython",
    "version": 3
   },
   "file_extension": ".py",
   "mimetype": "text/x-python",
   "name": "python",
   "nbconvert_exporter": "python",
   "pygments_lexer": "ipython3",
   "version": "3.12.4"
  }
 },
 "nbformat": 4,
 "nbformat_minor": 5
}
