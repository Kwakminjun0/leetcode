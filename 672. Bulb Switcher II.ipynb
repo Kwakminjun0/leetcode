{
 "cells": [
  {
   "cell_type": "code",
   "execution_count": null,
   "id": "2a5be2d1",
   "metadata": {},
   "outputs": [],
   "source": [
    "class Solution(object):\n",
    "    def flipLights(self, n, m) :\n",
    "        \"\"\"\n",
    "        :type n: int\n",
    "        :type presses: int\n",
    "        :rtype: int\n",
    "        \"\"\"\n",
    "        if(m==0): return 1;\n",
    "        if(n==1): return 2;\n",
    "        if(n==2 and m==1): return 3;\n",
    "        if(n==2): return 4;\n",
    "        if(m==1): return 4;\n",
    "        if(m==2): return 7;\n",
    "        if(m>=3): return 8;\n",
    "        return 8;"
   ]
  }
 ],
 "metadata": {
  "kernelspec": {
   "display_name": "Python 3 (ipykernel)",
   "language": "python",
   "name": "python3"
  },
  "language_info": {
   "codemirror_mode": {
    "name": "ipython",
    "version": 3
   },
   "file_extension": ".py",
   "mimetype": "text/x-python",
   "name": "python",
   "nbconvert_exporter": "python",
   "pygments_lexer": "ipython3",
   "version": "3.9.12"
  }
 },
 "nbformat": 4,
 "nbformat_minor": 5
}
