{
 "cells": [
  {
   "cell_type": "code",
   "execution_count": null,
   "id": "e257035d",
   "metadata": {},
   "outputs": [],
   "source": [
    "class Solution(object):\n",
    "    def distributeCandies(self, candies, num_people):\n",
    "        \"\"\"\n",
    "        :type candies: int\n",
    "        :type num_people: int\n",
    "        :rtype: List[int]\n",
    "        \"\"\"\n",
    "        result = [0] * num_people\n",
    "        candy_count = 1\n",
    "        index = 0\n",
    "        \n",
    "        while candies > 0:\n",
    "            result[index % num_people] += min(candies, candy_count)\n",
    "            candies -= candy_count\n",
    "            candy_count += 1\n",
    "            index += 1\n",
    "        \n",
    "        return result"
   ]
  }
 ],
 "metadata": {
  "kernelspec": {
   "display_name": "Python 3 (ipykernel)",
   "language": "python",
   "name": "python3"
  },
  "language_info": {
   "codemirror_mode": {
    "name": "ipython",
    "version": 3
   },
   "file_extension": ".py",
   "mimetype": "text/x-python",
   "name": "python",
   "nbconvert_exporter": "python",
   "pygments_lexer": "ipython3",
   "version": "3.9.12"
  }
 },
 "nbformat": 4,
 "nbformat_minor": 5
}
