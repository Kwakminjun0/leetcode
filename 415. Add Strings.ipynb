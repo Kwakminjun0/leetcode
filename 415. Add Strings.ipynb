{
 "cells": [
  {
   "cell_type": "code",
   "execution_count": null,
   "id": "290fb609",
   "metadata": {},
   "outputs": [],
   "source": [
    "class Solution(object):\n",
    "    def addStrings(self, num1, num2):\n",
    "        \"\"\"\n",
    "        :type num1: str\n",
    "        :type num2: str\n",
    "        :rtype: str\n",
    "        \"\"\"\n",
    "        i, j = len(num1) - 1, len(num2) - 1\n",
    "        carry = 0\n",
    "        result = []\n",
    "\n",
    "        while i >= 0 or j >= 0 or carry:\n",
    "            digit1 = int(num1[i]) if i >= 0 else 0\n",
    "            digit2 = int(num2[j]) if j >= 0 else 0\n",
    "            total = digit1 + digit2 + carry\n",
    "            carry = total // 10\n",
    "            result.append(str(total % 10))\n",
    "            i -= 1\n",
    "            j -= 1\n",
    "\n",
    "        return ''.join(result[::-1])"
   ]
  }
 ],
 "metadata": {
  "kernelspec": {
   "display_name": "Python 3 (ipykernel)",
   "language": "python",
   "name": "python3"
  },
  "language_info": {
   "codemirror_mode": {
    "name": "ipython",
    "version": 3
   },
   "file_extension": ".py",
   "mimetype": "text/x-python",
   "name": "python",
   "nbconvert_exporter": "python",
   "pygments_lexer": "ipython3",
   "version": "3.9.12"
  }
 },
 "nbformat": 4,
 "nbformat_minor": 5
}
