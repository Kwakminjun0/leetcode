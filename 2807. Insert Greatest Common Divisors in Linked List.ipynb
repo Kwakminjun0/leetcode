{
 "cells": [
  {
   "cell_type": "code",
   "execution_count": null,
   "id": "d42332b3",
   "metadata": {},
   "outputs": [],
   "source": [
    "class Solution(object):\n",
    "    def insertGreatestCommonDivisors(self, head):\n",
    "        \"\"\"\n",
    "        :type head: Optional[ListNode]\n",
    "        :rtype: Optional[ListNode]\n",
    "        \"\"\"\n",
    "        def divisor(a,b):\n",
    "            while a!=0 and b!=0:\n",
    "                if a>b:\n",
    "                    a = a%b\n",
    "                else:\n",
    "                    b = b%a\n",
    "            return a+b\n",
    "\n",
    "        curr = head\n",
    "        while curr.next != None:\n",
    "            div = divisor(curr.val, curr.next.val)\n",
    "            new = ListNode(val = div, next = curr.next)\n",
    "            curr.next = new\n",
    "            curr = curr.next.next\n",
    "        return head"
   ]
  }
 ],
 "metadata": {
  "kernelspec": {
   "display_name": "Python 3 (ipykernel)",
   "language": "python",
   "name": "python3"
  },
  "language_info": {
   "codemirror_mode": {
    "name": "ipython",
    "version": 3
   },
   "file_extension": ".py",
   "mimetype": "text/x-python",
   "name": "python",
   "nbconvert_exporter": "python",
   "pygments_lexer": "ipython3",
   "version": "3.9.12"
  }
 },
 "nbformat": 4,
 "nbformat_minor": 5
}
