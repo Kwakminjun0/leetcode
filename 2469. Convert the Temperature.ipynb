{
 "cells": [
  {
   "cell_type": "code",
   "execution_count": null,
   "id": "bc5ec7d6",
   "metadata": {},
   "outputs": [],
   "source": [
    "class Solution(object):\n",
    "    def convertTemperature(self, celsius):\n",
    "        \"\"\"\n",
    "        :type celsius: float\n",
    "        :rtype: List[float]\n",
    "        \"\"\"\n",
    "        kelvin = celsius + 273.15\n",
    "        fahrenheit = celsius * 1.80 + 32.00\n",
    "        return [kelvin, fahrenheit]"
   ]
  }
 ],
 "metadata": {
  "kernelspec": {
   "display_name": "Python 3 (ipykernel)",
   "language": "python",
   "name": "python3"
  },
  "language_info": {
   "codemirror_mode": {
    "name": "ipython",
    "version": 3
   },
   "file_extension": ".py",
   "mimetype": "text/x-python",
   "name": "python",
   "nbconvert_exporter": "python",
   "pygments_lexer": "ipython3",
   "version": "3.9.12"
  }
 },
 "nbformat": 4,
 "nbformat_minor": 5
}
