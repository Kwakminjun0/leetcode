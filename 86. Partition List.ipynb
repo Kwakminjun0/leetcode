{
 "cells": [
  {
   "cell_type": "code",
   "execution_count": null,
   "id": "1fc52c23-8dd2-48cf-a46f-9d32cf8e866c",
   "metadata": {},
   "outputs": [],
   "source": [
    "class Solution(object):\n",
    "    def partition(self, head, x):\n",
    "        \"\"\"\n",
    "        :type head: ListNode\n",
    "        :type x: int\n",
    "        :rtype: ListNode\n",
    "        \"\"\"\n",
    "        greater_than_x_head=ListNode()\n",
    "        greater_than_x_tail=greater_than_x_head\n",
    "        less_than_x_head=ListNode()\n",
    "        less_than_x_tail=less_than_x_head\n",
    "\n",
    "        current=head\n",
    "        while current:\n",
    "            if current.val<x:\n",
    "                less_than_x_tail.next=current\n",
    "                less_than_x_tail= less_than_x_tail.next\n",
    "            else:\n",
    "                greater_than_x_tail.next=current\n",
    "                greater_than_x_tail=greater_than_x_tail.next\n",
    "            current=current.next\n",
    "        greater_than_x_tail.next=None\n",
    "        less_than_x_tail.next=greater_than_x_head.next\n",
    "        return less_than_x_head.next\n",
    "\n",
    "        "
   ]
  }
 ],
 "metadata": {
  "kernelspec": {
   "display_name": "Python 3 (ipykernel)",
   "language": "python",
   "name": "python3"
  },
  "language_info": {
   "codemirror_mode": {
    "name": "ipython",
    "version": 3
   },
   "file_extension": ".py",
   "mimetype": "text/x-python",
   "name": "python",
   "nbconvert_exporter": "python",
   "pygments_lexer": "ipython3",
   "version": "3.12.4"
  }
 },
 "nbformat": 4,
 "nbformat_minor": 5
}
