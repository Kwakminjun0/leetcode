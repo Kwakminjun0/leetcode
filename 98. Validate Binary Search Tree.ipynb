{
 "cells": [
  {
   "cell_type": "code",
   "execution_count": null,
   "id": "a33b2cd6-cf80-4d4d-a19c-956843d517a4",
   "metadata": {},
   "outputs": [],
   "source": [
    "class Solution:\n",
    "    def __init__(self):\n",
    "        self.prev = float('-inf')\n",
    "        self.isValid = True\n",
    "\n",
    "    def inorder(self, root):\n",
    "        if not self.isValid or not root:\n",
    "            return\n",
    "\n",
    "        self.inorder(root.left)\n",
    "\n",
    "        if self.prev >= root.val:\n",
    "            self.isValid = False\n",
    "            return\n",
    "        self.prev = root.val\n",
    "\n",
    "        self.inorder(root.right)\n",
    "\n",
    "    def isValidBST(self, root):\n",
    "        self.prev = float('-inf')  # Reset prev for each call\n",
    "        self.isValid = True  # Reset isValid for each call\n",
    "        self.inorder(root)\n",
    "        return self.isValid\n",
    "        "
   ]
  }
 ],
 "metadata": {
  "kernelspec": {
   "display_name": "Python 3 (ipykernel)",
   "language": "python",
   "name": "python3"
  },
  "language_info": {
   "codemirror_mode": {
    "name": "ipython",
    "version": 3
   },
   "file_extension": ".py",
   "mimetype": "text/x-python",
   "name": "python",
   "nbconvert_exporter": "python",
   "pygments_lexer": "ipython3",
   "version": "3.12.4"
  }
 },
 "nbformat": 4,
 "nbformat_minor": 5
}
