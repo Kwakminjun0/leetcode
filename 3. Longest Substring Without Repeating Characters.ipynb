{
 "cells": [
  {
   "cell_type": "code",
   "execution_count": null,
   "id": "5e0690a9-2ae8-4157-8838-45c3cc1f0a2d",
   "metadata": {},
   "outputs": [],
   "source": [
    "class Solution(object):\n",
    "    def lengthOfLongestSubstring(self, s):\n",
    "        \"\"\"\n",
    "        :type s: str\n",
    "        :rtype: int\n",
    "        \"\"\"\n",
    "        char_set = set()\n",
    "        left = 0\n",
    "        max_length = 0\n",
    "        \n",
    "        for right in range(len(s)):\n",
    "            while s[right] in char_set:\n",
    "                char_set.remove(s[left])\n",
    "                left += 1\n",
    "            char_set.add(s[right])\n",
    "            max_length = max(max_length, right - left + 1)\n",
    "        \n",
    "        return max_length\n",
    "        "
   ]
  }
 ],
 "metadata": {
  "kernelspec": {
   "display_name": "Python 3 (ipykernel)",
   "language": "python",
   "name": "python3"
  },
  "language_info": {
   "codemirror_mode": {
    "name": "ipython",
    "version": 3
   },
   "file_extension": ".py",
   "mimetype": "text/x-python",
   "name": "python",
   "nbconvert_exporter": "python",
   "pygments_lexer": "ipython3",
   "version": "3.12.4"
  }
 },
 "nbformat": 4,
 "nbformat_minor": 5
}
