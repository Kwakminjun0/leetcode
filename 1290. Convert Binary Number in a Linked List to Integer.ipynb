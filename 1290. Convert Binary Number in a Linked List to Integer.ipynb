{
 "cells": [
  {
   "cell_type": "code",
   "execution_count": null,
   "id": "2ea35955",
   "metadata": {},
   "outputs": [],
   "source": [
    "class Solution(object):\n",
    "    def getDecimalValue(self, head):\n",
    "        # Step 1: Find the length of the linked list\n",
    "        length = 0\n",
    "        current = head\n",
    "        while current:\n",
    "            length += 1\n",
    "            current = current.next\n",
    "        \n",
    "        # Step 2: Traverse the linked list again to calculate the decimal value\n",
    "        decimal_value = 0\n",
    "        current = head\n",
    "        while current:\n",
    "            decimal_value += current.val * (2 ** (length - 1))\n",
    "            length -= 1\n",
    "            current = current.next\n",
    "        \n",
    "        return decimal_value\n",
    "        "
   ]
  }
 ],
 "metadata": {
  "kernelspec": {
   "display_name": "Python 3 (ipykernel)",
   "language": "python",
   "name": "python3"
  },
  "language_info": {
   "codemirror_mode": {
    "name": "ipython",
    "version": 3
   },
   "file_extension": ".py",
   "mimetype": "text/x-python",
   "name": "python",
   "nbconvert_exporter": "python",
   "pygments_lexer": "ipython3",
   "version": "3.9.12"
  }
 },
 "nbformat": 4,
 "nbformat_minor": 5
}
