{
 "cells": [
  {
   "cell_type": "code",
   "execution_count": null,
   "id": "bd30cbca",
   "metadata": {},
   "outputs": [],
   "source": [
    "class Solution(object):\n",
    "    def minAreaRect(self, points):\n",
    "        \"\"\"\n",
    "        :type points: List[List[int]]\n",
    "        :rtype: int\n",
    "        \"\"\"\n",
    "        point_set = set((x, y) for x, y in points)\n",
    "        min_area = float('inf')\n",
    "\n",
    "        for i in range(len(points)):\n",
    "            x1, y1 = points[i]\n",
    "            for j in range(i + 1, len(points)):\n",
    "                x2, y2 = points[j]\n",
    "                if x1 != x2 and y1 != y2:\n",
    "                    if (x1, y2) in point_set and (x2, y1) in point_set:\n",
    "                        area = abs(x1 - x2) * abs(y1 - y2)\n",
    "                        min_area = min(min_area, area)\n",
    "\n",
    "        return min_area if min_area != float('inf') else 0"
   ]
  }
 ],
 "metadata": {
  "kernelspec": {
   "display_name": "Python 3 (ipykernel)",
   "language": "python",
   "name": "python3"
  },
  "language_info": {
   "codemirror_mode": {
    "name": "ipython",
    "version": 3
   },
   "file_extension": ".py",
   "mimetype": "text/x-python",
   "name": "python",
   "nbconvert_exporter": "python",
   "pygments_lexer": "ipython3",
   "version": "3.9.12"
  }
 },
 "nbformat": 4,
 "nbformat_minor": 5
}
