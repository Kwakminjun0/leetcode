{
 "cells": [
  {
   "cell_type": "code",
   "execution_count": null,
   "id": "cd0a494f",
   "metadata": {},
   "outputs": [],
   "source": [
    "class Solution(object):\n",
    "    def minimumSum(self, num):\n",
    "        \"\"\"\n",
    "        :type num: int\n",
    "        :rtype: int\n",
    "        \"\"\"\n",
    "         # Extract digits from the number and sort them\n",
    "        digits = sorted([int(digit) for digit in str(num)])\n",
    "        \n",
    "        # Form two numbers from the sorted digits\n",
    "        new1 = digits[0] * 10 + digits[2]\n",
    "        new2 = digits[1] * 10 + digits[3]\n",
    "        \n",
    "        # Return the sum of the two numbers\n",
    "        return new1 + new2\n",
    "        "
   ]
  }
 ],
 "metadata": {
  "kernelspec": {
   "display_name": "Python 3 (ipykernel)",
   "language": "python",
   "name": "python3"
  },
  "language_info": {
   "codemirror_mode": {
    "name": "ipython",
    "version": 3
   },
   "file_extension": ".py",
   "mimetype": "text/x-python",
   "name": "python",
   "nbconvert_exporter": "python",
   "pygments_lexer": "ipython3",
   "version": "3.9.12"
  }
 },
 "nbformat": 4,
 "nbformat_minor": 5
}
