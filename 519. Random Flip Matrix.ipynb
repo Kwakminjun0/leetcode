{
 "cells": [
  {
   "cell_type": "code",
   "execution_count": null,
   "id": "e0229e67",
   "metadata": {},
   "outputs": [],
   "source": [
    "import random\n",
    "\n",
    "class Solution:\n",
    "\n",
    "    def __init__(self, m, n):\n",
    "        \"\"\"\n",
    "        :type m: int\n",
    "        :type n: int\n",
    "        \"\"\"\n",
    "        self.m = m\n",
    "        self.n = n\n",
    "        self.total = m * n\n",
    "        self.flipped = {}\n",
    "        self.available = self.total\n",
    "\n",
    "    def flip(self):\n",
    "        \"\"\"\n",
    "        :rtype: List[int]\n",
    "        \"\"\"\n",
    "        if self.available == 0:\n",
    "            raise Exception(\"No more zeros to flip.\")\n",
    "        \n",
    "        # Pick a random index in the range of available positions\n",
    "        rand_idx = random.randint(0, self.available - 1)\n",
    "        \n",
    "        # Get the actual index to flip\n",
    "        actual_idx = self.flipped.get(rand_idx, rand_idx)\n",
    "        \n",
    "        # Decrease the available positions\n",
    "        self.available -= 1\n",
    "        \n",
    "        # Map the selected index to the last available position\n",
    "        self.flipped[rand_idx] = self.flipped.get(self.available, self.available)\n",
    "        \n",
    "        # Convert the actual index back to 2D coordinates\n",
    "        return [actual_idx // self.n, actual_idx % self.n]\n",
    "\n",
    "    def reset(self):\n",
    "        \"\"\"\n",
    "        :rtype: None\n",
    "        \"\"\"\n",
    "        self.flipped.clear()\n",
    "        self.available = self.total\n",
    "\n",
    "\n",
    "# Your Solution object will be instantiated and called as such:\n",
    "# obj = Solution(m, n)\n",
    "# param_1 = obj.flip()\n",
    "# obj.reset()"
   ]
  }
 ],
 "metadata": {
  "kernelspec": {
   "display_name": "Python 3 (ipykernel)",
   "language": "python",
   "name": "python3"
  },
  "language_info": {
   "codemirror_mode": {
    "name": "ipython",
    "version": 3
   },
   "file_extension": ".py",
   "mimetype": "text/x-python",
   "name": "python",
   "nbconvert_exporter": "python",
   "pygments_lexer": "ipython3",
   "version": "3.9.12"
  }
 },
 "nbformat": 4,
 "nbformat_minor": 5
}
