{
 "cells": [
  {
   "cell_type": "code",
   "execution_count": null,
   "id": "f89da22b",
   "metadata": {},
   "outputs": [],
   "source": [
    "class Solution(object):\n",
    "    def stoneGame(self, piles):\n",
    "        \"\"\"\n",
    "        :type piles: List[int]\n",
    "        :rtype: bool\n",
    "        \"\"\"\n",
    "        n = len(piles)\n",
    "        # Create a dp table initialized with 0s\n",
    "        dp = [[0] * n for _ in range(n)]\n",
    "        # Base case: When there's only one pile, the current player takes it\n",
    "        for i in range(n):\n",
    "            dp[i][i] = piles[i]\n",
    "        \n",
    "        # Fill the dp table\n",
    "        for length in range(2, n + 1):  # length ranges from 2 to n\n",
    "            for i in range(n - length + 1):\n",
    "                j = i + length - 1\n",
    "                dp[i][j] = max(piles[i] - dp[i + 1][j], piles[j] - dp[i][j - 1])\n",
    "        \n",
    "        # If the value of dp[0][n-1] is positive, Alice wins\n",
    "        return dp[0][n - 1] > 0"
   ]
  }
 ],
 "metadata": {
  "kernelspec": {
   "display_name": "Python 3 (ipykernel)",
   "language": "python",
   "name": "python3"
  },
  "language_info": {
   "codemirror_mode": {
    "name": "ipython",
    "version": 3
   },
   "file_extension": ".py",
   "mimetype": "text/x-python",
   "name": "python",
   "nbconvert_exporter": "python",
   "pygments_lexer": "ipython3",
   "version": "3.9.12"
  }
 },
 "nbformat": 4,
 "nbformat_minor": 5
}
