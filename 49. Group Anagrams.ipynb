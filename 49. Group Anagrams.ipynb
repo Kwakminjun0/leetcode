{
 "cells": [
  {
   "cell_type": "code",
   "execution_count": null,
   "id": "b5db1c52-54fa-455d-a659-920865643a7a",
   "metadata": {},
   "outputs": [],
   "source": [
    "class Solution(object):\n",
    "    def groupAnagrams(self, strs):\n",
    "        h = {}\n",
    "        for i in strs:\n",
    "            c = [0] * 26\n",
    "            for j in i:\n",
    "                c[ord(j) - ord(\"a\")] += 1\n",
    "            if tuple(c) not in h:\n",
    "                h[tuple(c)] = [i]\n",
    "            else:\n",
    "                h[tuple(c)].append(i)\n",
    "        return list(h.values())\n",
    "        "
   ]
  }
 ],
 "metadata": {
  "kernelspec": {
   "display_name": "Python 3 (ipykernel)",
   "language": "python",
   "name": "python3"
  },
  "language_info": {
   "codemirror_mode": {
    "name": "ipython",
    "version": 3
   },
   "file_extension": ".py",
   "mimetype": "text/x-python",
   "name": "python",
   "nbconvert_exporter": "python",
   "pygments_lexer": "ipython3",
   "version": "3.12.4"
  }
 },
 "nbformat": 4,
 "nbformat_minor": 5
}
