{
 "cells": [
  {
   "cell_type": "code",
   "execution_count": null,
   "id": "59d2e29b",
   "metadata": {},
   "outputs": [],
   "source": [
    "class Solution(object):\n",
    "    def sumOddLengthSubarrays(self, arr):\n",
    "        \"\"\"\n",
    "        :type arr: List[int]\n",
    "        :rtype: int\n",
    "        \"\"\"\n",
    "        total=0\n",
    "        l=len(arr)\n",
    "        for i in range(l):\n",
    "            total += (((i+1)*(l-i) +1)//2)*arr[i]\n",
    "        return total"
   ]
  }
 ],
 "metadata": {
  "kernelspec": {
   "display_name": "Python 3 (ipykernel)",
   "language": "python",
   "name": "python3"
  }
 },
 "nbformat": 4,
 "nbformat_minor": 5
}
