{
 "cells": [
  {
   "cell_type": "code",
   "execution_count": null,
   "id": "09d17795",
   "metadata": {},
   "outputs": [],
   "source": [
    "class Solution(object):\n",
    "    def orderlyQueue(self, s, k):\n",
    "        \"\"\"\n",
    "        :type s: str\n",
    "        :type k: int\n",
    "        :rtype: str\n",
    "        \"\"\"\n",
    "        if k == 1:\n",
    "            # Generate all rotations of the string and find the smallest one\n",
    "            smallest = s\n",
    "            for i in range(1, len(s)):\n",
    "                rotation = s[i:] + s[:i]\n",
    "                if rotation < smallest:\n",
    "                    smallest = rotation\n",
    "            return smallest\n",
    "        else:\n",
    "            # When k > 1, simply return the sorted string\n",
    "            return ''.join(sorted(s))"
   ]
  }
 ],
 "metadata": {
  "kernelspec": {
   "display_name": "Python 3 (ipykernel)",
   "language": "python",
   "name": "python3"
  },
  "language_info": {
   "codemirror_mode": {
    "name": "ipython",
    "version": 3
   },
   "file_extension": ".py",
   "mimetype": "text/x-python",
   "name": "python",
   "nbconvert_exporter": "python",
   "pygments_lexer": "ipython3",
   "version": "3.9.12"
  }
 },
 "nbformat": 4,
 "nbformat_minor": 5
}
