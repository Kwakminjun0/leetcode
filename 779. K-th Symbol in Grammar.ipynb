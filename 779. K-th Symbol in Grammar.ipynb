{
 "cells": [
  {
   "cell_type": "code",
   "execution_count": null,
   "id": "79905660",
   "metadata": {},
   "outputs": [],
   "source": [
    "class Solution(object):\n",
    "    def kthGrammar(self, n, k):\n",
    "        \"\"\"\n",
    "        :type n: int\n",
    "        :type k: int\n",
    "        :rtype: int\n",
    "        \"\"\"\n",
    "        # Base case: If n is 1, there's only one symbol in the row, which is 0\n",
    "        if n == 1:\n",
    "            return 0\n",
    "        \n",
    "        # Calculate the midpoint of the row\n",
    "        mid = 2 ** (n - 1) // 2\n",
    "        \n",
    "        # If k is less than or equal to the midpoint, the symbol is the same as in the (n-1)th row\n",
    "        if k <= mid:\n",
    "            return self.kthGrammar(n - 1, k)\n",
    "        # If k is greater than the midpoint, the symbol needs to be inverted\n",
    "        else:\n",
    "            return 1 - self.kthGrammar(n - 1, k - mid)"
   ]
  }
 ],
 "metadata": {
  "kernelspec": {
   "display_name": "Python 3 (ipykernel)",
   "language": "python",
   "name": "python3"
  },
  "language_info": {
   "codemirror_mode": {
    "name": "ipython",
    "version": 3
   },
   "file_extension": ".py",
   "mimetype": "text/x-python",
   "name": "python",
   "nbconvert_exporter": "python",
   "pygments_lexer": "ipython3",
   "version": "3.9.12"
  }
 },
 "nbformat": 4,
 "nbformat_minor": 5
}
