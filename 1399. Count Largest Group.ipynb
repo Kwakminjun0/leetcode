{
 "cells": [
  {
   "cell_type": "code",
   "execution_count": null,
   "id": "83573849",
   "metadata": {},
   "outputs": [],
   "source": [
    "class Solution(object):\n",
    "    def countLargestGroup(self, n):\n",
    "        \"\"\"\n",
    "        :type n: int\n",
    "        :rtype: int\n",
    "        \"\"\"\n",
    "        from collections import defaultdict\n",
    "\n",
    "        def digit_sum(x):\n",
    "            return sum(int(d) for d in str(x))\n",
    "\n",
    "        # Dictionary to store the count of each digit sum group\n",
    "        sum_groups = defaultdict(int)\n",
    "\n",
    "        for i in range(1, n + 1):\n",
    "            sum_groups[digit_sum(i)] += 1\n",
    "\n",
    "        # Find the maximum group size\n",
    "        max_size = max(sum_groups.values())\n",
    "\n",
    "        # Count the number of groups that have the maximum size\n",
    "        count = sum(1 for size in sum_groups.values() if size == max_size)\n",
    "\n",
    "        return count"
   ]
  }
 ],
 "metadata": {
  "kernelspec": {
   "display_name": "Python 3 (ipykernel)",
   "language": "python",
   "name": "python3"
  },
  "language_info": {
   "codemirror_mode": {
    "name": "ipython",
    "version": 3
   },
   "file_extension": ".py",
   "mimetype": "text/x-python",
   "name": "python",
   "nbconvert_exporter": "python",
   "pygments_lexer": "ipython3",
   "version": "3.9.12"
  }
 },
 "nbformat": 4,
 "nbformat_minor": 5
}
