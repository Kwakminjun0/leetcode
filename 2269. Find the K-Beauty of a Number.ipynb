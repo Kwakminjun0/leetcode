{
 "cells": [
  {
   "cell_type": "code",
   "execution_count": null,
   "id": "962a7afb",
   "metadata": {},
   "outputs": [],
   "source": [
    "class Solution(object):\n",
    "    def divisorSubstrings(self, num, k):\n",
    "        \"\"\"\n",
    "        :type num: int\n",
    "        :type k: int\n",
    "        :rtype: int\n",
    "        \"\"\"\n",
    "        i=0\n",
    "        j=k\n",
    "        c=0\n",
    "        num=eval(str(num))\n",
    "        while j<=len(str(num)):\n",
    "            try:\n",
    "                if num%int(str(num)[i:j])==0:\n",
    "                    c+=1\n",
    "            except ZeroDivisionError:\n",
    "                pass\n",
    "            i+=1\n",
    "            j+=1\n",
    "        return c"
   ]
  }
 ],
 "metadata": {
  "kernelspec": {
   "display_name": "Python 3 (ipykernel)",
   "language": "python",
   "name": "python3"
  },
  "language_info": {
   "codemirror_mode": {
    "name": "ipython",
    "version": 3
   },
   "file_extension": ".py",
   "mimetype": "text/x-python",
   "name": "python",
   "nbconvert_exporter": "python",
   "pygments_lexer": "ipython3",
   "version": "3.9.12"
  }
 },
 "nbformat": 4,
 "nbformat_minor": 5
}
