{
 "cells": [
  {
   "cell_type": "code",
   "execution_count": null,
   "id": "44b566cf",
   "metadata": {},
   "outputs": [],
   "source": [
    "class Solution(object):\n",
    "    def reorderedPowerOf2(self, n):\n",
    "        \"\"\"\n",
    "        :type n: int\n",
    "        :rtype: bool\n",
    "        \"\"\"\n",
    "        def countDigits(num):\n",
    "            return sorted(str(num))\n",
    "        \n",
    "        # Generate all the powers of 2 within the range\n",
    "        power_of_2_digits = [countDigits(1 << i) for i in range(31)]\n",
    "        \n",
    "        # Check the sorted digit representation of n\n",
    "        n_digits = countDigits(n)\n",
    "        \n",
    "        return n_digits in power_of_2_digits\n"
   ]
  }
 ],
 "metadata": {
  "kernelspec": {
   "display_name": "Python 3 (ipykernel)",
   "language": "python",
   "name": "python3"
  },
  "language_info": {
   "codemirror_mode": {
    "name": "ipython",
    "version": 3
   },
   "file_extension": ".py",
   "mimetype": "text/x-python",
   "name": "python",
   "nbconvert_exporter": "python",
   "pygments_lexer": "ipython3",
   "version": "3.9.12"
  }
 },
 "nbformat": 4,
 "nbformat_minor": 5
}
