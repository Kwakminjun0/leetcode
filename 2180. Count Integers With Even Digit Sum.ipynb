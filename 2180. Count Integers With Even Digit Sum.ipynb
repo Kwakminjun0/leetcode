{
 "cells": [
  {
   "cell_type": "code",
   "execution_count": null,
   "id": "526b181f",
   "metadata": {},
   "outputs": [],
   "source": [
    "class Solution(object):\n",
    "    def countEven(self, num):\n",
    "        \"\"\"\n",
    "        :type num: int\n",
    "        :rtype: int\n",
    "        \"\"\"\n",
    "        # Initialize variables\n",
    "        count = 0\n",
    "        dp = [0] * (num + 1)\n",
    "        \n",
    "        # Iterate from 1 to num\n",
    "        for i in range(1, num + 1):\n",
    "            # Calculate digit sum of i\n",
    "            digit_sum = sum(int(d) for d in str(i))\n",
    "            \n",
    "            # Update dp and count\n",
    "            if digit_sum % 2 == 0:\n",
    "                count += 1\n",
    "                dp[i] = dp[i - 1] + 1\n",
    "            else:\n",
    "                dp[i] = dp[i - 1]\n",
    "        \n",
    "        return count"
   ]
  }
 ],
 "metadata": {
  "kernelspec": {
   "display_name": "Python 3 (ipykernel)",
   "language": "python",
   "name": "python3"
  },
  "language_info": {
   "codemirror_mode": {
    "name": "ipython",
    "version": 3
   },
   "file_extension": ".py",
   "mimetype": "text/x-python",
   "name": "python",
   "nbconvert_exporter": "python",
   "pygments_lexer": "ipython3",
   "version": "3.9.12"
  }
 },
 "nbformat": 4,
 "nbformat_minor": 5
}
