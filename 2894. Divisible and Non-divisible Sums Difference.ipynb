{
 "cells": [
  {
   "cell_type": "code",
   "execution_count": null,
   "id": "9e9189f2",
   "metadata": {},
   "outputs": [],
   "source": [
    "class Solution(object):\n",
    "    def differenceOfSums(self, n, m):\n",
    "        \"\"\"\n",
    "        :type n: int\n",
    "        :type m: int\n",
    "        :rtype: int\n",
    "        \"\"\"\n",
    "        num1 = 0\n",
    "        num2 = 0\n",
    "        \n",
    "        for i in range(1, n + 1):\n",
    "            if i % m == 0:\n",
    "                num2 += i\n",
    "            else:\n",
    "                num1 += i\n",
    "        \n",
    "        return num1 - num2"
   ]
  }
 ],
 "metadata": {
  "kernelspec": {
   "display_name": "Python 3 (ipykernel)",
   "language": "python",
   "name": "python3"
  },
  "language_info": {
   "codemirror_mode": {
    "name": "ipython",
    "version": 3
   },
   "file_extension": ".py",
   "mimetype": "text/x-python",
   "name": "python",
   "nbconvert_exporter": "python",
   "pygments_lexer": "ipython3",
   "version": "3.9.12"
  }
 },
 "nbformat": 4,
 "nbformat_minor": 5
}
