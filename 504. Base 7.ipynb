{
 "cells": [
  {
   "cell_type": "code",
   "execution_count": null,
   "id": "a02db78d",
   "metadata": {},
   "outputs": [],
   "source": [
    "class Solution(object):\n",
    "    def convertToBase7(self, num):\n",
    "        \"\"\"\n",
    "        :type num: int\n",
    "        :rtype: str\n",
    "        \"\"\"\n",
    "        if num == 0:\n",
    "            return \"0\"\n",
    "        \n",
    "        is_negative = num < 0\n",
    "        num = abs(num)\n",
    "        \n",
    "        digits = []\n",
    "        while num > 0:\n",
    "            digits.append(str(num % 7))\n",
    "            num //= 7\n",
    "        \n",
    "        if is_negative:\n",
    "            return '-' + ''.join(digits[::-1])\n",
    "        else:\n",
    "            return ''.join(digits[::-1])"
   ]
  }
 ],
 "metadata": {
  "kernelspec": {
   "display_name": "Python 3 (ipykernel)",
   "language": "python",
   "name": "python3"
  },
  "language_info": {
   "codemirror_mode": {
    "name": "ipython",
    "version": 3
   },
   "file_extension": ".py",
   "mimetype": "text/x-python",
   "name": "python",
   "nbconvert_exporter": "python",
   "pygments_lexer": "ipython3",
   "version": "3.9.12"
  }
 },
 "nbformat": 4,
 "nbformat_minor": 5
}
