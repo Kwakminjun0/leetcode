{
 "cells": [
  {
   "cell_type": "code",
   "execution_count": null,
   "id": "bfb24019-8269-4927-b240-63bf9578d82e",
   "metadata": {},
   "outputs": [],
   "source": [
    "class Solution(object):\n",
    "    def isValidSudoku(self, board):\n",
    "        rows = [[] for _ in range(9)]\n",
    "        columns = [[] for _ in range(9)]\n",
    "        box = [[] for _ in range(9)]\n",
    "\n",
    "        for i in range(9):\n",
    "            for j in range(9):\n",
    "                num = board[i][j]\n",
    "                if num != \".\":\n",
    "                    box_index = (i // 3) * 3 + (j // 3)\n",
    "                    if num in rows[i] or num in columns[j] or num in box[box_index]:\n",
    "                        return False\n",
    "                    rows[i].append(num)\n",
    "                    columns[j].append(num)\n",
    "                    box[box_index].append(num)\n",
    "\n",
    "        return True"
   ]
  }
 ],
 "metadata": {
  "kernelspec": {
   "display_name": "Python 3 (ipykernel)",
   "language": "python",
   "name": "python3"
  },
  "language_info": {
   "codemirror_mode": {
    "name": "ipython",
    "version": 3
   },
   "file_extension": ".py",
   "mimetype": "text/x-python",
   "name": "python",
   "nbconvert_exporter": "python",
   "pygments_lexer": "ipython3",
   "version": "3.12.4"
  }
 },
 "nbformat": 4,
 "nbformat_minor": 5
}
