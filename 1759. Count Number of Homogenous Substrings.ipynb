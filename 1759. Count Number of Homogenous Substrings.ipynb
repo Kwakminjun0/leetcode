{
 "cells": [
  {
   "cell_type": "code",
   "execution_count": null,
   "id": "088c31dd",
   "metadata": {},
   "outputs": [],
   "source": [
    "class Solution(object):\n",
    "    def countHomogenous(self, s):\n",
    "        \"\"\"\n",
    "        :type s: str\n",
    "        :rtype: int\n",
    "        \"\"\"\n",
    "        MOD = 10**9 + 7\n",
    "        count = curLen = 1\n",
    "        n = len(s)\n",
    "        \n",
    "        for i in range(1, n):\n",
    "            if s[i] == s[i - 1]:\n",
    "                curLen += 1\n",
    "            else:\n",
    "                curLen = 1\n",
    "            count = (count + curLen) % MOD\n",
    "        \n",
    "        return count"
   ]
  }
 ],
 "metadata": {
  "kernelspec": {
   "display_name": "Python 3 (ipykernel)",
   "language": "python",
   "name": "python3"
  },
  "language_info": {
   "codemirror_mode": {
    "name": "ipython",
    "version": 3
   },
   "file_extension": ".py",
   "mimetype": "text/x-python",
   "name": "python",
   "nbconvert_exporter": "python",
   "pygments_lexer": "ipython3",
   "version": "3.9.12"
  }
 },
 "nbformat": 4,
 "nbformat_minor": 5
}
