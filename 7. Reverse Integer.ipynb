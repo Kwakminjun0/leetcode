{
 "cells": [
  {
   "cell_type": "code",
   "execution_count": null,
   "id": "b49f4e23",
   "metadata": {},
   "outputs": [],
   "source": [
    "class Solution(object):\n",
    "    def reverse(self, x):\n",
    "        \"\"\"\n",
    "        :type x: int\n",
    "        :rtype: int\n",
    "        \"\"\"\n",
    "        INT_MIN, INT_MAX = -2**31, 2**31 - 1\n",
    "        \n",
    "        result = 0\n",
    "        sign = -1 if x < 0 else 1\n",
    "        x = abs(x)\n",
    "        \n",
    "        while x != 0:\n",
    "            digit = x % 10\n",
    "            x //= 10\n",
    "            \n",
    "            # Check for overflow\n",
    "            if (result > (INT_MAX - digit) // 10):\n",
    "                return 0\n",
    "            \n",
    "            result = result * 10 + digit\n",
    "        \n",
    "        return sign * result\n"
   ]
  }
 ],
 "metadata": {
  "kernelspec": {
   "display_name": "Python 3 (ipykernel)",
   "language": "python",
   "name": "python3"
  },
  "language_info": {
   "codemirror_mode": {
    "name": "ipython",
    "version": 3
   },
   "file_extension": ".py",
   "mimetype": "text/x-python",
   "name": "python",
   "nbconvert_exporter": "python",
   "pygments_lexer": "ipython3",
   "version": "3.9.12"
  }
 },
 "nbformat": 4,
 "nbformat_minor": 5
}
