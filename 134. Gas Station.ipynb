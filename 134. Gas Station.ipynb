{
 "cells": [
  {
   "cell_type": "code",
   "execution_count": null,
   "id": "fc26ab6e-6422-4677-a96b-ebd264ea9697",
   "metadata": {},
   "outputs": [],
   "source": [
    "class Solution(object):\n",
    "    def canCompleteCircuit(self, gas, cost):\n",
    "        if sum(gas) < sum(cost): return -1\n",
    "        tank = [0] * len(gas)  # If starting from station 0, tank after arriving at each station\n",
    "        for i in range(1, len(gas)): tank[i] = tank[i - 1] + gas[i - 1] - cost[i - 1]\n",
    "        return tank.index(min(tank))  # the smallest negative number reflects the largest gap, we start from it greedily\n",
    "        "
   ]
  }
 ],
 "metadata": {
  "kernelspec": {
   "display_name": "Python 3 (ipykernel)",
   "language": "python",
   "name": "python3"
  },
  "language_info": {
   "codemirror_mode": {
    "name": "ipython",
    "version": 3
   },
   "file_extension": ".py",
   "mimetype": "text/x-python",
   "name": "python",
   "nbconvert_exporter": "python",
   "pygments_lexer": "ipython3",
   "version": "3.12.4"
  }
 },
 "nbformat": 4,
 "nbformat_minor": 5
}
