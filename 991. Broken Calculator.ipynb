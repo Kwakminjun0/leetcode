{
 "cells": [
  {
   "cell_type": "code",
   "execution_count": null,
   "id": "3ad4c202",
   "metadata": {},
   "outputs": [],
   "source": [
    "class Solution(object):\n",
    "    def brokenCalc(self, startValue, target):\n",
    "        \"\"\"\n",
    "        :type startValue: int\n",
    "        :type target: int\n",
    "        :rtype: int\n",
    "        \"\"\"\n",
    "        operations = 0\n",
    "        \n",
    "        while target > startValue:\n",
    "            # If target is even, divide it by 2\n",
    "            if target % 2 == 0:\n",
    "                target //= 2\n",
    "            # If target is odd, add 1 to it (which effectively doubles it and then adds 1)\n",
    "            else:\n",
    "                target += 1\n",
    "            operations += 1\n",
    "        \n",
    "        # After reaching a value less than or equal to startValue, we only need to decrement\n",
    "        operations += startValue - target\n",
    "        \n",
    "        return operations"
   ]
  }
 ],
 "metadata": {
  "kernelspec": {
   "display_name": "Python 3 (ipykernel)",
   "language": "python",
   "name": "python3"
  },
  "language_info": {
   "codemirror_mode": {
    "name": "ipython",
    "version": 3
   },
   "file_extension": ".py",
   "mimetype": "text/x-python",
   "name": "python",
   "nbconvert_exporter": "python",
   "pygments_lexer": "ipython3",
   "version": "3.9.12"
  }
 },
 "nbformat": 4,
 "nbformat_minor": 5
}
