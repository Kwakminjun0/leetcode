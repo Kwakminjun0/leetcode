{
 "cells": [
  {
   "cell_type": "code",
   "execution_count": null,
   "id": "ff9c1a80",
   "metadata": {},
   "outputs": [],
   "source": [
    "class Solution(object):\n",
    "    def oddCells(self, m, n, indices):\n",
    "        \"\"\"\n",
    "        :type m: int\n",
    "        :type n: int\n",
    "        :type indices: List[List[int]]\n",
    "        :rtype: int\n",
    "        \"\"\"\n",
    "        matrix = [[0] * n for _ in range(m)]\n",
    "        \n",
    "        for ri, ci in indices:\n",
    "            for j in range(n):\n",
    "                matrix[ri][j] += 1\n",
    "            for i in range(m):\n",
    "                matrix[i][ci] += 1\n",
    "        \n",
    "        count = 0\n",
    "        for row in matrix:\n",
    "            for cell in row:\n",
    "                if cell % 2 != 0:\n",
    "                    count += 1\n",
    "        \n",
    "        return count"
   ]
  }
 ],
 "metadata": {
  "kernelspec": {
   "display_name": "Python 3 (ipykernel)",
   "language": "python",
   "name": "python3"
  },
  "language_info": {
   "codemirror_mode": {
    "name": "ipython",
    "version": 3
   },
   "file_extension": ".py",
   "mimetype": "text/x-python",
   "name": "python",
   "nbconvert_exporter": "python",
   "pygments_lexer": "ipython3",
   "version": "3.9.12"
  }
 },
 "nbformat": 4,
 "nbformat_minor": 5
}
