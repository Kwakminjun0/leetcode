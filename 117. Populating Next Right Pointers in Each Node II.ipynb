{
 "cells": [
  {
   "cell_type": "code",
   "execution_count": null,
   "id": "84d9cfd1-5619-4796-9454-dd92e06433f9",
   "metadata": {},
   "outputs": [],
   "source": [
    "class Solution(object):\n",
    "    def connect(self, root):\n",
    "        if not root:\n",
    "            return \n",
    "        q = [root]\n",
    "        while len(q) > 0:\n",
    "            l = len(q)\n",
    "            x = Node(0)\n",
    "            for _ in range(l):\n",
    "                r = q.pop(0)\n",
    "                x.next = r\n",
    "                x = x.next\n",
    "                if r.left:\n",
    "                    q.append(r.left)\n",
    "                if r.right:\n",
    "                    q.append(r.right)\n",
    "            x.next = None\n",
    "        return root\n",
    "        "
   ]
  }
 ],
 "metadata": {
  "kernelspec": {
   "display_name": "Python 3 (ipykernel)",
   "language": "python",
   "name": "python3"
  },
  "language_info": {
   "codemirror_mode": {
    "name": "ipython",
    "version": 3
   },
   "file_extension": ".py",
   "mimetype": "text/x-python",
   "name": "python",
   "nbconvert_exporter": "python",
   "pygments_lexer": "ipython3",
   "version": "3.12.4"
  }
 },
 "nbformat": 4,
 "nbformat_minor": 5
}
