{
 "cells": [
  {
   "cell_type": "code",
   "execution_count": null,
   "id": "8d59a771",
   "metadata": {},
   "outputs": [],
   "source": [
    "class Solution:\n",
    "    def minCostToMoveChips(self, position):\n",
    "        # 짝수와 홀수 위치에 있는 칩의 수를 센다.\n",
    "        odd_count = sum(1 for pos in position if pos % 2 != 0)\n",
    "        even_count = len(position) - odd_count\n",
    "        \n",
    "        # 짝수 위치로 옮기거나 홀수 위치로 옮기는 비용 중 작은 값을 반환한다.\n",
    "        return min(odd_count, even_count)"
   ]
  }
 ],
 "metadata": {
  "kernelspec": {
   "display_name": "Python 3 (ipykernel)",
   "language": "python",
   "name": "python3"
  },
  "language_info": {
   "codemirror_mode": {
    "name": "ipython",
    "version": 3
   },
   "file_extension": ".py",
   "mimetype": "text/x-python",
   "name": "python",
   "nbconvert_exporter": "python",
   "pygments_lexer": "ipython3",
   "version": "3.9.12"
  }
 },
 "nbformat": 4,
 "nbformat_minor": 5
}
