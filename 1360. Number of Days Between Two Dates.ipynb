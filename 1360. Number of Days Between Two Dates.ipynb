{
 "cells": [
  {
   "cell_type": "code",
   "execution_count": null,
   "id": "3d97848d",
   "metadata": {},
   "outputs": [],
   "source": [
    "from datetime import datetime\n",
    "\n",
    "class Solution:\n",
    "    def daysBetweenDates(self, date1, date2):\n",
    "        \"\"\"\n",
    "        :type date1: str\n",
    "        :type date2: str\n",
    "        :rtype: int\n",
    "        \"\"\"\n",
    "        # Convert the date strings to datetime.date objects\n",
    "        d1 = datetime.strptime(date1, \"%Y-%m-%d\").date()\n",
    "        d2 = datetime.strptime(date2, \"%Y-%m-%d\").date()\n",
    "        \n",
    "        # Calculate the difference in days\n",
    "        delta = abs((d2 - d1).days)\n",
    "        \n",
    "        return delta"
   ]
  }
 ],
 "metadata": {
  "kernelspec": {
   "display_name": "Python 3 (ipykernel)",
   "language": "python",
   "name": "python3"
  },
  "language_info": {
   "codemirror_mode": {
    "name": "ipython",
    "version": 3
   },
   "file_extension": ".py",
   "mimetype": "text/x-python",
   "name": "python",
   "nbconvert_exporter": "python",
   "pygments_lexer": "ipython3",
   "version": "3.9.12"
  }
 },
 "nbformat": 4,
 "nbformat_minor": 5
}
