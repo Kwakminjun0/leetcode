{
 "cells": [
  {
   "cell_type": "code",
   "execution_count": null,
   "id": "2a2bd338",
   "metadata": {},
   "outputs": [],
   "source": [
    "class Solution(object):\n",
    "    def arraySign(self, nums):\n",
    "        \"\"\"\n",
    "        :type nums: List[int]\n",
    "        :rtype: int\n",
    "        \"\"\"\n",
    "        product = 1\n",
    "        \n",
    "        for num in nums:\n",
    "            product *= num\n",
    "        \n",
    "        if product > 0:\n",
    "            return 1\n",
    "        elif product < 0:\n",
    "            return -1\n",
    "        else:\n",
    "            return 0\n"
   ]
  }
 ],
 "metadata": {
  "kernelspec": {
   "display_name": "Python 3 (ipykernel)",
   "language": "python",
   "name": "python3"
  },
  "language_info": {
   "codemirror_mode": {
    "name": "ipython",
    "version": 3
   },
   "file_extension": ".py",
   "mimetype": "text/x-python",
   "name": "python",
   "nbconvert_exporter": "python",
   "pygments_lexer": "ipython3",
   "version": "3.9.12"
  }
 },
 "nbformat": 4,
 "nbformat_minor": 5
}
