{
 "cells": [
  {
   "cell_type": "code",
   "execution_count": null,
   "id": "254deeef",
   "metadata": {},
   "outputs": [],
   "source": [
    "class Solution(object):\n",
    "    def addToArrayForm(self, num, k):\n",
    "        \"\"\"\n",
    "        :type num: List[int]\n",
    "        :type k: int\n",
    "        :rtype: List[int]\n",
    "        \"\"\"\n",
    "        result = []\n",
    "        carry = 0\n",
    "        i = len(num) - 1\n",
    "        \n",
    "        while i >= 0 or k > 0:\n",
    "            if i >= 0:\n",
    "                carry += num[i]\n",
    "            if k > 0:\n",
    "                carry += k % 10\n",
    "                k //= 10\n",
    "            result.append(carry % 10)\n",
    "            carry //= 10\n",
    "            i -= 1\n",
    "        \n",
    "        if carry:\n",
    "            result.append(carry)\n",
    "        \n",
    "        return result[::-1]"
   ]
  }
 ],
 "metadata": {
  "kernelspec": {
   "display_name": "Python 3 (ipykernel)",
   "language": "python",
   "name": "python3"
  },
  "language_info": {
   "codemirror_mode": {
    "name": "ipython",
    "version": 3
   },
   "file_extension": ".py",
   "mimetype": "text/x-python",
   "name": "python",
   "nbconvert_exporter": "python",
   "pygments_lexer": "ipython3",
   "version": "3.9.12"
  }
 },
 "nbformat": 4,
 "nbformat_minor": 5
}
