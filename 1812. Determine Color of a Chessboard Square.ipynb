{
 "cells": [
  {
   "cell_type": "code",
   "execution_count": null,
   "id": "3b7ae663",
   "metadata": {},
   "outputs": [],
   "source": [
    "class Solution(object):\n",
    "    def squareIsWhite(self, coordinates):\n",
    "        \"\"\"\n",
    "        :type coordinates: str\n",
    "        :rtype: bool\n",
    "        \"\"\"\n",
    "        letter = coordinates[0]\n",
    "        number = int(coordinates[1])\n",
    "        # Check if the letter and number are both odd or both even\n",
    "        if (ord(letter) - ord('a') + 1) % 2 == number % 2:\n",
    "            return False  # Black square\n",
    "        else:\n",
    "            return True   # White square\n"
   ]
  }
 ],
 "metadata": {
  "kernelspec": {
   "display_name": "Python 3 (ipykernel)",
   "language": "python",
   "name": "python3"
  },
  "language_info": {
   "codemirror_mode": {
    "name": "ipython",
    "version": 3
   },
   "file_extension": ".py",
   "mimetype": "text/x-python",
   "name": "python",
   "nbconvert_exporter": "python",
   "pygments_lexer": "ipython3",
   "version": "3.9.12"
  }
 },
 "nbformat": 4,
 "nbformat_minor": 5
}
