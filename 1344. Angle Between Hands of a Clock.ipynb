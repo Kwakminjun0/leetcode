{
 "cells": [
  {
   "cell_type": "code",
   "execution_count": null,
   "id": "11dcf1a1",
   "metadata": {},
   "outputs": [],
   "source": [
    "class Solution(object):\n",
    "    def angleClock(self, hour, minutes):\n",
    "        \"\"\"\n",
    "        :type hour: int\n",
    "        :type minutes: int\n",
    "        :rtype: float\n",
    "        \"\"\"\n",
    "        # Calculate the position of the minute hand\n",
    "        minute_angle = minutes * 6\n",
    "        \n",
    "        # Calculate the position of the hour hand\n",
    "        hour_angle = (hour % 12) * 30 + minutes * 0.5\n",
    "        \n",
    "        # Calculate the absolute difference between the two angles\n",
    "        angle = abs(hour_angle - minute_angle)\n",
    "        \n",
    "        # The smaller angle between the two possible angles\n",
    "        return min(angle, 360 - angle)"
   ]
  }
 ],
 "metadata": {
  "kernelspec": {
   "display_name": "Python 3 (ipykernel)",
   "language": "python",
   "name": "python3"
  },
  "language_info": {
   "codemirror_mode": {
    "name": "ipython",
    "version": 3
   },
   "file_extension": ".py",
   "mimetype": "text/x-python",
   "name": "python",
   "nbconvert_exporter": "python",
   "pygments_lexer": "ipython3",
   "version": "3.9.12"
  }
 },
 "nbformat": 4,
 "nbformat_minor": 5
}
