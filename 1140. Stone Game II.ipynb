{
 "cells": [
  {
   "cell_type": "code",
   "execution_count": null,
   "id": "e586185f",
   "metadata": {},
   "outputs": [],
   "source": [
    "class Solution(object):\n",
    "    def stoneGameII(self, piles):\n",
    "        \"\"\"\n",
    "        :type piles: List[int]\n",
    "        :rtype: int\n",
    "        \"\"\"\n",
    "        n = len(piles)\n",
    "        # Create a suffix sum array to calculate the total stones from i to the end\n",
    "        suffix_sum = [0] * n\n",
    "        suffix_sum[-1] = piles[-1]\n",
    "        for i in range(n-2, -1, -1):\n",
    "            suffix_sum[i] = piles[i] + suffix_sum[i+1]\n",
    "        \n",
    "        # Memoization table\n",
    "        memo = {}\n",
    "\n",
    "        def dp(i, m):\n",
    "            if i >= n:\n",
    "                return 0\n",
    "            if (i, m) in memo:\n",
    "                return memo[(i, m)]\n",
    "            max_stones = 0\n",
    "            for x in range(1, 2 * m + 1):\n",
    "                if i + x > n:\n",
    "                    break\n",
    "                max_stones = max(max_stones, suffix_sum[i] - dp(i + x, max(m, x)))\n",
    "            memo[(i, m)] = max_stones\n",
    "            return max_stones\n",
    "        \n",
    "        return dp(0, 1)"
   ]
  }
 ],
 "metadata": {
  "kernelspec": {
   "display_name": "Python 3 (ipykernel)",
   "language": "python",
   "name": "python3"
  },
  "language_info": {
   "codemirror_mode": {
    "name": "ipython",
    "version": 3
   },
   "file_extension": ".py",
   "mimetype": "text/x-python",
   "name": "python",
   "nbconvert_exporter": "python",
   "pygments_lexer": "ipython3",
   "version": "3.9.12"
  }
 },
 "nbformat": 4,
 "nbformat_minor": 5
}
