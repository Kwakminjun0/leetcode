{
 "cells": [
  {
   "cell_type": "code",
   "execution_count": null,
   "id": "7893c54c-26a7-4406-8f70-28657e3938ba",
   "metadata": {},
   "outputs": [],
   "source": [
    "class Solution(object):\n",
    "    def isInterleave(self, s1, s2, s3):\n",
    "        \"\"\"\n",
    "        :type s1: str\n",
    "        :type s2: str\n",
    "        :type s3: str\n",
    "        :rtype: bool\n",
    "        \"\"\"\n",
    "        if len(s1) + len(s2) != len(s3):\n",
    "            return False\n",
    "    \n",
    "        dp = [[False] * (len(s2) + 1) for _ in range(len(s1) + 1)]\n",
    "        \n",
    "        dp[0][0] = True\n",
    "        \n",
    "        for i in range(len(s1) + 1):\n",
    "            for j in range(len(s2) + 1):\n",
    "                if i > 0 and s1[i - 1] == s3[i + j - 1]:\n",
    "                    dp[i][j] |= dp[i - 1][j]\n",
    "                if j > 0 and s2[j - 1] == s3[i + j - 1]:\n",
    "                    dp[i][j] |= dp[i][j - 1]\n",
    "                    \n",
    "        return dp[len(s1)][len(s2)]\n"
   ]
  }
 ],
 "metadata": {
  "kernelspec": {
   "display_name": "Python 3 (ipykernel)",
   "language": "python",
   "name": "python3"
  },
  "language_info": {
   "codemirror_mode": {
    "name": "ipython",
    "version": 3
   },
   "file_extension": ".py",
   "mimetype": "text/x-python",
   "name": "python",
   "nbconvert_exporter": "python",
   "pygments_lexer": "ipython3",
   "version": "3.12.4"
  }
 },
 "nbformat": 4,
 "nbformat_minor": 5
}
