{
 "cells": [
  {
   "cell_type": "code",
   "execution_count": null,
   "id": "dd4d2c45-bdf4-44f0-b20b-f42a8df4ad50",
   "metadata": {},
   "outputs": [],
   "source": [
    "class Solution(object):\n",
    "    def twoSum(list, nums, target):\n",
    "        \n",
    "        \"\"\"\n",
    "        :type nums: List[int]\n",
    "        :type target: int\n",
    "        :rtype: List[int]\n",
    "        \"\"\"\n",
    "        num_to_index = {}\n",
    "        for index, num in enumerate(nums):\n",
    "            complement = target - num\n",
    "            if complement in num_to_index:\n",
    "                return [num_to_index[complement], index]\n",
    "            num_to_index[num] = index\n",
    "        return []\n",
    "\n"
   ]
  }
 ],
 "metadata": {
  "kernelspec": {
   "display_name": "Python 3 (ipykernel)",
   "language": "python",
   "name": "python3"
  },
  "language_info": {
   "codemirror_mode": {
    "name": "ipython",
    "version": 3
   },
   "file_extension": ".py",
   "mimetype": "text/x-python",
   "name": "python",
   "nbconvert_exporter": "python",
   "pygments_lexer": "ipython3",
   "version": "3.12.4"
  }
 },
 "nbformat": 4,
 "nbformat_minor": 5
}
