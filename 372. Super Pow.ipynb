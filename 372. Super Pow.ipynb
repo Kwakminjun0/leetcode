{
 "cells": [
  {
   "cell_type": "code",
   "execution_count": null,
   "id": "f996f474",
   "metadata": {},
   "outputs": [],
   "source": [
    "class Solution(object):\n",
    "    def superPow(self, a, b):\n",
    "        \"\"\"\n",
    "        :type a: int\n",
    "        :type b: List[int]\n",
    "        :rtype: int\n",
    "        \"\"\"\n",
    "        def modExp(base, exponent, mod):\n",
    "            result = 1\n",
    "            base = base % mod\n",
    "            while exponent > 0:\n",
    "                if (exponent % 2) == 1:  # If exponent is odd, multiply base with result\n",
    "                    result = (result * base) % mod\n",
    "                exponent = exponent >> 1  # Divide the exponent by 2\n",
    "                base = (base * base) % mod  # Square the base\n",
    "            return result\n",
    "        \n",
    "        def superPowHelper(a, b, mod):\n",
    "            if not b:\n",
    "                return 1\n",
    "            last_digit = b.pop()\n",
    "            part1 = modExp(a, last_digit, mod)\n",
    "            part2 = modExp(superPowHelper(a, b, mod), 10, mod)\n",
    "            return (part1 * part2) % mod\n",
    "\n",
    "        return superPowHelper(a, b, 1337)\n",
    "        "
   ]
  }
 ],
 "metadata": {
  "kernelspec": {
   "display_name": "Python 3 (ipykernel)",
   "language": "python",
   "name": "python3"
  },
  "language_info": {
   "codemirror_mode": {
    "name": "ipython",
    "version": 3
   },
   "file_extension": ".py",
   "mimetype": "text/x-python",
   "name": "python",
   "nbconvert_exporter": "python",
   "pygments_lexer": "ipython3",
   "version": "3.9.12"
  }
 },
 "nbformat": 4,
 "nbformat_minor": 5
}
