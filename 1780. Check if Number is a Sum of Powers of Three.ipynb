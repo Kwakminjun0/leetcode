{
 "cells": [
  {
   "cell_type": "code",
   "execution_count": null,
   "id": "6e354a57",
   "metadata": {},
   "outputs": [],
   "source": [
    "class Solution(object):\n",
    "    def checkPowersOfThree(self, n):\n",
    "        \"\"\"\n",
    "        :type n: int\n",
    "        :rtype: bool\n",
    "        \"\"\"\n",
    "        # Start from the largest power of three\n",
    "        power = 0\n",
    "        while 3 ** power <= n:\n",
    "            power += 1\n",
    "        \n",
    "        # Iterate downwards from the largest power of three\n",
    "        while power >= 0:\n",
    "            # Subtract the largest power of three less than or equal to n\n",
    "            if 3 ** power <= n:\n",
    "                n -= 3 ** power\n",
    "                # If n becomes 0, return True\n",
    "                if n == 0:\n",
    "                    return True\n",
    "            power -= 1"
   ]
  }
 ],
 "metadata": {
  "kernelspec": {
   "display_name": "Python 3 (ipykernel)",
   "language": "python",
   "name": "python3"
  },
  "language_info": {
   "codemirror_mode": {
    "name": "ipython",
    "version": 3
   },
   "file_extension": ".py",
   "mimetype": "text/x-python",
   "name": "python",
   "nbconvert_exporter": "python",
   "pygments_lexer": "ipython3",
   "version": "3.9.12"
  }
 },
 "nbformat": 4,
 "nbformat_minor": 5
}
