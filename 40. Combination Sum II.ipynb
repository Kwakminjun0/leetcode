{
 "cells": [
  {
   "cell_type": "code",
   "execution_count": null,
   "id": "c9fffe1c-2f40-4de3-9f17-02c22cb799e3",
   "metadata": {},
   "outputs": [],
   "source": [
    "class Solution(object):\n",
    "    def combinationSum2(self, candidates, target):\n",
    "        \"\"\"\n",
    "        :type candidates: List[int]\n",
    "        :type target: int\n",
    "        :rtype: List[List[int]]\n",
    "        \"\"\"\n",
    "        ans = []\n",
    "        candidates.sort()\n",
    "        def dfs(s, candidates, target, path, ans):\n",
    "            if target < 0:\n",
    "                return \n",
    "            if target == 0:\n",
    "                ans.append([x for x in path])\n",
    "                return\n",
    "            for i in range(s, len(candidates)):\n",
    "                if i > s and candidates[i] == candidates[i - 1]:\n",
    "                    continue\n",
    "                path.append(candidates[i])\n",
    "                dfs(i + 1, candidates, target - candidates[i], path, ans)\n",
    "                path.pop()\n",
    "\n",
    "        dfs(0, candidates, target, [], ans)\n",
    "        return ans\n",
    "        "
   ]
  }
 ],
 "metadata": {
  "kernelspec": {
   "display_name": "Python 3 (ipykernel)",
   "language": "python",
   "name": "python3"
  },
  "language_info": {
   "codemirror_mode": {
    "name": "ipython",
    "version": 3
   },
   "file_extension": ".py",
   "mimetype": "text/x-python",
   "name": "python",
   "nbconvert_exporter": "python",
   "pygments_lexer": "ipython3",
   "version": "3.12.4"
  }
 },
 "nbformat": 4,
 "nbformat_minor": 5
}
